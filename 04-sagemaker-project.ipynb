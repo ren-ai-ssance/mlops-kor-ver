{
 "cells": [
  {
   "cell_type": "markdown",
   "id": "6eb825bb-e3c2-4838-b73c-528e1fc25735",
   "metadata": {},
   "source": [
    "# Step 4: Add a model building CI/CD pipeline\n",
    "\n",
    "In this step you create an automated CI/CD pipeline for model building using [Amazon SageMaker Projects](https://docs.aws.amazon.com/sagemaker/latest/dg/sagemaker-projects.html). \n",
    "\n",
    "**From idea to production in six steps:**\n",
    "||||\n",
    "|---|---|---|\n",
    "|1. |Experiment in a notebook ||\n",
    "|2. |Scale with SageMaker AI processing jobs and SageMaker SDK ||\n",
    "|3. |Operationalize with ML pipeline, model registry, and feature store ||\n",
    "|4. |Add a model building CI/CD pipeline |**<<<< YOU ARE HERE**|\n",
    "|5. |Add a model deployment pipeline ||\n",
    "|6. |Add model and data monitoring ||\n",
    "\n",
    "You are going to use [SageMaker AI-Provided Project Templates](https://docs.aws.amazon.com/sagemaker/latest/dg/sagemaker-projects-templates-sm.html#sagemaker-projects-templates-code-commit) to provision a CI/CD workflow automation with [AWS CodePipeline](https://aws.amazon.com/codepipeline/) and a GitHub code repository.\n",
    "\n",
    "SageMaker project templates offer you the following choice of code repositories, workflow automation tools, and pipeline stages:\n",
    "- **Code repository**: Third-party Git repositories such as GitHub and Bitbucket are supported\n",
    "- **CI/CD workflow automation**: AWS CodePipeline or Jenkins\n",
    "- **Pipeline stages**: Model building, training, and deployment"
   ]
  },
  {
   "cell_type": "markdown",
   "id": "2624cc9a-7319-4094-8af5-f5cc2baa45d0",
   "metadata": {},
   "source": [
    "# Step 4: 모델 구축 CI/CD 파이프라인 추가\n",
    "\n",
    "이 단계에서는 [Amazon SageMaker Projects](https://docs.aws.amazon.com/sagemaker/latest/dg/sagemaker-projects.html)를 사용하여 모델 구축을 위한 자동화된 CI/CD 파이프라인을 생성합니다.\n",
    "\n",
    "**아이디어에서 프로덕션까지 여섯 단계:**\n",
    "||||\n",
    "|---|---|---|\n",
    "|1. |노트북에서 실험 ||\n",
    "|2. |SageMaker AI 처리 작업과 SageMaker SDK로 확장 ||\n",
    "|3. |ML 파이프라인, 모델 레지스트리, 피처 스토어로 운영화 ||\n",
    "|4. |모델 구축 CI/CD 파이프라인 추가 |**<<<< 현재 위치**|\n",
    "|5. |모델 배포 파이프라인 추가 ||\n",
    "|6. |모델 및 데이터 모니터링 추가 ||\n",
    "\n",
    "[SageMaker AI 제공 프로젝트 템플릿](https://docs.aws.amazon.com/sagemaker/latest/dg/sagemaker-projects-templates-sm.html#sagemaker-projects-templates-code-commit)을 사용하여 [AWS CodePipeline](https://aws.amazon.com/codepipeline/)과 GitHub 코드 저장소를 통한 CI/CD 워크플로우 자동화를 구축할 것입니다.\n",
    "\n",
    "SageMaker 프로젝트 템플릿은 다음과 같은 코드 저장소, 워크플로우 자동화 도구, 파이프라인 단계를 선택할 수 있습니다:\n",
    "- **코드 저장소**: GitHub, Bitbucket 등의 서드파티 Git 저장소 지원\n",
    "- **CI/CD 워크플로우 자동화**: AWS CodePipeline 또는 Jenkins\n",
    "- **파이프라인 단계**: 모델 구축, 학습, 배포"
   ]
  },
  {
   "cell_type": "markdown",
   "id": "e4460e1c-54dd-4131-8ea1-b64c87d1bf81",
   "metadata": {
    "tags": []
   },
   "source": [
    "<div class=\"alert alert-info\"> Make sure you using <code>Python 3</code> kernel in JupyterLab for this notebook.</div>"
   ]
  },
  {
   "cell_type": "code",
   "execution_count": 94,
   "id": "42102a0b-a706-43b3-9f23-59f7084123f1",
   "metadata": {
    "tags": []
   },
   "outputs": [],
   "source": [
    "import boto3\n",
    "import sagemaker \n",
    "import json\n",
    "from time import gmtime, strftime, sleep\n",
    "from IPython.display import HTML"
   ]
  },
  {
   "cell_type": "code",
   "execution_count": 7,
   "id": "7c0dd762-ba2a-4141-b937-80cfccf98faf",
   "metadata": {
    "tags": []
   },
   "outputs": [
    {
     "name": "stdout",
     "output_type": "stream",
     "text": [
      "Stored variables and their in-db values:\n",
      "baseline_s3_url                         -> 's3://sagemaker-us-east-1-906545278380/from-idea-t\n",
      "bucket_name                             -> 'sagemaker-us-east-1-906545278380'\n",
      "bucket_prefix                           -> 'from-idea-to-prod/xgboost'\n",
      "dataset_feature_group_name              -> 'from-idea-to-prod-12-06-30-53'\n",
      "dataset_file_local_path                 -> 'data/bank-additional/bank-additional-full.csv'\n",
      "domain_id                               -> 'd-igloxuzrs3z2'\n",
      "evaluation_s3_url                       -> 's3://sagemaker-us-east-1-906545278380/from-idea-t\n",
      "experiment_name                         -> 'from-idea-to-prod-experiment-11-21-33-07'\n",
      "feature_store_bucket_prefix             -> 'from-idea-to-prod/feature-store'\n",
      "initialized                             -> True\n",
      "input_s3_url                            -> 's3://sagemaker-us-east-1-906545278380/from-idea-t\n",
      "mlflow_arn                              -> 'arn:aws:sagemaker:us-east-1:906545278380:mlflow-t\n",
      "mlflow_name                             -> 'test-mlflow'\n",
      "model_package_group_name                -> 'from-idea-to-prod-pipeline-model-12-06-30-22'\n",
      "output_s3_url                           -> 's3://sagemaker-us-east-1-906545278380/from-idea-t\n",
      "pipeline_name                           -> 'from-idea-to-prod-pipeline-12-06-30-22'\n",
      "prediction_baseline_s3_url              -> 's3://sagemaker-us-east-1-906545278380/from-idea-t\n",
      "region                                  -> 'us-east-1'\n",
      "sm_image                                -> 'arn:aws:sagemaker:us-east-1:885854791233:image/sa\n",
      "sm_image_version                        -> '2.3.0'\n",
      "sm_role                                 -> 'arn:aws:iam::906545278380:role/mlops-workshop-dom\n",
      "space_name                              -> 'mlops-workshop-update'\n",
      "target_col                              -> 'y'\n",
      "test_s3_url                             -> 's3://sagemaker-us-east-1-906545278380/from-idea-t\n",
      "train_s3_url                            -> 's3://sagemaker-us-east-1-906545278380/from-idea-t\n",
      "training_job_name                       -> 'from-idea-to-prod-training-2025-02-11-14-33-37-00\n",
      "user_profile_name                       -> 'studio-user-fb6d0370'\n",
      "validation_s3_url                       -> 's3://sagemaker-us-east-1-906545278380/from-idea-t\n"
     ]
    }
   ],
   "source": [
    "%store -r \n",
    "\n",
    "%store\n",
    "\n",
    "try:\n",
    "    initialized\n",
    "except NameError:\n",
    "    print(\"+++++++++++++++++++++++++++++++++++++++++++++++++\")\n",
    "    print(\"[ERROR] YOU HAVE TO RUN 00-start-here notebook   \")\n",
    "    print(\"+++++++++++++++++++++++++++++++++++++++++++++++++\")"
   ]
  },
  {
   "cell_type": "code",
   "execution_count": 3,
   "id": "ceeab4df-a741-4b5d-893b-637a558d5cfa",
   "metadata": {},
   "outputs": [],
   "source": [
    "%load_ext autoreload\n",
    "%autoreload 2"
   ]
  },
  {
   "cell_type": "code",
   "execution_count": 4,
   "id": "75a037d8-23fd-4b2e-9687-af36395751b4",
   "metadata": {},
   "outputs": [],
   "source": [
    "sm = boto3.client(\"sagemaker\")"
   ]
  },
  {
   "cell_type": "markdown",
   "id": "aaeaa68c-a2aa-4da5-8577-42d7dff2067a",
   "metadata": {},
   "source": [
    "## Create an MLOps project"
   ]
  },
  {
   "cell_type": "markdown",
   "id": "c57f2395-60ec-4858-9717-5ccf82848d6c",
   "metadata": {},
   "source": [
    "### Preparation\n",
    "\n",
    "<div class=\"alert alert-info\"><b>Prerequisites:</b> You need to establish the AWS CodeStar connection from your AWS account to your GitHub user or organization as described below.<br/><b>Add a tag with the key <code>sagemaker</code> and value <code>true</code> to this AWS CodeStar connection.</b></div>\n",
    "\n",
    "For the detailed instructions see [Walk Through a SageMaker AI MLOps Project Using Third-party Git Repos](https://docs.aws.amazon.com/sagemaker/latest/dg/sagemaker-projects-walkthrough-3rdgit.html) in the SageMaker Developer Guide."
   ]
  },
  {
   "cell_type": "markdown",
   "id": "510aeaa1-eb32-4ef4-bf38-86219e9d9d59",
   "metadata": {},
   "source": [
    "### 준비\n",
    "\n",
    "<div class=\"alert alert-info\"><b>전제 조건:</b> 아래 설명된 대로 AWS 계정에서 GitHub 사용자 또는 조직으로의 AWS CodeStar 연결을 설정해야 합니다.<br/><b>이 AWS CodeStar 연결에 키가 <code>sagemaker</code>이고 값이 <code>true</code>인 태그를 추가하세요.</b></div>\n",
    "\n",
    "자세한 지침은 SageMaker 개발자 가이드의 [서드파티 Git 저장소를 사용한 SageMaker AI MLOps 프로젝트 실습](https://docs.aws.amazon.com/sagemaker/latest/dg/sagemaker-projects-walkthrough-3rdgit.html)을 참조하세요.\n",
    "\n",
    "주요 준비사항:\n",
    "1. AWS CodeStar와 GitHub 연동 설정\n",
    "2. 필수 태그 추가 (sagemaker: true)\n",
    "3. 개발자 가이드의 상세 지침 참조\n",
    "4. 연결 설정 확인\n",
    "\n",
    "이러한 준비 과정은 CI/CD 파이프라인 구축의 기초가 됩니다."
   ]
  },
  {
   "cell_type": "markdown",
   "id": "7df019f8-708c-4c44-89ca-7f90d2e1aebb",
   "metadata": {},
   "source": [
    "<div class=\"alert alert-info\">You need to create two new empty private repositories in your GitHub account. One repository is for model build pipeline and another one for the model deploy pipeline. For example, you can name the repositories <code>sagemaker-ai-model-build</code> and <code>sagemaker-ai-model-deploy</code></div>"
   ]
  },
  {
   "cell_type": "markdown",
   "id": "79a8c7a8-02c9-44fe-8522-209982aa8c50",
   "metadata": {},
   "source": [
    "<div class=\"alert alert-info\">GitHub 계정에 두 개의 새로운 빈 프라이빗 저장소를 생성해야 합니다. 하나는 모델 빌드 파이프라인용이고 다른 하나는 모델 배포 파이프라인용입니다. 예를 들어, 저장소 이름을 <code>sagemaker-ai-model-build</code>와 <code>sagemaker-ai-model-deploy</code>로 지정할 수 있습니다.</div>\n",
    "\n",
    "주요 내용:\n",
    "1. 두 개의 별도 GitHub 저장소 필요\n",
    "   - 모델 빌드용 저장소\n",
    "   - 모델 배포용 저장소\n",
    "2. 저장소 특성\n",
    "   - 프라이빗 저장소여야 함\n",
    "   - 초기에는 비어있어야 함\n",
    "3. 권장 저장소 이름\n",
    "   - `sagemaker-ai-model-build`\n",
    "   - `sagemaker-ai-model-deploy`\n",
    "\n",
    "이러한 저장소 설정은 CI/CD 파이프라인의 코드 관리를 위한 기반이 됩니다."
   ]
  },
  {
   "cell_type": "markdown",
   "id": "f1edfab9-1998-4068-894b-5a3a195bb998",
   "metadata": {},
   "source": [
    "#### Set up the GitHub connection\n",
    "\n",
    "You need to have a GitHub personal account that you can access and connect via [AWS CodeConnection connection](https://docs.aws.amazon.com/dtconsole/latest/userguide/welcome-connections.html).\n",
    "\n",
    "Connect to your GitHub by following the [instructions](https://docs.aws.amazon.com/sagemaker/latest/dg/sagemaker-projects-walkthrough-3rdgit.html#sagemaker-proejcts-walkthrough-connect-3rdgit) to set up the GitHub connection.\n",
    "\n",
    "Do not forget to add a tag with the key `sagemaker` and value `true` to the connection:\n",
    "\n",
    "<img src=\"img/code-connection-tags.png\" alt=\"connection tags\" width=\"800px\">\n",
    "\n",
    "Copy the connection ARN - you need to use it as a parameter in the project creation step:\n",
    "\n",
    "<img src=\"img/code-connection-arn.png\" alt=\"connection ARN\" width=\"800px\">"
   ]
  },
  {
   "cell_type": "markdown",
   "id": "dbda01f5-53ec-4040-bc58-6a98dc421c70",
   "metadata": {},
   "source": [
    "#### GitHub 연결 설정\n",
    "\n",
    "[AWS CodeConnection 연결](https://docs.aws.amazon.com/dtconsole/latest/userguide/welcome-connections.html)을 통해 접근하고 연결할 수 있는 GitHub 개인 계정이 필요합니다.\n",
    "\n",
    "GitHub 연결을 설정하기 위해 [지침](https://docs.aws.amazon.com/sagemaker/latest/dg/sagemaker-projects-walkthrough-3rdgit.html#sagemaker-proejcts-walkthrough-connect-3rdgit)에 따라 GitHub에 연결하세요.\n",
    "\n",
    "연결에 키가 `sagemaker`이고 값이 `true`인 태그를 추가하는 것을 잊지 마세요:\n",
    "\n",
    "<img src=\"img/code-connection-tags.png\" alt=\"연결 태그\" width=\"800px\">\n",
    "\n",
    "연결 ARN을 복사하세요 - 프로젝트 생성 단계에서 매개변수로 사용해야 합니다:\n",
    "\n",
    "<img src=\"img/code-connection-arn.png\" alt=\"연결 ARN\" width=\"800px\">\n",
    "\n",
    "주요 단계:\n",
    "1. GitHub 개인 계정 준비\n",
    "2. AWS CodeConnection 설정\n",
    "3. 필수 태그 추가 (sagemaker: true)\n",
    "4. 연결 ARN 복사 및 보관\n",
    "\n",
    "이 설정은 AWS와 GitHub 간의 안전하고 자동화된 연동을 가능하게 합니다."
   ]
  },
  {
   "cell_type": "code",
   "execution_count": 62,
   "id": "3879c7df-2b97-4f41-8164-3810262f6082",
   "metadata": {},
   "outputs": [],
   "source": [
    "# set this variable to the ARN of your code connection your created\n",
    "code_connection_arn = <SET TO THE ARN OF THE CREATED CODE CONNECTION>"
   ]
  },
  {
   "cell_type": "markdown",
   "id": "cf08be48-1e9a-4001-af86-90664115d1f3",
   "metadata": {},
   "source": [
    "You can create a project programmatically in this notebook - **Option 1** or in Studio UI - **Option 2**.\n",
    "\n",
    "Option 1 is recommended as it has no dependency on the UX</br>\n",
    "Option 2 is given to demonstrate [**Create Project** UI flow](https://docs.aws.amazon.com/sagemaker/latest/dg/sagemaker-projects-create.html)."
   ]
  },
  {
   "cell_type": "markdown",
   "id": "85a55e43-4815-456f-b3cf-551cbebe6bfa",
   "metadata": {},
   "source": [
    "프로젝트를 생성하는 방법으로 두 가지 옵션이 있습니다:\n",
    "- **옵션 1**: 이 노트북에서 프로그래밍 방식으로 생성\n",
    "- **옵션 2**: Studio UI에서 생성\n",
    "\n",
    "옵션 1이 UI에 대한 의존성이 없어 권장됩니다.</br>\n",
    "옵션 2는 [**프로젝트 생성** UI 흐름](https://docs.aws.amazon.com/sagemaker/latest/dg/sagemaker-projects-create.html)을 보여주기 위해 제공됩니다.\n",
    "\n",
    "주요 특징:\n",
    "1. 옵션 1 (프로그래밍 방식)\n",
    "   - UI 독립적\n",
    "   - 자동화 용이\n",
    "   - 반복 가능한 설정\n",
    "   - 버전 관리 가능\n",
    "\n",
    "2. 옵션 2 (UI 방식)\n",
    "   - 시각적 인터페이스\n",
    "   - 단계별 가이드\n",
    "   - 직관적 설정\n",
    "   - 학습 목적에 유용"
   ]
  },
  {
   "cell_type": "markdown",
   "id": "cd7061c4-b0f5-48a9-999c-1b0b84c8a4b9",
   "metadata": {},
   "source": [
    "### Option 1: Create project programmatically - recommended\n",
    "In this section you use `boto3` to create an MLOps project via a SageMaker API."
   ]
  },
  {
   "cell_type": "markdown",
   "id": "2645a4a5-196c-4785-8794-09350574f80a",
   "metadata": {},
   "source": [
    "### 옵션 1: 프로그래밍 방식으로 프로젝트 생성 - 권장\n",
    "이 섹션에서는 `boto3`를 사용하여 SageMaker API를 통해 MLOps 프로젝트를 생성합니다.\n",
    "\n",
    "주요 내용:\n",
    "1. boto3 라이브러리 활용\n",
    "2. SageMaker API를 통한 프로젝트 생성\n",
    "3. 프로그래밍 방식의 자동화된 설정\n",
    "4. 재현 가능한 프로젝트 구성\n",
    "\n",
    "이 방식의 장점:\n",
    "- 코드로 관리되는 인프라\n",
    "- 자동화된 프로세스\n",
    "- 일관된 설정 가능\n",
    "- 버전 관리 용이"
   ]
  },
  {
   "cell_type": "code",
   "execution_count": 63,
   "id": "1002ef46-7906-44fe-a874-78c3607d827a",
   "metadata": {
    "tags": []
   },
   "outputs": [],
   "source": [
    "sc = boto3.client(\"servicecatalog\")\n",
    "\n",
    "sc_provider_name = \"Amazon SageMaker\"\n",
    "sc_product_name = \"MLOps template for model building, training, and deployment with third-party Git repositories using CodePipeline\""
   ]
  },
  {
   "cell_type": "code",
   "execution_count": 64,
   "id": "a30b2c04-8c60-4f67-abef-284e47072110",
   "metadata": {
    "tags": []
   },
   "outputs": [],
   "source": [
    "# find a Service Catalog product with the specific SageMaker project template\n",
    "p_ids = [p['ProductId'] for p in sc.search_products(\n",
    "    Filters={\n",
    "        'FullTextSearch': [sc_product_name]\n",
    "    },\n",
    ")['ProductViewSummaries'] if p[\"Name\"]==sc_product_name]"
   ]
  },
  {
   "cell_type": "code",
   "execution_count": 65,
   "id": "579caafe-27c5-4a82-84c4-f364675ca7c7",
   "metadata": {
    "tags": []
   },
   "outputs": [
    {
     "data": {
      "text/plain": [
       "['prod-cwbsact3annui']"
      ]
     },
     "execution_count": 65,
     "metadata": {},
     "output_type": "execute_result"
    }
   ],
   "source": [
    "p_ids"
   ]
  },
  {
   "cell_type": "code",
   "execution_count": 66,
   "id": "2cef972c-ff89-49fb-a498-35f8a4768d25",
   "metadata": {
    "tags": []
   },
   "outputs": [
    {
     "name": "stdout",
     "output_type": "stream",
     "text": [
      "ML Ops product id: prod-cwbsact3annui\n"
     ]
    }
   ],
   "source": [
    "# If you get any exception from this code, go to the Option 2 and create a project in Studio UI\n",
    "if not len(p_ids):\n",
    "    raise Exception(\"No Amazon SageMaker ML Ops products found!\")\n",
    "elif len(p_ids) > 1:\n",
    "    raise Exception(\"Too many matching Amazon SageMaker ML Ops products found!\")\n",
    "else:\n",
    "    product_id = p_ids[0]\n",
    "    print(f\"ML Ops product id: {product_id}\")"
   ]
  },
  {
   "cell_type": "code",
   "execution_count": 67,
   "id": "114b32a9-6a58-4002-8a4e-d31c9dc107f3",
   "metadata": {},
   "outputs": [
    {
     "data": {
      "text/plain": [
       "'Use this template to automate the entire model lifecycle that includes both model buidling and deployment workflows. Ideally suited for continuous integration and continuous deployment (CI/CD) of ML models. Process data, extract features, train and test models, and register them in the model registry. Attach your own Git repository to the project for checking in and managing code versions. Kick off the model deployment workflow by approving the model registered in the model registry for deployment either manually or automatically. You can customize the seed code and the configuration files to suit your requirements. AWS CodePipeline is used to orchestrate the model deployment.\\n\\nModel building pipeline: SageMaker Pipelines\\nCode repository: Third party Git\\nOrchestration: AWS CodePipeline\\n'"
      ]
     },
     "execution_count": 67,
     "metadata": {},
     "output_type": "execute_result"
    }
   ],
   "source": [
    "# output what this project is about\n",
    "sc.describe_product(Id=product_id)['ProductViewSummary']['ShortDescription']"
   ]
  },
  {
   "cell_type": "code",
   "execution_count": 68,
   "id": "8b51c8dc-57e7-4ff1-a137-3f4e93d9594c",
   "metadata": {
    "tags": []
   },
   "outputs": [],
   "source": [
    "# get the latest template version\n",
    "provisioning_artifact_id = sorted(\n",
    "    [i for i in sc.list_provisioning_artifacts(\n",
    "        ProductId=product_id\n",
    "    )['ProvisioningArtifactDetails'] if i['Guidance']=='DEFAULT'],\n",
    "    key=lambda d: d['Name'], reverse=True)[0]['Id']"
   ]
  },
  {
   "cell_type": "code",
   "execution_count": 69,
   "id": "f65aa4b1-c848-45ce-9f51-b5c4b70175b1",
   "metadata": {
    "tags": []
   },
   "outputs": [
    {
     "data": {
      "text/plain": [
       "'pa-jt7oyaklc3eym'"
      ]
     },
     "execution_count": 69,
     "metadata": {},
     "output_type": "execute_result"
    }
   ],
   "source": [
    "provisioning_artifact_id"
   ]
  },
  {
   "cell_type": "code",
   "execution_count": 70,
   "id": "82e1fc0c-bb40-40f5-9ff5-8f8aefcba1b8",
   "metadata": {},
   "outputs": [
    {
     "data": {
      "text/plain": [
       "{'ProvisioningArtifactDetail': {'Id': 'pa-jt7oyaklc3eym',\n",
       "  'Name': 'v2.0',\n",
       "  'Description': 'Adding error handling for access denied for seed code checkin',\n",
       "  'Type': 'CLOUD_FORMATION_TEMPLATE',\n",
       "  'CreatedTime': datetime.datetime(2024, 12, 10, 5, 6, 31, tzinfo=tzlocal()),\n",
       "  'Active': True,\n",
       "  'Guidance': 'DEFAULT'},\n",
       " 'Info': {'TemplateUrl': 'https://s3.us-east-1.amazonaws.com/ciclo-us-east-1-prod-product-templates/model_build_deploy_toolchain_3p_git_template.yml'},\n",
       " 'Status': 'AVAILABLE',\n",
       " 'ResponseMetadata': {'RequestId': '1166418b-fb61-4e1b-b6a4-9cb05bd4b008',\n",
       "  'HTTPStatusCode': 200,\n",
       "  'HTTPHeaders': {'x-amzn-requestid': '1166418b-fb61-4e1b-b6a4-9cb05bd4b008',\n",
       "   'content-type': 'application/x-amz-json-1.1',\n",
       "   'content-length': '414',\n",
       "   'date': 'Fri, 14 Feb 2025 11:02:36 GMT'},\n",
       "  'RetryAttempts': 0}}"
      ]
     },
     "execution_count": 70,
     "metadata": {},
     "output_type": "execute_result"
    }
   ],
   "source": [
    "sc.describe_provisioning_artifact(ProductId=product_id, ProvisioningArtifactId=provisioning_artifact_id)"
   ]
  },
  {
   "cell_type": "code",
   "execution_count": 75,
   "id": "ed952193-a0cf-48c8-b776-351f6452adc8",
   "metadata": {
    "tags": []
   },
   "outputs": [],
   "source": [
    "# set unique project name\n",
    "project_name = f\"mlops-{strftime('%m-%d-%H-%M-%S', gmtime())}\""
   ]
  },
  {
   "cell_type": "markdown",
   "id": "cb8b570d-8ca3-451b-a290-908744ac1a3b",
   "metadata": {},
   "source": [
    "Set the parameters of the project template. Set the variables `model_build_code_repository_full_name` and `model_deploy_code_repository_full_name` to the full names of your GitHub repositories. These must be new empty repositories."
   ]
  },
  {
   "cell_type": "code",
   "execution_count": 76,
   "id": "8a05d428-09c6-4abc-a720-97da47f218a9",
   "metadata": {},
   "outputs": [],
   "source": [
    "# Branch name for the Model Building and Training Code Repository\n",
    "model_build_code_repository_branch = 'main'\n",
    "# Full repository name of the Model Building and Training Code Repository, which would be username/reponame or organizationname/reponame\n",
    "model_build_code_repository_full_name = <ENTER YOUR FULL GITHUB REPO FOR MODEL BUILD NAME HERE> # e.g. username/reponame\n",
    "\n",
    "# Branch name for the Model Deployment Code Repository\n",
    "model_deploy_code_repository_branch = 'main'\n",
    "# Full repository name of the Model Deployment Code Repository, which would be username/reponame or organizationname/reponame\n",
    "model_deploy_code_repository_full_name = <ENTER YOUR FULL GITHUB REPO FOR MODEL DEPLOY NAME HERE> # e.g. username/reponame"
   ]
  },
  {
   "cell_type": "code",
   "execution_count": 77,
   "id": "7482fefc-3da7-4717-b84f-215af0e82d1a",
   "metadata": {},
   "outputs": [],
   "source": [
    "# set project parameters\n",
    "project_parameters = [\n",
    "    {\n",
    "        'Key': 'ModelBuildCodeRepositoryBranch',\n",
    "        'Value': model_build_code_repository_branch,\n",
    "    },\n",
    "    {\n",
    "        'Key': 'ModelBuildCodeRepositoryFullname',\n",
    "        'Value': model_build_code_repository_full_name,\n",
    "    },\n",
    "    {\n",
    "        'Key': 'ModelDeployCodeRepositoryBranch',\n",
    "        'Value': model_deploy_code_repository_branch,\n",
    "    },\n",
    "    {\n",
    "        'Key': 'ModelDeployCodeRepositoryFullname',\n",
    "        'Value': model_deploy_code_repository_full_name,\n",
    "    },\n",
    "        {\n",
    "        'Key': 'CodeConnectionArn',\n",
    "        'Value': code_connection_arn,\n",
    "    },\n",
    "]"
   ]
  },
  {
   "cell_type": "markdown",
   "id": "22e7f228-8ca1-4c93-8131-8901acf75165",
   "metadata": {},
   "source": [
    "Finally, create a SageMaker project from the service catalog product template:"
   ]
  },
  {
   "cell_type": "code",
   "execution_count": 91,
   "id": "bf534ec0-233b-4da3-81fc-68ca308c2b9d",
   "metadata": {},
   "outputs": [
    {
     "name": "stdout",
     "output_type": "stream",
     "text": [
      "Creating a mlops-02-14-11-03-33 using MLOps template for model building, training, and deployment with third-party Git repositories using CodePipeline with the following parameters:\n",
      "[\n",
      "  {\n",
      "    \"Key\": \"ModelBuildCodeRepositoryBranch\",\n",
      "    \"Value\": \"main\"\n",
      "  },\n",
      "  {\n",
      "    \"Key\": \"ModelBuildCodeRepositoryFullname\",\n",
      "    \"Value\": \"yevgeniyilyin/sagemaker-ai-model-build-2\"\n",
      "  },\n",
      "  {\n",
      "    \"Key\": \"ModelDeployCodeRepositoryBranch\",\n",
      "    \"Value\": \"main\"\n",
      "  },\n",
      "  {\n",
      "    \"Key\": \"ModelDeployCodeRepositoryFullname\",\n",
      "    \"Value\": \"yevgeniyilyin/sagemaker-ai-model-deploy-2\"\n",
      "  },\n",
      "  {\n",
      "    \"Key\": \"CodeConnectionArn\",\n",
      "    \"Value\": \"arn:aws:codeconnections:us-east-1:906545278380:connection/f76f091f-f02a-4390-8abd-184d1735ca3a\"\n",
      "  }\n",
      "]\n",
      "\n"
     ]
    }
   ],
   "source": [
    "print(f'''Creating a {project_name} using {sc_product_name} with the following parameters:\n",
    "{json.dumps(project_parameters, indent=2)}\n",
    "''')"
   ]
  },
  {
   "cell_type": "code",
   "execution_count": 78,
   "id": "4928192d-4580-4f23-ab89-749937365cfb",
   "metadata": {
    "tags": []
   },
   "outputs": [
    {
     "name": "stdout",
     "output_type": "stream",
     "text": [
      "{'ProjectArn': 'arn:aws:sagemaker:us-east-1:906545278380:project/mlops-02-14-11-03-33', 'ProjectId': 'p-ca7phmcraepa', 'ResponseMetadata': {'RequestId': '954c8ede-e181-4959-8ed0-f04946e002fb', 'HTTPStatusCode': 200, 'HTTPHeaders': {'x-amzn-requestid': '954c8ede-e181-4959-8ed0-f04946e002fb', 'content-type': 'application/x-amz-json-1.1', 'content-length': '115', 'date': 'Fri, 14 Feb 2025 11:03:38 GMT'}, 'RetryAttempts': 0}}\n"
     ]
    }
   ],
   "source": [
    "# create SageMaker project\n",
    "r = sm.create_project(\n",
    "    ProjectName=project_name,\n",
    "    ProjectDescription=\"Model build and deploy project\",\n",
    "    ServiceCatalogProvisioningDetails={\n",
    "        'ProductId': product_id,\n",
    "        'ProvisioningArtifactId': provisioning_artifact_id,\n",
    "        'ProvisioningParameters': project_parameters\n",
    "    },\n",
    ")\n",
    "\n",
    "print(r)\n",
    "project_id = r[\"ProjectId\"]"
   ]
  },
  {
   "cell_type": "markdown",
   "id": "a82b313e-9025-42cb-8f7a-a617ed771e3e",
   "metadata": {},
   "source": [
    "<div class=\"alert alert-info\">Wait until project creation is completed by running the next cell</div>"
   ]
  },
  {
   "cell_type": "markdown",
   "id": "0afc704f",
   "metadata": {},
   "source": [
    "\n",
    "<img src=\"data:image/svg+xml;base64,Cjxzdmcgd2lkdGg9IjgwMCIgaGVpZ2h0PSIxMjUiIHZpZXdCb3g9IjAgMCA4MDAgMTI1IiB4bWxucz0iaHR0cDovL3d3dy53My5vcmcvMjAwMC9zdmciPgogICAgPGRlZnM+CiAgICAgICAgPGxpbmVhckdyYWRpZW50IGlkPSJmYWRlR3JhZGllbnQiIHgxPSIwIiB4Mj0iMSI+CiAgICAgICAgICAgIDxzdG9wIG9mZnNldD0iMCUiIHN0b3AtY29sb3I9IiNGMEYwRjAiLz4KICAgICAgICAgICAgPHN0b3Agb2Zmc2V0PSIxMDAlIiBzdG9wLWNvbG9yPSIjRjBGMEYwIiBzdG9wLW9wYWNpdHk9IjAiLz4KICAgICAgICA8L2xpbmVhckdyYWRpZW50PgogICAgICAgIDxtYXNrIGlkPSJmYWRlTWFzayI+CiAgICAgICAgICAgIDxyZWN0IHg9IjAiIHk9IjAiIHdpZHRoPSI3NTAiIGhlaWdodD0iMTI1IiBmaWxsPSJ3aGl0ZSIvPgogICAgICAgICAgICA8cmVjdCB4PSI3NTAiIHk9IjAiIHdpZHRoPSI1MCIgaGVpZ2h0PSIxMjUiIGZpbGw9InVybCgjZmFkZUdyYWRpZW50KSIvPgogICAgICAgIDwvbWFzaz4KICAgIDwvZGVmcz4KICAgIDxwYXRoIGQ9Ik0zLDUwIEE1MCw1MCAwIDAgMSA1MywzIEw3OTcsMyBMNzk3LDk3IEw5Nyw5NyBMNTAsMTE1IEwzLDk3IFoiIGZpbGw9IiNGMEYwRjAiIHN0cm9rZT0iI0UwRTBFMCIgc3Ryb2tlLXdpZHRoPSIxIiBtYXNrPSJ1cmwoI2ZhZGVNYXNrKSIvPgogICAgPGNpcmNsZSBjeD0iNTAiIGN5PSI1MCIgcj0iMzAiIGZpbGw9IiM1N2M0ZjgiIHN0cm9rZT0iIzU3YzRmOCIgc3Ryb2tlLXdpZHRoPSIxIi8+CiAgICA8Y2lyY2xlIGN4PSI1MCIgY3k9IjUwIiByPSIyNSIgZmlsbD0iI0YwRjBGMCIvPgogICAgPGxpbmUgeDE9IjUwIiB5MT0iNTAiIHgyPSI1MCIgeTI9IjMwIiBzdHJva2U9IiM1N2M0ZjgiIHN0cm9rZS13aWR0aD0iMyIgc3Ryb2tlLWxpbmVjYXA9InJvdW5kIi8+CiAgICA8bGluZSB4MT0iNTAiIHkxPSI1MCIgeDI9IjY1IiB5Mj0iNTAiIHN0cm9rZT0iIzU3YzRmOCIgc3Ryb2tlLXdpZHRoPSIzIiBzdHJva2UtbGluZWNhcD0icm91bmQiLz4KICAgIDx0ZXh0IHg9IjEwMCIgeT0iMzQiIGZvbnQtZmFtaWx5PSJBcmlhbCwgc2Fucy1zZXJpZiIgZm9udC1zaXplPSIxNCIgZmlsbD0iIzMzMzMzMyI+VGhlIG5leHQgY2VsbCBtYXkgdGFrZSBhIGZldyBtaW51dGVzIHRvIHJ1bi48L3RleHQ+Cjwvc3ZnPgo=\" alt=\"Time alert open medium\"/>"
   ]
  },
  {
   "cell_type": "code",
   "execution_count": 84,
   "id": "af1af2b6-2324-41f4-8a5a-0cf178b9ec23",
   "metadata": {
    "tags": []
   },
   "outputs": [
    {
     "name": "stdout",
     "output_type": "stream",
     "text": [
      "MLOps project mlops-02-14-11-03-33 creation completed\n"
     ]
    }
   ],
   "source": [
    "# Project creation takes about 3-5 min\n",
    "while sm.describe_project(ProjectName=project_name)['ProjectStatus'] not in ['CreateCompleted', 'CreateFailed']:\n",
    "    print(\"Waiting for project creation completion\")\n",
    "    sleep(10)\n",
    "    \n",
    "print(f\"MLOps project {project_name} creation completed\")"
   ]
  },
  {
   "cell_type": "markdown",
   "id": "58ee7720",
   "metadata": {},
   "source": [
    "<img src=\"data:image/svg+xml;base64,Cjxzdmcgd2lkdGg9IjgwMCIgaGVpZ2h0PSI1MCIgdmlld0JveD0iMCAwIDgwMCA1MCIgeG1sbnM9Imh0dHA6Ly93d3cudzMub3JnLzIwMDAvc3ZnIj4KICAgIDxkZWZzPgogICAgICAgIDxsaW5lYXJHcmFkaWVudCBpZD0iZmFkZUdyYWRpZW50IiB4MT0iMCIgeDI9IjEiPgogICAgICAgICAgICA8c3RvcCBvZmZzZXQ9IjAlIiBzdG9wLWNvbG9yPSIjRjBGMEYwIi8+CiAgICAgICAgICAgIDxzdG9wIG9mZnNldD0iMTAwJSIgc3RvcC1jb2xvcj0iI0YwRjBGMCIgc3RvcC1vcGFjaXR5PSIwIi8+CiAgICAgICAgPC9saW5lYXJHcmFkaWVudD4KICAgICAgICA8bWFzayBpZD0iZmFkZU1hc2siPgogICAgICAgICAgICA8cmVjdCB4PSIwIiB5PSIwIiB3aWR0aD0iNzUwIiBoZWlnaHQ9IjUwIiBmaWxsPSJ3aGl0ZSIvPgogICAgICAgICAgICA8cmVjdCB4PSI3NTAiIHk9IjAiIHdpZHRoPSI1MCIgaGVpZ2h0PSI1MCIgZmlsbD0idXJsKCNmYWRlR3JhZGllbnQpIi8+CiAgICAgICAgPC9tYXNrPgogICAgPC9kZWZzPgogICAgPHBhdGggZD0iTTI1LDUwIFEwLDUwIDAsMjUgTDUwLDMgTDk3LDI1IEw3OTcsMjUgTDc5Nyw1MCBMMjUsNTAgWiIgZmlsbD0iI0YwRjBGMCIgc3Ryb2tlPSIjRTBFMEUwIiBzdHJva2Utd2lkdGg9IjEiIG1hc2s9InVybCgjZmFkZU1hc2spIi8+Cjwvc3ZnPgo=\" alt=\"Time alert close\"/>"
   ]
  },
  {
   "cell_type": "code",
   "execution_count": 85,
   "id": "2e9b8256-b1e8-46e1-8478-1828474b1d4f",
   "metadata": {},
   "outputs": [],
   "source": [
    "assert sm.describe_project(ProjectName=project_name)['ProjectStatus'] == 'CreateCompleted', 'Project status must be CreateCompleted!'"
   ]
  },
  {
   "cell_type": "markdown",
   "id": "54b2bb29-1051-4ad4-a050-c5366e018f74",
   "metadata": {},
   "source": [
    "### End of Option 1: Create project programmatically\n",
    "Now you have provisioned a project template in your SageMaker environment. Navigate to the section **Configure the MLOps project**.\n",
    "\n",
    "---"
   ]
  },
  {
   "cell_type": "markdown",
   "id": "5fa36d60-b413-4f16-934b-cc62ccfae64c",
   "metadata": {},
   "source": [
    "### 옵션 1: 프로그래밍 방식 프로젝트 생성 완료\n",
    "이제 SageMaker 환경에 프로젝트 템플릿을 프로비저닝했습니다. **MLOps 프로젝트 구성** 섹션으로 이동하세요.\n",
    "\n",
    "---\n",
    "\n",
    "주요 사항:\n",
    "1. 프로젝트 템플릿 프로비저닝 완료\n",
    "2. SageMaker 환경에 설정 완료\n",
    "3. 다음 단계인 MLOps 프로젝트 구성으로 진행\n",
    "4. 자동화된 설정이 성공적으로 완료됨\n",
    "\n",
    "이제 프로젝트의 기본 구조가 준비되어 구체적인 MLOps 구성을 시작할 수 있습니다."
   ]
  },
  {
   "cell_type": "markdown",
   "id": "7792b450-40ea-47f8-9449-528148ae43f5",
   "metadata": {},
   "source": [
    "### Option 2: Create a project in Studio UI\n",
    "<div class=\"alert alert-info\"><b>Skip this section if you have arealdy created a project programmatically</b></div>\n",
    "\n",
    "<div class=\"alert alert-info\">You need to complete the <b>Preparation</b> step before creating an MLOps project</div>"
   ]
  },
  {
   "cell_type": "markdown",
   "id": "6ea36796-e93a-4837-8481-df275f67deb6",
   "metadata": {},
   "source": [
    "### 옵션 2: Studio UI에서 프로젝트 생성\n",
    "<div class=\"alert alert-info\"><b>이미 프로그래밍 방식으로 프로젝트를 생성했다면 이 섹션을 건너뛰세요</b></div>\n",
    "\n",
    "<div class=\"alert alert-info\">MLOps 프로젝트를 생성하기 전에 <b>준비</b> 단계를 완료해야 합니다</div>\n",
    "\n",
    "주요 안내:\n",
    "1. 중복 작업 방지\n",
    "   - 프로그래밍 방식(옵션 1)으로 이미 생성했다면 이 섹션 불필요\n",
    "2. 사전 준비 필수\n",
    "   - 준비 단계 완료가 MLOps 프로젝트 생성의 전제 조건\n",
    "3. UI 기반 생성\n",
    "   - Studio UI를 통한 시각적 프로젝트 설정 방법 제공\n",
    "\n",
    "이 옵션은 시각적 인터페이스를 선호하는 사용자를 위한 대체 방법입니다."
   ]
  },
  {
   "cell_type": "markdown",
   "id": "26a0bcfd-94e3-4892-8199-6ca06593c0af",
   "metadata": {},
   "source": [
    "Follow the [instructions for **Step 2: Create the Project**](https://docs.aws.amazon.com/sagemaker/latest/dg/sagemaker-projects-walkthrough-3rdgit.html#sagemaker-proejcts-walkthrough-create-3rdgit) in the Developer Guide to create an MLOps CI/CD project.\n",
    "\n",
    "For the template choose the **Model building, training, and deployment with third-party Git repositories using CodePipeline**:\n",
    "\n",
    "![](img/mlops-project-name.png)\n",
    "\n",
    "Wait until project is created."
   ]
  },
  {
   "cell_type": "markdown",
   "id": "935b24ff-c414-42df-b7d0-6faab8791970",
   "metadata": {},
   "source": [
    "[개발자 가이드의 **2단계: 프로젝트 생성**](https://docs.aws.amazon.com/sagemaker/latest/dg/sagemaker-projects-walkthrough-3rdgit.html#sagemaker-proejcts-walkthrough-create-3rdgit) 지침에 따라 MLOps CI/CD 프로젝트를 생성하세요.\n",
    "\n",
    "템플릿으로는 **CodePipeline을 사용하여 서드파티 Git 저장소로 모델 구축, 학습 및 배포**를 선택하세요:\n",
    "\n",
    "![](img/mlops-project-name.png)\n",
    "\n",
    "프로젝트가 생성될 때까지 기다리세요.\n",
    "\n",
    "주요 단계:\n",
    "1. 개발자 가이드의 지침 따르기\n",
    "2. 적절한 템플릿 선택\n",
    "   - 서드파티 Git 저장소 활용\n",
    "   - CodePipeline 기반 워크플로우\n",
    "3. 프로젝트 생성 대기\n",
    "   - 완전한 설정을 위한 시간 필요\n",
    "   - 자동화된 리소스 프로비저닝 진행\n",
    "\n",
    "이 설정은 완전한 MLOps 파이프라인의 기반이 됩니다."
   ]
  },
  {
   "cell_type": "markdown",
   "id": "19f8a881-3e06-4497-8dce-e73dc6923ce4",
   "metadata": {},
   "source": [
    "### Resolve issues with project creation\n",
    "\n",
    "#### Error messages\n",
    "❗ If you see an error message similar to:\n",
    "```\n",
    "Your project couldn't be created\n",
    "Studio encountered an error when creating your project. Try recreating the project again.\n",
    "\n",
    "CodeBuild is not authorized to perform: sts:AssumeRole on arn:aws:iam::XXXX:role/service-role/AmazonSageMakerServiceCatalogProductsCodeBuildRole (Service: AWSCodeBuild; Status Code: 400; Error Code: InvalidInputException; Request ID: 4cf59a54-0c59-476a-a970-0ac656db4402; Proxy: null)\n",
    "```\n",
    "\n",
    "see steps 5-6 of [SageMaker Studio Permissions Required to Use Projects](https://docs.aws.amazon.com/sagemaker/latest/dg/sagemaker-projects-studio-updates.html). Make sure you have all required project roles listed in the **Apps** card under **Projects**. \n",
    "\n",
    "Alternatively, you can create the required roles by using the provided CloudFormation template [`cfn-templates/sagemaker-project-templates-roles.yaml`](cfn-templates/sagemaker-project-templates-roles.yaml). \n",
    "Run in the repository clone directory from the command line terminal where you have the corresponding permissions:\n",
    "\n",
    "```sh\n",
    "aws cloudformation deploy \\\n",
    "    --template-file cfn-templates/sagemaker-project-templates-roles.yaml \\\n",
    "    --stack-name sagemaker-project-template-roles \\\n",
    "    --capabilities CAPABILITY_IAM CAPABILITY_NAMED_IAM \\\n",
    "    --parameter-overrides \\\n",
    "    CreateCloudFormationRole=YES \\\n",
    "    CreateCodeBuildRole=YES \\\n",
    "    CreateCodePipelineRole=YES \\\n",
    "    CreateEventsRole=YES \\\n",
    "    CreateProductsExecutionRole=YES \n",
    "```"
   ]
  },
  {
   "cell_type": "markdown",
   "id": "27f06d9a-9fd0-4d1c-a1e2-f0e4cfd5095d",
   "metadata": {},
   "source": [
    "### 프로젝트 생성 관련 문제 해결\n",
    "\n",
    "#### 오류 메시지\n",
    "❗ 다음과 같은 오류 메시지가 표시되는 경우:\n",
    "```\n",
    "프로젝트를 생성할 수 없습니다\n",
    "Studio에서 프로젝트 생성 중 오류가 발생했습니다. 프로젝트를 다시 생성해 보세요.\n",
    "\n",
    "CodeBuild가 arn:aws:iam::XXXX:role/service-role/AmazonSageM**********************uctsCodeBuildRole에 대해 sts:AssumeRole을 수행할 권한이 없습니다 (Service: AWSCodeBuild; Status Code: 400; Error Code: InvalidInputException; Request ID: 4cf59a54-0c59-476a-a970-0ac656db4402; Proxy: null)\n",
    "```\n",
    "\n",
    "[프로젝트 사용에 필요한 SageMaker Studio 권한](https://docs.aws.amazon.com/sagemaker/latest/dg/sagemaker-projects-studio-updates.html)의 5-6단계를 참조하세요. **Projects** 아래 **Apps** 카드에 필요한 모든 프로젝트 역할이 있는지 확인하세요.\n",
    "\n",
    "또는 제공된 CloudFormation 템플릿 [`cfn-templates/sagemaker-project-templates-roles.yaml`](cfn-templates/sagemaker-project-templates-roles.yaml)을 사용하여 필요한 역할을 생성할 수 있습니다.\n",
    "해당 권한이 있는 명령줄 터미널의 저장소 복제 디렉토리에서 다음을 실행하세요:\n",
    "\n",
    "```sh\n",
    "aws cloudformation deploy \\\n",
    "    --template-file cfn-templates/sagemaker-project-templates-roles.yaml \\\n",
    "    --stack-name sagemaker-project-template-roles \\\n",
    "    --capabilities CAPABILITY_IAM CAPABILITY_NAMED_IAM \\\n",
    "    --parameter-overrides \\\n",
    "    CreateCloudFormationRole=YES \\\n",
    "    CreateCodeBuildRole=YES \\\n",
    "    CreateCodePipelineRole=YES \\\n",
    "    CreateEventsRole=YES \\\n",
    "    CreateProductsExecutionRole=YES \n",
    "```\n",
    "\n",
    "주요 해결 방법:\n",
    "1. 필요한 권한 확인\n",
    "2. 누락된 역할 확인\n",
    "3. CloudFormation을 통한 역할 생성\n",
    "4. 모든 필수 권한이 올바르게 설정되었는지 검증"
   ]
  },
  {
   "cell_type": "markdown",
   "id": "d0675444-29b3-4db6-bf0c-cfec72426c41",
   "metadata": {},
   "source": [
    "### End of Option 2: Create a project in Studio UI\n",
    "Now when you have the project created, move to the section **Configure the MLOps project**.\n",
    "\n",
    "---"
   ]
  },
  {
   "cell_type": "markdown",
   "id": "f179fb4d-f946-4c84-b22d-53375646de9c",
   "metadata": {},
   "source": [
    "### 옵션 2: Studio UI에서 프로젝트 생성 완료\n",
    "이제 프로젝트가 생성되었으니, **MLOps 프로젝트 구성** 섹션으로 이동하세요.\n",
    "\n",
    "---\n",
    "\n",
    "주요 사항:\n",
    "1. UI를 통한 프로젝트 생성 완료\n",
    "2. 기본 설정 완료됨\n",
    "3. 다음 단계로 진행 준비\n",
    "4. MLOps 프로젝트의 상세 구성 시작\n",
    "\n",
    "이제 프로젝트의 기본 구조가 준비되어 구체적인 MLOps 구성을 시작할 수 있습니다. 이어지는 섹션에서는 프로젝트의 세부적인 설정과 구성을 다룰 것입니다."
   ]
  },
  {
   "cell_type": "markdown",
   "id": "01e7480e-dbcd-44da-9b9f-46878ce27927",
   "metadata": {},
   "source": [
    "## Configure the MLOps project\n",
    "The provisioned MLOps project implements two CodePipeline pipelines. One is for model building and another for model deployment. The project also populates two GitHub repositories your specified with seed code. This notebook explains and configures the model building pipeline. The next notebook `05-deploy` deals with the second part - the model deployment pipeline."
   ]
  },
  {
   "cell_type": "markdown",
   "id": "58cfc97b-53b2-4082-b4e9-3c33bd91a012",
   "metadata": {},
   "source": [
    "## MLOps 프로젝트 구성\n",
    "프로비저닝된 MLOps 프로젝트는 두 개의 CodePipeline 파이프라인을 구현합니다. 하나는 모델 구축용이고 다른 하나는 모델 배포용입니다. 또한 프로젝트는 지정한 두 개의 GitHub 저장소에 시드 코드를 채워넣습니다. 이 노트북은 모델 구축 파이프라인을 설명하고 구성합니다. 다음 노트북인 `05-deploy`는 두 번째 부분인 모델 배포 파이프라인을 다룹니다.\n",
    "\n",
    "주요 내용:\n",
    "1. 두 개의 독립적인 파이프라인:\n",
    "   - 모델 구축 파이프라인\n",
    "   - 모델 배포 파이프라인\n",
    "2. GitHub 저장소 자동 설정:\n",
    "   - 시드 코드 자동 배포\n",
    "   - 기본 구조 제공\n",
    "3. 현재 노트북의 범위:\n",
    "   - 모델 구축 파이프라인 구성에 집중\n",
    "4. 다음 단계:\n",
    "   - 모델 배포 파이프라인은 별도 노트북에서 다룸"
   ]
  },
  {
   "cell_type": "markdown",
   "id": "976166a9-0769-4db8-924d-270b25d91acb",
   "metadata": {},
   "source": [
    "### Model building pipeline\n",
    "\n",
    "The project provisions and runs a default model building pipeline automatically as soon as it has been created. This pipeline is a sample placeholder in the project for your own custom pipeline. Ignore the default pipeline for the moment.\n",
    "The project templates deploys the following resources in your AWS account:\n",
    "\n",
    "![](img/mlops-model-build-train.png)\n",
    "\n",
    "The main components are:\n",
    "1. The project template is made available through SageMaker Projects and AWS Service Catalog portfolio\n",
    "2. A CodePipeline pipeline with two stages - `Source` to download the source code from your GitHub repository and `Build` to create and execute a SageMaker pipeline\n",
    "3. A default SageMaker pipeline with model build, train, and register workflow\n",
    "4. A seed code repository in GitHub with a provided default version of a seed code"
   ]
  },
  {
   "cell_type": "markdown",
   "id": "719d7e44-f673-4ed3-8296-2a6db514f290",
   "metadata": {},
   "source": [
    "### 모델 구축 파이프라인\n",
    "\n",
    "프로젝트가 생성되자마자 기본 모델 구축 파이프라인이 자동으로 프로비저닝되고 실행됩니다. 이 파이프라인은 사용자 정의 파이프라인을 위한 샘플 자리표시자입니다. 지금은 기본 파이프라인을 무시하세요.\n",
    "프로젝트 템플릿은 AWS 계정에 다음과 같은 리소스를 배포합니다:\n",
    "\n",
    "![](img/mlops-model-build-train.png)\n",
    "\n",
    "주요 구성 요소:\n",
    "1. 프로젝트 템플릿은 SageMaker Projects와 AWS Service Catalog 포트폴리오를 통해 제공됨\n",
    "2. 두 단계로 구성된 CodePipeline 파이프라인\n",
    "   - `Source`: GitHub 저장소에서 소스 코드 다운로드\n",
    "   - `Build`: SageMaker 파이프라인 생성 및 실행\n",
    "3. 모델 구축, 학습, 등록 워크플로우가 포함된 기본 SageMaker 파이프라인\n",
    "4. 기본 버전의 시드 코드가 제공되는 GitHub의 시드 코드 저장소\n",
    "\n",
    "이러한 구성은 완전한 MLOps 워크플로우의 기초를 제공합니다."
   ]
  },
  {
   "cell_type": "markdown",
   "id": "7edd547c-b9ec-4902-b798-2e4ac6cae2c1",
   "metadata": {},
   "source": [
    "This project contains all the required code and the insfrastructure to implement an automated CI/CD pipeline from a pre-defined template. \n",
    "To start using the project with your pipeline, you need to complete the following steps:\n",
    "1. Clone the project GitHub repository to your notebook local storage\n",
    "2. Replace the ML pipeline template sample code with your actual pipeline construction code, as implemented in the step 3 notebook\n",
    "3. Modify the `codebuild-buildspec.yml` file to reference the correct Python module name and to set project parameters\n",
    "\n",
    "Next sections guide you through these steps. For detailed instructions and a hands-on example, refer to the development guide [SageMaker MLOps Project Walkthrough](https://docs.aws.amazon.com/sagemaker/latest/dg/sagemaker-projects-walkthrough-3rdgit.html).\n",
    "\n",
    "If you used the option 1 `boto3` to create an MLOps project, the `project_name` and `project_id` are set automatically. You can run the following code cell to print the values. If you followed the UI instructions to create a project, you must set the `project_name` manually."
   ]
  },
  {
   "cell_type": "markdown",
   "id": "6740a2b1-d6db-4e24-829d-21ae70cb6d2f",
   "metadata": {},
   "source": [
    "이 프로젝트는 사전 정의된 템플릿에서 자동화된 CI/CD 파이프라인을 구현하는 데 필요한 모든 코드와 인프라를 포함하고 있습니다.\n",
    "파이프라인과 함께 프로젝트를 시작하려면 다음 단계를 완료해야 합니다:\n",
    "\n",
    "1. 프로젝트 GitHub 저장소를 노트북 로컬 스토리지로 복제\n",
    "2. ML 파이프라인 템플릿 샘플 코드를 3단계 노트북에서 구현한 실제 파이프라인 구성 코드로 교체\n",
    "3. `codebuild-buildspec.yml` 파일을 수정하여 올바른 Python 모듈 이름을 참조하고 프로젝트 매개변수 설정\n",
    "\n",
    "다음 섹션에서 이러한 단계들을 안내합니다. 자세한 지침과 실습 예제는 개발자 가이드 [SageMaker MLOps 프로젝트 실습](https://docs.aws.amazon.com/sagemaker/latest/dg/sagemaker-projects-walkthrough-3rdgit.html)을 참조하세요.\n",
    "\n",
    "옵션 1 `boto3`를 사용하여 MLOps 프로젝트를 생성한 경우, `project_name`과 `project_id`가 자동으로 설정됩니다. 다음 코드 셀을 실행하여 값을 출력할 수 있습니다. UI 지침에 따라 프로젝트를 생성한 경우에는 `project_name`을 수동으로 설정해야 합니다.\n",
    "\n",
    "주요 포인트:\n",
    "1. 완전한 CI/CD 환경 제공\n",
    "2. 단계별 설정 과정\n",
    "3. 상세 문서 참조 가능\n",
    "4. 프로젝트 식별자 설정 방법"
   ]
  },
  {
   "cell_type": "code",
   "execution_count": 122,
   "id": "7ff9414b-2dbd-4aa5-a96f-e43e2159b66f",
   "metadata": {
    "tags": []
   },
   "outputs": [
    {
     "name": "stdout",
     "output_type": "stream",
     "text": [
      "mlops-02-14-11-03-33\n",
      "p-ca7phmcraepa\n",
      "yevgeniyilyin/sagemaker-ai-model-build-2\n",
      "arn:aws:codeconnections:us-east-1:906545278380:connection/f76f091f-f02a-4390-8abd-184d1735ca3a\n"
     ]
    }
   ],
   "source": [
    "try:\n",
    "    print(project_name)\n",
    "    print(project_id)\n",
    "    print(model_build_code_repository_full_name)\n",
    "    print(code_connection_arn)\n",
    "except NameError:\n",
    "    print(\"++++++++++++++++++++++++++++++++++++++++++++++++++++++++++++++++++++++++++++++++++++++++++++++\")\n",
    "    print(\"Set the code_connection_arn, project_name, and repository full name in the following code cell\")\n",
    "    print(\"++++++++++++++++++++++++++++++++++++++++++++++++++++++++++++++++++++++++++++++++++++++++++++++\")"
   ]
  },
  {
   "cell_type": "code",
   "execution_count": 187,
   "id": "4d7e208b-c041-4b9d-ac59-7bc6dc072688",
   "metadata": {
    "tags": []
   },
   "outputs": [
    {
     "name": "stdout",
     "output_type": "stream",
     "text": [
      "Stored 'project_name' (str)\n",
      "Stored 'project_arn' (str)\n",
      "Stored 'project_id' (str)\n",
      "Project path: mlops-02-14-11-03-33/sagemaker-p-ca7phmcraepa-modelbuild\n"
     ]
    }
   ],
   "source": [
    "# project_name = \"<SET TO THE NAME OF THE CREATED PROJECT>\" # Keep commented out if you used option 1 to create a project\n",
    "# model_build_code_repository_full_name = \"<SET TO THE FULL NAME OF MODEL BUILD REPO>\" # Keep commented out if you used option 1 to create a project\n",
    "\n",
    "r = sm.describe_project(ProjectName=project_name)\n",
    "project_id = r['ProjectId']\n",
    "project_arn = r['ProjectArn']\n",
    "repository_name = model_build_code_repository_full_name.split('/')[1]\n",
    "git_folder = project_name\n",
    "project_folder = f'sagemaker-{project_id}-modelbuild'\n",
    "project_path = f'{git_folder}/{project_folder}'\n",
    "\n",
    "%store project_name\n",
    "%store project_arn\n",
    "%store project_id\n",
    "    \n",
    "print(f\"Project path: {project_path}\")"
   ]
  },
  {
   "cell_type": "markdown",
   "id": "2825b2eb-858c-4b31-9e63-ac06d95164bb",
   "metadata": {},
   "source": [
    "### Explore the project in the Studio UI\n",
    "\n",
    "Click on the link constructed by the following code cell. Explore the project and project components in the Studio UI."
   ]
  },
  {
   "cell_type": "markdown",
   "id": "11dade45-0ae7-49e6-9522-4d96ba3c8543",
   "metadata": {},
   "source": [
    "### Studio UI에서 프로젝트 탐색\n",
    "\n",
    "다음 코드 셀에서 생성된 링크를 클릭하세요. Studio UI에서 프로젝트와 프로젝트 구성 요소를 탐색하세요.\n",
    "\n",
    "주요 탐색 포인트:\n",
    "1. 프로젝트 개요 확인\n",
    "2. 구성 요소 살펴보기:\n",
    "   - 파이프라인 구성\n",
    "   - 리소스 설정\n",
    "   - 워크플로우 구조\n",
    "3. UI를 통한 시각적 이해:\n",
    "   - 프로젝트 구조\n",
    "   - 구성 요소 간 관계\n",
    "   - 설정 상태\n",
    "\n",
    "Studio UI를 통해 프로젝트의 전체적인 구조와 설정을 직관적으로 파악할 수 있습니다."
   ]
  },
  {
   "cell_type": "code",
   "execution_count": 105,
   "id": "005c4007-01fe-4440-9bac-12545cfcef1f",
   "metadata": {},
   "outputs": [
    {
     "data": {
      "text/html": [
       "<b>See <a target=\"top\" href=\"https://studio-d-igloxuzrs3z2.studio.us-east-1.sagemaker.aws/projects/mlops-02-14-11-03-33/\">the project</a> in the Studio UI</b>"
      ],
      "text/plain": [
       "<IPython.core.display.HTML object>"
      ]
     },
     "metadata": {},
     "output_type": "display_data"
    }
   ],
   "source": [
    "# Show the project link\n",
    "display(\n",
    "    HTML('<b>See <a target=\"top\" href=\"https://studio-{}.studio.{}.sagemaker.aws/projects/{}/\">the project</a> in the Studio UI</b>'.format(\n",
    "            domain_id, region, project_name))\n",
    ")"
   ]
  },
  {
   "cell_type": "markdown",
   "id": "e398fd92-8e76-43a0-9b61-3bb5291d880f",
   "metadata": {
    "tags": []
   },
   "source": [
    "### 1. Clone the project seed code to the JupyterLab file system\n",
    "You need to clone the project code from the GitHub repository by using JupyterLab terminal and GitHub CLI.\n",
    "\n",
    "1. Open a new terminal window via **File** > **New** > **Terminal**\n",
    "2. Copy the output of the following sell and paste it into the terminal command line\n",
    "3. Clone your model build repository using `git clone` with `codeconnections` credential helper."
   ]
  },
  {
   "cell_type": "markdown",
   "id": "6d07636b-9e2b-4a3f-898f-6b9442b10f8a",
   "metadata": {},
   "source": [
    "### 1. 프로젝트 시드 코드를 JupyterLab 파일 시스템으로 복제\n",
    "JupyterLab 터미널과 GitHub CLI를 사용하여 GitHub 저장소에서 프로젝트 코드를 복제해야 합니다.\n",
    "\n",
    "1. **File** > **New** > **Terminal**을 통해 새 터미널 창 열기\n",
    "2. 다음 셸의 출력을 복사하여 터미널 명령줄에 붙여넣기\n",
    "3. `codeconnections` 자격 증명 도우미를 사용하여 `git clone` 명령으로 모델 빌드 저장소 복제\n",
    "\n",
    "주요 단계:\n",
    "1. 터미널 접근\n",
    "   - JupyterLab의 메뉴 사용\n",
    "   - 새 터미널 세션 시작\n",
    "\n",
    "2. 명령어 준비\n",
    "   - 제공된 스크립트 복사\n",
    "   - 터미널에 붙여넣기 준비\n",
    "\n",
    "3. 저장소 복제\n",
    "   - git clone 명령 실행\n",
    "   - AWS CodeConnection 인증 활용\n",
    "   - 로컬 시스템에 코드 다운로드"
   ]
  },
  {
   "cell_type": "code",
   "execution_count": 158,
   "id": "f4793ebe-3ab1-4e23-b8a8-df4f7c6748b5",
   "metadata": {},
   "outputs": [
    {
     "data": {
      "text/html": [
       "\n",
       "        <div style=\"position: relative;\">\n",
       "            <pre>\n",
       "git config --global credential.UseHttpPath true\n",
       "git config --global credential.helper 'cache --timeout=720000'\n",
       "git config --global credential.helper '!aws codecommit credential-helper $@'\n",
       "\n",
       "mkdir -p $HOME/mlops-02-14-11-03-33/sagemaker-p-ca7phmcraepa-modelbuild\n",
       "\n",
       "git clone https://codeconnections.us-east-1.amazonaws.com/git-http/906545278380/us-east-1/f76f091f-f02a-4390-8abd-184d1735ca3a/yevgeniyilyin/sagemaker-ai-model-build-2.git  $HOME/mlops-02-14-11-03-33/sagemaker-p-ca7phmcraepa-modelbuild\n",
       "</pre>\n",
       "            <button onclick=\"navigator.clipboard.writeText(`\n",
       "git config --global credential.UseHttpPath true\n",
       "git config --global credential.helper 'cache --timeout=720000'\n",
       "git config --global credential.helper '!aws codecommit credential-helper $@'\n",
       "\n",
       "mkdir -p $HOME/mlops-02-14-11-03-33/sagemaker-p-ca7phmcraepa-modelbuild\n",
       "\n",
       "git clone https://codeconnections.us-east-1.amazonaws.com/git-http/906545278380/us-east-1/f76f091f-f02a-4390-8abd-184d1735ca3a/yevgeniyilyin/sagemaker-ai-model-build-2.git  $HOME/mlops-02-14-11-03-33/sagemaker-p-ca7phmcraepa-modelbuild\n",
       "`)\"\n",
       "                    style=\"position: absolute; top: 5px; right: 5px;\">\n",
       "                Copy\n",
       "            </button>\n",
       "        </div>\n",
       "    "
      ],
      "text/plain": [
       "<IPython.core.display.HTML object>"
      ]
     },
     "execution_count": 158,
     "metadata": {},
     "output_type": "execute_result"
    }
   ],
   "source": [
    "def copy_output(text):\n",
    "    return HTML(f'''\n",
    "        <div style=\"position: relative;\">\n",
    "            <pre>{text}</pre>\n",
    "            <button onclick=\"navigator.clipboard.writeText(`{text}`)\"\n",
    "                    style=\"position: absolute; top: 5px; right: 5px;\">\n",
    "                Copy\n",
    "            </button>\n",
    "        </div>\n",
    "    ''')\n",
    "    \n",
    "cmd = f'''\n",
    "git config --global credential.UseHttpPath true\n",
    "git config --global credential.helper 'cache --timeout=720000'\n",
    "git config --global credential.helper '!aws codecommit credential-helper $@'\n",
    "\n",
    "mkdir -p $HOME/{project_path}\n",
    "\n",
    "git clone https://codeconnections.{region}.amazonaws.com/git-http/{code_connection_arn.split(':')[4]}/{region}/{code_connection_arn.split(':')[-1].split('/')[-1]}/{model_build_code_repository_full_name}.git  $HOME/{project_path}\n",
    "'''\n",
    "\n",
    "copy_output(cmd)"
   ]
  },
  {
   "cell_type": "markdown",
   "id": "ccfe9536-fd10-4b43-9d63-bfc01090afa7",
   "metadata": {},
   "source": [
    "### 2. Replace pipeline construction code"
   ]
  },
  {
   "cell_type": "markdown",
   "id": "2982e5ab-98d0-4c44-b1c5-32dffbc1a4e3",
   "metadata": {},
   "source": [
    "The following steps are required to customize the project which contains the seed code. The next code cell executes all the required steps, you don't need to do anything manually. The following text is for your information only.\n",
    "\n",
    "- The seed source code is in the folder `<project_name>/sagemaker-<project-id>-modelbuild`.\n",
    "- The original file `codebuild-buildspec.yml` is renamed to `codebuild-buildspec-original.yml`.\n",
    "- MLOps project's code repository folder containing the pipeline code is renamed from `abalone` folder to `fromideatoprod`.\n",
    "- The original file with the template pipeline `pipeline.py` is renamed to `pipeline-original.py`.\n",
    "- Copy the `pipeline_steps` Python modules to the `pipelines` folder in the MLOps project's code repository folder.\n",
    "- Copy the `requirements.txt` created in the notebook 3 to the `pipelines` folder in the MLOps project's code repository folder.\n",
    "- Copy SageMaker Python SDK default configuration file `config.yaml` from the notebook 3 to the `pipelines` folder in the MLOps project's code repository folder."
   ]
  },
  {
   "cell_type": "markdown",
   "id": "636a508a-a373-4f8d-a66d-ad2d74fb9eb4",
   "metadata": {},
   "source": [
    "다음 단계들은 시드 코드가 포함된 프로젝트를 커스터마이즈하는 데 필요합니다. 다음 코드 셀이 모든 필요한 단계를 실행하므로, 수동으로 할 필요가 없습니다. 다음 내용은 참고용입니다.\n",
    "\n",
    "- 시드 소스 코드는 `<project_name>/sagemaker-<project-id>-modelbuild` 폴더에 있습니다.\n",
    "- 원본 파일 `codebuild-buildspec.yml`이 `codebuild-buildspec-original.yml`로 이름이 변경됩니다.\n",
    "- 파이프라인 코드가 포함된 MLOps 프로젝트의 코드 저장소 폴더가 `abalone` 폴더에서 `fromideatoprod`로 이름이 변경됩니다.\n",
    "- 템플릿 파이프라인이 있는 원본 파일 `pipeline.py`가 `pipeline-original.py`로 이름이 변경됩니다.\n",
    "- `pipeline_steps` Python 모듈을 MLOps 프로젝트의 코드 저장소 폴더의 `pipelines` 폴더로 복사합니다.\n",
    "- 노트북 3에서 생성된 `requirements.txt`를 MLOps 프로젝트의 코드 저장소 폴더의 `pipelines` 폴더로 복사합니다.\n",
    "- 노트북 3의 SageMaker Python SDK 기본 구성 파일 `config.yaml`을 MLOps 프로젝트의 코드 저장소 폴더의 `pipelines` 폴더로 복사합니다.\n",
    "\n",
    "주요 작업:\n",
    "1. 파일 구조 재구성\n",
    "2. 파일 이름 변경\n",
    "3. 필요 파일 복사\n",
    "4. 구성 파일 설정\n",
    "\n",
    "이 모든 과정이 자동으로 실행되어 프로젝트를 사용자의 필요에 맞게 구성합니다."
   ]
  },
  {
   "cell_type": "code",
   "execution_count": 161,
   "id": "34bf23b4-0635-4303-8682-98d0543af2ed",
   "metadata": {
    "tags": []
   },
   "outputs": [
    {
     "name": "stdout",
     "output_type": "stream",
     "text": [
      "/home/sagemaker-user/amazon-sagemaker-from-idea-to-production\n"
     ]
    }
   ],
   "source": [
    "# see the workshop folder name\n",
    "!pwd"
   ]
  },
  {
   "cell_type": "code",
   "execution_count": 162,
   "id": "0d6b5651-c5b9-466f-bc63-5a02a2f2841f",
   "metadata": {
    "tags": []
   },
   "outputs": [],
   "source": [
    "# if you local path for the workshop folder is different, set the correct absolute path to the variable workshop_folder\n",
    "workshop_folder = \"amazon-sagemaker-from-idea-to-production\""
   ]
  },
  {
   "cell_type": "code",
   "execution_count": 194,
   "id": "c3e2ac0e-53fe-4e29-b362-ca4ef28aede0",
   "metadata": {
    "tags": []
   },
   "outputs": [
    {
     "name": "stdout",
     "output_type": "stream",
     "text": [
      "mv: cannot stat '/home/sagemaker-user/mlops-02-14-11-03-33/sagemaker-p-ca7phmcraepa-modelbuild/pipelines/abalone': No such file or directory\n",
      "cp: -r not specified; omitting directory '/home/sagemaker-user/amazon-sagemaker-from-idea-to-production/pipeline_steps/__pycache__'\n",
      "cp: -r not specified; omitting directory '/home/sagemaker-user/amazon-sagemaker-from-idea-to-production/pipeline_steps/__pycache__'\n"
     ]
    }
   ],
   "source": [
    "!mkdir -p ~/{workshop_folder}/pipelines\n",
    "!mv ~/{project_path}/codebuild-buildspec.yml ~/{project_path}/codebuild-buildspec-original.yml\n",
    "!mv ~/{project_path}/setup.py ~/{project_path}/setup-original.py\n",
    "!mv ~/{project_path}/pipelines/abalone ~/{project_path}/pipelines/fromideatoprod\n",
    "!mv ~/{project_path}/pipelines/fromideatoprod/pipeline.py ~/{project_path}/pipelines/fromideatoprod/pipeline-original.py\n",
    "!cp ~/{workshop_folder}/pipeline_steps/* ~/{project_path}/pipelines/\n",
    "!cp ~/{workshop_folder}/pipeline_steps/* ~/{workshop_folder}/pipelines/\n",
    "!cp ~/{workshop_folder}/requirements.txt ~/{project_path}\n",
    "!cp ~/{workshop_folder}/config.yaml ~/{project_path}"
   ]
  },
  {
   "cell_type": "markdown",
   "id": "59e4e13d-8956-4b69-9834-53a88ea46048",
   "metadata": {},
   "source": [
    "Execute the following cell to write pipeline construction code to the file `pipeline.py`. Re-use the code from the step 3 notebook as the function `get_pipeline()`.\n",
    "\n",
    "<div style=\"border: 4px solid coral; text-align: center; margin: auto;\">\n",
    "    <p style=\" text-align: center; margin: auto;\">The pipeline construction code works with both S3 raw input dataset or feature set from the Feature Store, you need to pass a corresponding input parameter to the pipeline.\n",
    "    </p>\n",
    "</div>"
   ]
  },
  {
   "cell_type": "markdown",
   "id": "37768ebf-19ea-422e-b05a-547a6d4e7133",
   "metadata": {},
   "source": [
    "다음 셀을 실행하여 파이프라인 구성 코드를 `pipeline.py` 파일에 작성하세요. 3단계 노트북의 코드를 `get_pipeline()` 함수로 재사용합니다.\n",
    "\n",
    "<div style=\"border: 4px solid coral; text-align: center; margin: auto;\">\n",
    "    <p style=\" text-align: center; margin: auto;\">파이프라인 구성 코드는 S3 원시 입력 데이터셋 또는 Feature Store의 피처셋 모두와 작동합니다. 해당하는 입력 매개변수를 파이프라인에 전달해야 합니다.\n",
    "    </p>\n",
    "</div>\n",
    "\n",
    "주요 포인트:\n",
    "1. 파이프라인 코드 재사용\n",
    "   - 3단계 노트북의 코드 활용\n",
    "   - get_pipeline() 함수로 구성\n",
    "\n",
    "2. 데이터 소스 유연성\n",
    "   - S3 원시 데이터 지원\n",
    "   - Feature Store 피처셋 지원\n",
    "   - 입력 매개변수로 선택 가능\n",
    "\n",
    "3. 파일 생성\n",
    "   - pipeline.py 파일에 코드 작성\n",
    "   - 자동화된 파이프라인 구성 가능\n",
    "\n",
    "이를 통해 유연하고 재사용 가능한 ML 파이프라인을 구성할 수 있습니다."
   ]
  },
  {
   "cell_type": "code",
   "execution_count": 195,
   "id": "8e15c1c4-e04e-45f1-8c48-6f87e46e6a13",
   "metadata": {
    "tags": []
   },
   "outputs": [
    {
     "name": "stdout",
     "output_type": "stream",
     "text": [
      "Overwriting pipeline.py\n"
     ]
    }
   ],
   "source": [
    "%%writefile pipeline.py\n",
    "\n",
    "import pandas as pd\n",
    "import json\n",
    "import boto3\n",
    "import pathlib\n",
    "import io\n",
    "import os\n",
    "import sagemaker\n",
    "import mlflow\n",
    "from time import gmtime, strftime, sleep\n",
    "from sagemaker.deserializers import CSVDeserializer\n",
    "from sagemaker.serializers import CSVSerializer\n",
    "\n",
    "from sagemaker.workflow.execution_variables import ExecutionVariables\n",
    "from sagemaker.workflow.pipeline_context import PipelineSession\n",
    "from sagemaker.xgboost.estimator import XGBoost\n",
    "from sagemaker.sklearn.processing import SKLearnProcessor\n",
    "from sagemaker.processing import (\n",
    "    ProcessingInput, \n",
    "    ProcessingOutput, \n",
    "    ScriptProcessor\n",
    ")\n",
    "from sagemaker.inputs import TrainingInput\n",
    "\n",
    "from sagemaker.workflow.pipeline import Pipeline\n",
    "from sagemaker.workflow.steps import (\n",
    "    ProcessingStep, \n",
    "    TrainingStep, \n",
    "    CreateModelStep,\n",
    "    CacheConfig\n",
    ")\n",
    "from sagemaker.workflow.check_job_config import CheckJobConfig\n",
    "from sagemaker.workflow.parameters import (\n",
    "    ParameterInteger, \n",
    "    ParameterFloat, \n",
    "    ParameterString, \n",
    "    ParameterBoolean\n",
    ")\n",
    "from sagemaker.workflow.quality_check_step import (\n",
    "    DataQualityCheckConfig,\n",
    "    ModelQualityCheckConfig,\n",
    "    QualityCheckStep,\n",
    ")\n",
    "from sagemaker.workflow.clarify_check_step import (\n",
    "    ModelBiasCheckConfig, \n",
    "    ClarifyCheckStep, \n",
    "    ModelExplainabilityCheckConfig\n",
    ")\n",
    "from sagemaker import Model\n",
    "from sagemaker.inputs import CreateModelInput\n",
    "from sagemaker.workflow.model_step import ModelStep\n",
    "from sagemaker.workflow.fail_step import FailStep\n",
    "from sagemaker.workflow.conditions import (\n",
    "    ConditionGreaterThan,\n",
    "    ConditionGreaterThanOrEqualTo\n",
    ")\n",
    "from sagemaker.workflow.parallelism_config import ParallelismConfiguration\n",
    "from sagemaker.workflow.properties import PropertyFile\n",
    "from sagemaker.workflow.condition_step import ConditionStep\n",
    "from sagemaker.workflow.functions import (\n",
    "    Join,\n",
    "    JsonGet\n",
    ")\n",
    "from sagemaker.workflow.lambda_step import (\n",
    "    LambdaStep,\n",
    "    LambdaOutput,\n",
    "    LambdaOutputTypeEnum,\n",
    ")\n",
    "from sagemaker.lambda_helper import Lambda\n",
    "\n",
    "from sagemaker.model_metrics import (\n",
    "    MetricsSource, \n",
    "    ModelMetrics, \n",
    "    FileSource\n",
    ")\n",
    "from sagemaker.drift_check_baselines import DriftCheckBaselines\n",
    "from sagemaker.workflow.pipeline_definition_config import PipelineDefinitionConfig \n",
    "from sagemaker.image_uris import retrieve\n",
    "from sagemaker.workflow.function_step import step\n",
    "from sagemaker.workflow.step_outputs import get_step\n",
    "from sagemaker.model_monitor import DatasetFormat, model_monitoring\n",
    "\n",
    "from pipelines.preprocess import preprocess\n",
    "from pipelines.evaluate import evaluate\n",
    "from pipelines.register import register\n",
    "from pipelines.extract import prepare_datasets\n",
    "\n",
    "def get_sagemaker_client(region):\n",
    "     return boto3.Session(region_name=region).client(\"sagemaker\")\n",
    "\n",
    "def get_pipeline_session(region, bucket_name):\n",
    "    \"\"\"Gets the pipeline session based on the region.\n",
    "\n",
    "    Args:\n",
    "        region: the aws region to start the session\n",
    "        bucket_name: the bucket to use for storing the artifacts\n",
    "\n",
    "    Returns:\n",
    "        PipelineSession instance\n",
    "    \"\"\"\n",
    "\n",
    "    boto_session = boto3.Session(region_name=region)\n",
    "    sagemaker_client = boto_session.client(\"sagemaker\")\n",
    "\n",
    "    return PipelineSession(\n",
    "        boto_session=boto_session,\n",
    "        sagemaker_client=sagemaker_client,\n",
    "        default_bucket=bucket_name,\n",
    "    )\n",
    "\n",
    "def get_pipeline_custom_tags(new_tags, region, sagemaker_project_name=None):\n",
    "    try:\n",
    "        print(f\"Getting project tags for {sagemaker_project_name}\")\n",
    "        \n",
    "        sm_client = get_sagemaker_client(region)\n",
    "        \n",
    "        project_arn = sm_client.describe_project(ProjectName=sagemaker_project_name)['ProjectArn']\n",
    "        project_tags = sm_client.list_tags(ResourceArn=project_arn)['Tags']\n",
    "\n",
    "        print(f\"Project tags: {project_tags}\")\n",
    "        \n",
    "        for project_tag in project_tags:\n",
    "            new_tags.append(project_tag)\n",
    "            \n",
    "    except Exception as e:\n",
    "        print(f\"Error getting project tags: {e}\")\n",
    "        \n",
    "    return new_tags\n",
    "    \n",
    "def get_pipeline(\n",
    "    region,\n",
    "    sagemaker_project_id=None,\n",
    "    sagemaker_project_name=None,\n",
    "    role=None,\n",
    "    bucket_name=None,\n",
    "    bucket_prefix=\"from-idea-to-prod/xgboost\",\n",
    "    input_s3_url=None,\n",
    "    feature_group_name=None,\n",
    "    model_package_group_name=\"from-idea-to-prod-model-group\",\n",
    "    pipeline_name_prefix=\"from-idea-to-prod-pipeline\",\n",
    "    process_instance_type=\"ml.m5.large\",\n",
    "    train_instance_type=\"ml.m5.xlarge\",\n",
    "    test_score_threshold=0.70,\n",
    "    tracking_server_arn=None,\n",
    "):\n",
    "    \"\"\"Gets a SageMaker ML Pipeline instance.\n",
    "    \n",
    "    Returns:\n",
    "        an instance of a pipeline\n",
    "    \"\"\"\n",
    "    if feature_group_name is None and input_s3_url is None:\n",
    "        print(\"One of feature_group_name or input_s3_url must be provided. Exiting...\")\n",
    "        return None\n",
    "\n",
    "    session = get_pipeline_session(region, bucket_name)\n",
    "    sm = session.sagemaker_client\n",
    "    \n",
    "    if role is None:\n",
    "        role = sagemaker.session.get_execution_role(session)\n",
    "\n",
    "    print(f\"sagemaker version: {sagemaker.__version__}\")\n",
    "    print(f\"Execution role: {role}\")\n",
    "    print(f\"Input S3 URL: {input_s3_url}\")\n",
    "    print(f\"Feature group: {feature_group_name}\")\n",
    "    print(f\"Model package group: {model_package_group_name}\")\n",
    "    print(f\"Pipeline name prefix: {pipeline_name_prefix}\")\n",
    "    print(f\"Tracking server ARN: {tracking_server_arn}\")\n",
    "    \n",
    "    pipeline_name = f\"{pipeline_name_prefix}-{sagemaker_project_id}\"\n",
    "    experiment_name = pipeline_name\n",
    "\n",
    "    output_s3_prefix = f\"s3://{bucket_name}/{bucket_prefix}\"\n",
    "    # Set the output S3 url for model artifact\n",
    "    output_s3_url = f\"{output_s3_prefix}/output\"\n",
    "    # Set the output S3 url for feature store query results\n",
    "    output_query_location = f'{output_s3_prefix}/offline-store/query_results'\n",
    "    \n",
    "    # Set the output S3 urls for processed data\n",
    "    train_s3_url = f\"{output_s3_prefix}/train\"\n",
    "    validation_s3_url = f\"{output_s3_prefix}/validation\"\n",
    "    test_s3_url = f\"{output_s3_prefix}/test\"\n",
    "    evaluation_s3_url = f\"{output_s3_prefix}/evaluation\"\n",
    "    \n",
    "    baseline_s3_url = f\"{output_s3_prefix}/baseline\"\n",
    "    prediction_baseline_s3_url = f\"{output_s3_prefix}/prediction_baseline\"\n",
    "    \n",
    "    xgboost_image_uri = sagemaker.image_uris.retrieve(\n",
    "            \"xgboost\", \n",
    "            region=region,\n",
    "            version=\"1.5-1\"\n",
    "    )\n",
    "\n",
    "    # If no tracking server ARN, try to find an active MLflow server\n",
    "    if tracking_server_arn is None:\n",
    "        r = sm.list_mlflow_tracking_servers(\n",
    "            TrackingServerStatus='Created',\n",
    "        )['TrackingServerSummaries']\n",
    "    \n",
    "        if len(r) < 1:\n",
    "            print(\"You don't have any running MLflow servers. Exiting...\")\n",
    "            return None\n",
    "        else:\n",
    "            tracking_server_arn = r[0]['TrackingServerArn']\n",
    "            print(f\"Use the tracking server ARN:{tracking_server_arn}\")\n",
    "        \n",
    "    # Parameters for pipeline execution\n",
    "    \n",
    "    # Set processing instance type\n",
    "    process_instance_type_param = ParameterString(\n",
    "        name=\"ProcessingInstanceType\",\n",
    "        default_value=process_instance_type,\n",
    "    )\n",
    "\n",
    "    # Set training instance type\n",
    "    train_instance_type_param = ParameterString(\n",
    "        name=\"TrainingInstanceType\",\n",
    "        default_value=train_instance_type,\n",
    "    )\n",
    "\n",
    "    # Set model approval param\n",
    "    model_approval_status_param = ParameterString(\n",
    "        name=\"ModelApprovalStatus\",\n",
    "        default_value=\"PendingManualApproval\"\n",
    "    )\n",
    "\n",
    "    # Minimal threshold for model performance on the test dataset\n",
    "    test_score_threshold_param = ParameterFloat(\n",
    "        name=\"TestScoreThreshold\", \n",
    "        default_value=test_score_threshold\n",
    "    )\n",
    "\n",
    "    # S3 url for the input dataset\n",
    "    input_s3_url_param = ParameterString(\n",
    "        name=\"InputDataUrl\",\n",
    "        default_value=input_s3_url if input_s3_url else \"None\",\n",
    "    )\n",
    "\n",
    "    # Feature group name for the input featureset\n",
    "    feature_group_name_param = ParameterString(\n",
    "        name=\"FeatureGroupName\",\n",
    "        default_value=feature_group_name if feature_group_name else \"None\",\n",
    "    )\n",
    "    \n",
    "    # Model package group name\n",
    "    model_package_group_name_param = ParameterString(\n",
    "        name=\"ModelPackageGroupName\",\n",
    "        default_value=model_package_group_name,\n",
    "    )\n",
    "\n",
    "    # MLflow tracking server ARN\n",
    "    tracking_server_arn_param = ParameterString(\n",
    "        name=\"TrackingServerARN\",\n",
    "        default_value=tracking_server_arn,\n",
    "    )\n",
    "    \n",
    "    # Define step cache config\n",
    "    cache_config = CacheConfig(\n",
    "        enable_caching=True,\n",
    "        expire_after=\"P30d\" # 30-day\n",
    "    )\n",
    "\n",
    "    # Construct the pipeline\n",
    "    \n",
    "    # Get datasets\n",
    "    step_get_datasets = step(\n",
    "            preprocess, \n",
    "            role=role,\n",
    "            instance_type=process_instance_type_param,\n",
    "            name=f\"preprocess\",\n",
    "            keep_alive_period_in_seconds=3600,\n",
    "    )(\n",
    "        input_data_s3_path=input_s3_url_param,\n",
    "        output_s3_prefix=output_s3_prefix,\n",
    "        tracking_server_arn=tracking_server_arn_param,\n",
    "        experiment_name=experiment_name,\n",
    "        pipeline_run_name=ExecutionVariables.PIPELINE_EXECUTION_ID,\n",
    "    ) if input_s3_url else step(\n",
    "        prepare_datasets, \n",
    "        role=role,\n",
    "        instance_type=process_instance_type_param,\n",
    "        name=f\"extract-featureset\",\n",
    "        keep_alive_period_in_seconds=3600,\n",
    "    )(\n",
    "        feature_group_name=feature_group_name_param,\n",
    "        output_s3_prefix=output_s3_prefix,\n",
    "        query_output_s3_path=output_query_location,\n",
    "        tracking_server_arn=tracking_server_arn_param,\n",
    "        experiment_name=experiment_name,\n",
    "        pipeline_run_name=ExecutionVariables.PIPELINE_EXECUTION_ID,\n",
    "    )\n",
    "    \n",
    "    # Instantiate an XGBoost estimator object\n",
    "    estimator = sagemaker.estimator.Estimator(\n",
    "        image_uri=xgboost_image_uri,\n",
    "        role=role, \n",
    "        instance_type=train_instance_type_param,\n",
    "        instance_count=1,\n",
    "        output_path=output_s3_url,\n",
    "        sagemaker_session=session,\n",
    "        base_job_name=f\"{pipeline_name}-train\"\n",
    "    )\n",
    "    \n",
    "    # Define algorithm hyperparameters\n",
    "    estimator.set_hyperparameters(\n",
    "        num_round=100, # the number of rounds to run the training\n",
    "        max_depth=3, # maximum depth of a tree\n",
    "        eta=0.5, # step size shrinkage used in updates to prevent overfitting\n",
    "        alpha=2.5, # L1 regularization term on weights\n",
    "        objective=\"binary:logistic\",\n",
    "        eval_metric=\"auc\", # evaluation metrics for validation data\n",
    "        subsample=0.8, # subsample ratio of the training instance\n",
    "        colsample_bytree=0.8, # subsample ratio of columns when constructing each tree\n",
    "        min_child_weight=3, # minimum sum of instance weight (hessian) needed in a child\n",
    "        early_stopping_rounds=10, # the model trains until the validation score stops improving\n",
    "        verbosity=1, # verbosity of printing messages\n",
    "    )\n",
    "    \n",
    "    # train step\n",
    "    step_train = TrainingStep(\n",
    "        name=f\"train\",\n",
    "        step_args=estimator.fit(\n",
    "            {\n",
    "                \"train\": TrainingInput(\n",
    "                    step_get_datasets['train_data'],\n",
    "                    content_type=\"text/csv\",\n",
    "                ),\n",
    "                \"validation\": TrainingInput(\n",
    "                    step_get_datasets['validation_data'],\n",
    "                    content_type=\"text/csv\",\n",
    "                ),\n",
    "            }\n",
    "        ),\n",
    "        cache_config=cache_config,\n",
    "    )   \n",
    "    \n",
    "    # Evaluation step\n",
    "    step_evaluate = step(\n",
    "        evaluate,\n",
    "        role=role,\n",
    "        instance_type=process_instance_type_param,\n",
    "        name=f\"evaluate\",\n",
    "        keep_alive_period_in_seconds=3600,\n",
    "    )(\n",
    "        test_x_data_s3_path=step_get_datasets['test_x_data'],\n",
    "        test_y_data_s3_path=step_get_datasets['test_y_data'],\n",
    "        model_s3_path=step_train.properties.ModelArtifacts.S3ModelArtifacts,\n",
    "        output_s3_prefix=output_s3_prefix,\n",
    "        tracking_server_arn=tracking_server_arn_param,\n",
    "        experiment_name=step_get_datasets['experiment_name'],\n",
    "        pipeline_run_id=step_get_datasets['pipeline_run_id'],\n",
    "    )\n",
    "\n",
    "    # register model step\n",
    "    step_register = step(\n",
    "        register,\n",
    "        role=role,\n",
    "        instance_type=process_instance_type_param,\n",
    "        name=f\"register\",\n",
    "        keep_alive_period_in_seconds=3600,\n",
    "    )(\n",
    "        training_job_name=step_train.properties.TrainingJobName,\n",
    "        model_package_group_name=model_package_group_name_param,\n",
    "        model_approval_status=model_approval_status_param,\n",
    "        evaluation_result=step_evaluate['evaluation_result'],\n",
    "        output_s3_prefix=output_s3_url,\n",
    "        tracking_server_arn=tracking_server_arn_param,\n",
    "        experiment_name=step_get_datasets['experiment_name'],\n",
    "        pipeline_run_id=step_get_datasets['pipeline_run_id'],\n",
    "    )\n",
    "\n",
    "    # fail the pipeline execution step\n",
    "    step_fail = FailStep(\n",
    "        name=f\"fail\",\n",
    "        error_message=Join(on=\" \", values=[\"Execution failed due to AUC Score < \", test_score_threshold_param]),\n",
    "    )\n",
    "    \n",
    "    # condition to check in the condition step\n",
    "    condition_gte = ConditionGreaterThanOrEqualTo(\n",
    "            left=step_evaluate['evaluation_result']['classification_metrics']['auc_score']['value'],  \n",
    "            right=test_score_threshold_param,\n",
    "    )\n",
    "    \n",
    "    # conditional register step\n",
    "    step_conditional_register = ConditionStep(\n",
    "        name=f\"check-metrics\",\n",
    "        conditions=[condition_gte],\n",
    "        if_steps=[step_register],\n",
    "        else_steps=[step_fail],\n",
    "    )   \n",
    "\n",
    "    # Create a pipeline object\n",
    "    pipeline = Pipeline(\n",
    "        name=f\"{pipeline_name}\",\n",
    "        parameters=[\n",
    "            input_s3_url_param,\n",
    "            feature_group_name_param,\n",
    "            process_instance_type_param,\n",
    "            train_instance_type_param,\n",
    "            model_approval_status_param,\n",
    "            test_score_threshold_param,\n",
    "            model_package_group_name_param,\n",
    "            tracking_server_arn_param,\n",
    "        ],\n",
    "        steps=[step_conditional_register],\n",
    "        pipeline_definition_config=PipelineDefinitionConfig(use_custom_job_prefix=True)\n",
    "    )\n",
    "    \n",
    "    return pipeline"
   ]
  },
  {
   "cell_type": "markdown",
   "id": "1856dd52-e4e9-455a-9d80-e4f0bdd02793",
   "metadata": {},
   "source": [
    "Copy this `pipeline.py` file from the workshop folder to the `pipelines/fromideatoprod` folder in the project's code repository folder:"
   ]
  },
  {
   "cell_type": "code",
   "execution_count": 196,
   "id": "6c7032f9-7a3b-4c13-af03-70ee4476514d",
   "metadata": {
    "tags": []
   },
   "outputs": [],
   "source": [
    "!cp ~/{workshop_folder}/pipeline.py ~/{project_path}/pipelines/fromideatoprod/"
   ]
  },
  {
   "cell_type": "markdown",
   "id": "ed281c0f-acaf-4013-926e-a3181f3eae18",
   "metadata": {},
   "source": [
    "Test the function `get_pipeline` locally to see if everything works before running as remotely."
   ]
  },
  {
   "cell_type": "code",
   "execution_count": 197,
   "id": "c045f4ab-b003-47bc-a663-940d68e1a88f",
   "metadata": {},
   "outputs": [],
   "source": [
    "from pipeline import get_pipeline"
   ]
  },
  {
   "cell_type": "code",
   "execution_count": null,
   "id": "e6522a44-3de0-40c4-9847-5d773b506a88",
   "metadata": {},
   "outputs": [],
   "source": [
    "# If you created a feature store in the notebook 3, you can set the feature_group_name parameter instead of input_s3_url to take the data from the feature store\n",
    "p = get_pipeline(\n",
    "    region=region,\n",
    "    sagemaker_project_id=project_id,\n",
    "    sagemaker_project_name=project_name,\n",
    "    role=sm_role,\n",
    "    bucket_name=bucket_name,\n",
    "    bucket_prefix=bucket_prefix,\n",
    "    input_s3_url=input_s3_url,\n",
    "    # feature_group_name=dataset_feature_group_name,\n",
    "    model_package_group_name=model_package_group_name,\n",
    "    pipeline_name_prefix=pipeline_name,\n",
    "    process_instance_type=\"ml.m5.large\",\n",
    "    train_instance_type=\"ml.m5.xlarge\",\n",
    "    test_score_threshold=0.70,\n",
    "    tracking_server_arn=mlflow_arn,\n",
    ")"
   ]
  },
  {
   "cell_type": "code",
   "execution_count": null,
   "id": "a6daa6e7-9994-47b5-b13a-6fc31743e6f7",
   "metadata": {},
   "outputs": [],
   "source": [
    "p.definition()"
   ]
  },
  {
   "cell_type": "code",
   "execution_count": null,
   "id": "06917d7a-d058-40d5-9baa-23a69ee612ff",
   "metadata": {},
   "outputs": [],
   "source": [
    "p.upsert(role_arn=sm_role)"
   ]
  },
  {
   "cell_type": "markdown",
   "id": "dc05f302-9bbb-4895-aa7c-1e4b4dbbf435",
   "metadata": {},
   "source": [
    "To see the created pipeline in the Studio UI, click on the link constructed by the code cell below:"
   ]
  },
  {
   "cell_type": "code",
   "execution_count": 201,
   "id": "2b9f1db1-cb43-4c84-849f-532db4c1227a",
   "metadata": {},
   "outputs": [
    {
     "data": {
      "text/html": [
       "<b>See <a target=\"top\" href=\"https://studio-d-igloxuzrs3z2.studio.us-east-1.sagemaker.aws/pipelines/from-idea-to-prod-pipeline-12-06-30-22-p-ca7phmcraepa/graph\">the pipeline</a> in the Studio UI</b>"
      ],
      "text/plain": [
       "<IPython.core.display.HTML object>"
      ]
     },
     "metadata": {},
     "output_type": "display_data"
    }
   ],
   "source": [
    "from IPython.display import HTML\n",
    "\n",
    "# Show the pipeline link\n",
    "display(\n",
    "    HTML('<b>See <a target=\"top\" href=\"https://studio-{}.studio.{}.sagemaker.aws/pipelines/{}/graph\">the pipeline</a> in the Studio UI</b>'.format(\n",
    "            domain_id, region, p.describe()['PipelineName']))\n",
    ")"
   ]
  },
  {
   "cell_type": "markdown",
   "id": "204a1f87-6718-4350-944d-51b340e93fc2",
   "metadata": {},
   "source": [
    "At this point you have tested locally that the pipeline construction code works and it creates a pipeline. You can see this pipeline in Studio **Pipelines** widget. Now you ready to create a CI/CD pipeline."
   ]
  },
  {
   "cell_type": "markdown",
   "id": "0c1d77cb-ff61-448c-8ce4-acfdd976f970",
   "metadata": {},
   "source": [
    "이 시점에서 파이프라인 구성 코드가 작동하고 파이프라인을 생성한다는 것을 로컬에서 테스트했습니다. 이 파이프라인은 Studio의 **Pipelines** 위젯에서 확인할 수 있습니다. 이제 CI/CD 파이프라인을 생성할 준비가 되었습니다.\n",
    "\n",
    "주요 확인 사항:\n",
    "1. 로컬 테스트 완료\n",
    "   - 파이프라인 구성 코드 검증\n",
    "   - 파이프라인 생성 확인\n",
    "\n",
    "2. Studio UI 확인\n",
    "   - Pipelines 위젯에서 파이프라인 가시화\n",
    "   - 구성 상태 확인 가능\n",
    "\n",
    "3. 다음 단계 준비\n",
    "   - CI/CD 파이프라인 구축 준비 완료\n",
    "   - 자동화된 배포 프로세스 구현 가능\n",
    "\n",
    "이제 검증된 코드를 기반으로 자동화된 CI/CD 파이프라인을 구축할 수 있습니다."
   ]
  },
  {
   "cell_type": "markdown",
   "id": "3dd662c7-0411-4b2f-9234-e60ba81e2bc0",
   "metadata": {},
   "source": [
    "#### Control project ownership with resource tags\n",
    "Project-owned resources are automatically tagged with `sagemaker:project-name` and `sagemaker:project-id` tags for cost control, attribute-based security control, and governance. \n",
    "\n",
    "If you need to attach an existing repository, pipeline, model registry group, or endpoint to the project, you can add these two tags with the project name and id to the resource.\n",
    "\n",
    "For example, the next code cell adds `sagemaker:*` tags to the model package group you created in the previous notebook. As the result, the model package group is now visible as a project resource."
   ]
  },
  {
   "cell_type": "markdown",
   "id": "d8e35805-11b3-421e-9fad-cc5169e7c235",
   "metadata": {},
   "source": [
    "#### 리소스 태그로 프로젝트 소유권 제어\n",
    "프로젝트 소유 리소스에는 비용 제어, 속성 기반 보안 제어 및 거버넌스를 위해 `sagemaker:project-name` 및 `sagemaker:project-id` 태그가 자동으로 지정됩니다.\n",
    "\n",
    "기존 저장소, 파이프라인, 모델 레지스트리 그룹 또는 엔드포인트를 프로젝트에 연결해야 하는 경우, 이 두 태그를 프로젝트 이름과 ID와 함께 리소스에 추가할 수 있습니다.\n",
    "\n",
    "예를 들어, 다음 코드 셀은 이전 노트북에서 생성한 모델 패키지 그룹에 `sagemaker:*` 태그를 추가합니다. 결과적으로 모델 패키지 그룹이 이제 프로젝트 리소스로 표시됩니다.\n",
    "\n",
    "주요 내용:\n",
    "1. 자동 태그 지정\n",
    "   - sagemaker:project-name\n",
    "   - sagemaker:project-id\n",
    "\n",
    "2. 태그 활용 목적\n",
    "   - 비용 제어\n",
    "   - 보안 제어\n",
    "   - 거버넌스 관리\n",
    "\n",
    "3. 기존 리소스 연결\n",
    "   - 수동 태그 추가 가능\n",
    "   - 프로젝트와 리소스 연동\n",
    "\n",
    "4. 리소스 가시성\n",
    "   - 태그 추가로 프로젝트 리소스로 표시\n",
    "   - 통합된 관리 가능"
   ]
  },
  {
   "cell_type": "code",
   "execution_count": 202,
   "id": "f74be4dc-c7ed-4fc0-918d-851caaf8fa78",
   "metadata": {
    "tags": []
   },
   "outputs": [
    {
     "name": "stdout",
     "output_type": "stream",
     "text": [
      "Adding tags mlops-02-14-11-03-33 and p-ca7phmcraepa for model package group arn:aws:sagemaker:us-east-1:906545278380:model-package-group/from-idea-to-prod-pipeline-model-12-06-30-22\n",
      "{'Tags': [{'Key': 'sagemaker:project-name', 'Value': 'mlops-02-14-11-03-33'}, {'Key': 'sagemaker:project-id', 'Value': 'p-ca7phmcraepa'}], 'ResponseMetadata': {'RequestId': 'be9be1bf-da7a-4cdf-944f-0ae71254b32a', 'HTTPStatusCode': 200, 'HTTPHeaders': {'x-amzn-requestid': 'be9be1bf-da7a-4cdf-944f-0ae71254b32a', 'content-type': 'application/x-amz-json-1.1', 'content-length': '130', 'date': 'Sun, 16 Feb 2025 21:18:54 GMT'}, 'RetryAttempts': 0}}\n"
     ]
    },
    {
     "data": {
      "text/plain": [
       "[{'Key': 'sagemaker:project-name', 'Value': 'mlops-02-14-11-03-33'},\n",
       " {'Key': 'sagemaker:project-id', 'Value': 'p-ca7phmcraepa'}]"
      ]
     },
     "execution_count": 202,
     "metadata": {},
     "output_type": "execute_result"
    }
   ],
   "source": [
    "model_package_group_arn = sm.describe_model_package_group(ModelPackageGroupName=model_package_group_name).get(\"ModelPackageGroupArn\")\n",
    "\n",
    "if model_package_group_arn:\n",
    "    print(f\"Adding tags {project_arn.split('/')[-1]} and {project_id} for model package group {model_package_group_arn}\")\n",
    "    r = sm.add_tags(\n",
    "        ResourceArn=model_package_group_arn,\n",
    "        Tags=[\n",
    "            {\n",
    "                'Key': 'sagemaker:project-name',\n",
    "                'Value': project_arn.split(\"/\")[-1]\n",
    "            },\n",
    "            {\n",
    "                'Key': 'sagemaker:project-id',\n",
    "                'Value': project_id\n",
    "            },\n",
    "        ]\n",
    "    )\n",
    "    print(r)\n",
    "else:\n",
    "    print(f\"The model package group {model_package_group_name} doesn't exist\")\n",
    "    \n",
    "sm.list_tags(ResourceArn=model_package_group_arn)[\"Tags\"]"
   ]
  },
  {
   "cell_type": "markdown",
   "id": "f760f4bd-c5d5-4bf7-b56c-11e70fa981e1",
   "metadata": {},
   "source": [
    "### 3. Modify the build specification file\n",
    "Now modify the `codebuild-buildspec.yml` file in the project folder to reflect the new name of the Python module with your pipeline and set other project-specific parameters."
   ]
  },
  {
   "cell_type": "markdown",
   "id": "227f94f8-7408-455b-bdc9-69d94a79c874",
   "metadata": {},
   "source": [
    "### 3. 빌드 명세 파일 수정\n",
    "이제 프로젝트 폴더의 `codebuild-buildspec.yml` 파일을 수정하여 파이프라인이 포함된 Python 모듈의 새 이름을 반영하고 다른 프로젝트별 매개변수를 설정합니다.\n",
    "\n",
    "주요 수정 사항:\n",
    "1. Python 모듈 이름 업데이트\n",
    "   - 새로운 파이프라인 모듈 참조\n",
    "   - 올바른 경로 설정\n",
    "\n",
    "2. 프로젝트 매개변수 설정\n",
    "   - 프로젝트 특정 설정 반영\n",
    "   - 환경 변수 구성\n",
    "\n",
    "3. 빌드 프로세스 설정\n",
    "   - 빌드 단계 정의\n",
    "   - 의존성 관리\n",
    "   - 실행 환경 구성\n",
    "\n",
    "이러한 수정을 통해 CI/CD 파이프라인이 올바르게 코드를 빌드하고 실행할 수 있게 됩니다."
   ]
  },
  {
   "cell_type": "markdown",
   "id": "07928bfd-570a-4be9-a21e-7a1160e23b71",
   "metadata": {},
   "source": [
    "You need to pass the following parameters to a pipeline creation script - corresponding to the parameters of the `get_pipeline` function you've just created:\n",
    "- `input_s3_url` - an S3 URL for the input raw dataset. If you created a feature group in the notebook 3, you can use the parameter `feature_group_name` instead\n",
    "- `feature_group_name` – you can use this parameter if you created this feature group in the notebook 3, in this case you don't need to provide `input_s3_url`\n",
    "- `model_package_group_name` – the model registry package to register a model after training\n",
    "- `pipeline_name_prefix` – a name prefix for the pipeline. The pipeline name is constructed as `<pipeline_name_prefix>-<project-id>`\n",
    "- `role` – the pipeline execution role\n",
    "- `tracking_server_arn`- the MLflow server ARN for pipeline execution tracking\n",
    "\n",
    "The following cells print the values of these parameters:"
   ]
  },
  {
   "cell_type": "markdown",
   "id": "4625fb1b-8dca-411b-a701-9358daf32717",
   "metadata": {},
   "source": [
    "방금 생성한 `get_pipeline` 함수의 매개변수에 해당하는 다음 매개변수들을 파이프라인 생성 스크립트에 전달해야 합니다:\n",
    "\n",
    "- `input_s3_url` - 입력 원시 데이터셋의 S3 URL. 노트북 3에서 피처 그룹을 생성한 경우 대신 `feature_group_name` 매개변수를 사용할 수 있습니다\n",
    "- `feature_group_name` - 노트북 3에서 이 피처 그룹을 생성한 경우 사용할 수 있으며, 이 경우 `input_s3_url`을 제공할 필요가 없습니다\n",
    "- `model_package_group_name` - 학습 후 모델을 등록할 모델 레지스트리 패키지\n",
    "- `pipeline_name_prefix` - 파이프라인의 이름 접두사. 파이프라인 이름은 `<pipeline_name_prefix>-<project-id>`로 구성됩니다\n",
    "- `role` - 파이프라인 실행 역할\n",
    "- `tracking_server_arn` - 파이프라인 실행 추적을 위한 MLflow 서버 ARN\n",
    "\n",
    "다음 셀들은 이러한 매개변수들의 값을 출력합니다:\n",
    "\n",
    "주요 포인트:\n",
    "1. 데이터 소스 선택\n",
    "   - S3 URL 또는 피처 그룹 사용\n",
    "   - 상호 배타적 선택\n",
    "\n",
    "2. 파이프라인 식별자\n",
    "   - 고유한 이름 생성\n",
    "   - 프로젝트 ID 포함\n",
    "\n",
    "3. 실행 환경 설정\n",
    "   - 실행 역할 지정\n",
    "   - MLflow 추적 설정\n",
    "\n",
    "4. 모델 관리\n",
    "   - 모델 패키지 그룹 지정\n",
    "   - 버전 관리 지원"
   ]
  },
  {
   "cell_type": "code",
   "execution_count": 203,
   "id": "736ce50f-b4a6-4b84-9c4e-f4a9f2c30711",
   "metadata": {
    "tags": []
   },
   "outputs": [
    {
     "name": "stdout",
     "output_type": "stream",
     "text": [
      "\n",
      "        INPUT-S3-URL: s3://sagemaker-us-east-1-906545278380/from-idea-to-prod/xgboost/input/bank-additional-full.csv\n",
      "        FEATURE-GROUP-NAME: from-idea-to-prod-12-06-30-53\n",
      "        MODEL-PACKAGE-GROUP-NAME: mlops-02-14-11-03-33-p-ca7phmcraepa\n",
      "        PIPELINE-NAME-PREFIX: from-idea-to-prod-pipeline-12-06-30-22\n",
      "        ROLE: arn:aws:iam::906545278380:role/mlops-workshop-domain-SageMakerExecutionRole-rIgas55nwmQD\n",
      "        TRACKING-SERVER-ARN: arn:aws:sagemaker:us-east-1:906545278380:mlflow-tracking-server/test-mlflow\n",
      "        \n"
     ]
    }
   ],
   "source": [
    "try:\n",
    "    print(f\"\"\"\n",
    "        INPUT-S3-URL: {input_s3_url}\n",
    "        FEATURE-GROUP-NAME: {dataset_feature_group_name}\n",
    "        MODEL-PACKAGE-GROUP-NAME: {project_name}-{project_id}\n",
    "        PIPELINE-NAME-PREFIX: {pipeline_name}\n",
    "        ROLE: {sm_role}\n",
    "        TRACKING-SERVER-ARN: {mlflow_arn}\n",
    "        \"\"\")\n",
    "except NameError:\n",
    "    print(f\"\"\"\n",
    "        Dataset feature group name is not defined, use input_s3_url instead:\n",
    "        ********************************************************************\n",
    "        \n",
    "        INPUT-S3-URL: {input_s3_url}\n",
    "        MODEL-PACKAGE-GROUP-NAME: {project_name}-{project_id}\n",
    "        PIPELINE-NAME-PREFIX: {pipeline_name}\n",
    "        ROLE: {sm_role}\n",
    "        TRACKING-SERVER-ARN: {mlflow_arn}\n",
    "        \"\"\")"
   ]
  },
  {
   "cell_type": "markdown",
   "id": "c12f8aa7-6bb2-40bc-824f-4dd70f8d5036",
   "metadata": {},
   "source": [
    "Now replace the value of these parameters in the following code cell with the printed values from the cell above. \n",
    "\n",
    "To do it, locate the parameter `kwargs` in the following code cell starting with `%%writefile codebuild-buildspec.yml`:\n",
    "\n",
    "```\n",
    "--kwargs \"{ \\\n",
    "    \\\"input_s3_url\\\":\\\"<INPUT-S3-URL>\\\", \\\n",
    "    \\\"feature_group_name\\\":\\\"<FEATURE-GROUP-NAME>\\\", \\\n",
    "    \\\"model_package_group_name\\\":\\\"<MODEL-PACKAGE-GROUP-NAME>\\\", \\\n",
    "    \\\"pipeline_name_prefix\\\":\\\"<PIPELINE-BASE-NAME>\\\", \\\n",
    "    \\\"role\\\":\\\"<SAGEMAKER-EXECUTION-ROLE-ARN>\\\", \\\n",
    "    \\\"tracking_server_arn\\\":\\\"<TRACKING-SERVER-ARN>\\\", \\\n",
    "    \\\"region\\\":\\\"${AWS_REGION}\\\", \\\n",
    "    \\\"sagemaker_project_name\\\":\\\"${SAGEMAKER_PROJECT_NAME}\\\", \\\n",
    "    \\\"sagemaker_project_id\\\":\\\"${SAGEMAKER_PROJECT_ID}\\\", \\\n",
    "    \\\"bucket_name\\\":\\\"${ARTIFACT_BUCKET}\\\" \\\n",
    "        }\"\n",
    "```\n",
    "\n",
    "and replace the values of `input_s3_url` OR `feature_group_name`, `model_package_group_name`, `pipeline_name_prefix`, `role`, and `tracking_server_arn` parameters with the values printed by the previous cells.\n",
    "\n",
    "You need to replace only one of `input_s3_url` or `feature_group_name` depending on what dataset input method you'd like to use - a raw input dataset from S3 or the processed featureset from the feature store. You can use the feature store only if you created it in the previous notebook. \n",
    "\n",
    "<div class=\"alert alert-info\">Delete the line with parameter that you don't use: <code>input_s3_url</code> or <code>feature_group_name</code> from the cell code.</div>\n",
    "\n",
    "![](img/codebuild-buildspec-edit.png)\n",
    "\n",
    "After you replace the values of the parameter, execute the cell to write a build spec file."
   ]
  },
  {
   "cell_type": "markdown",
   "id": "07dd1753-f71f-4a9c-a2a8-d13e248f0f97",
   "metadata": {},
   "source": [
    "이제 위 셀에서 출력된 값으로 다음 코드 셀의 이러한 매개변수 값을 교체하세요.\n",
    "\n",
    "`%%writefile codebuild-buildspec.yml`로 시작하는 다음 코드 셀에서 `kwargs` 매개변수를 찾으세요:\n",
    "\n",
    "```\n",
    "--kwargs \"{ \\\n",
    "    \\\"input_s3_url\\\":\\\"<INPUT-S3-URL>\\\", \\\n",
    "    \\\"feature_group_name\\\":\\\"<FEATURE-GROUP-NAME>\\\", \\\n",
    "    \\\"model_package_group_name\\\":\\\"<MODEL-PACKAGE-GROUP-NAME>\\\", \\\n",
    "    \\\"pipeline_name_prefix\\\":\\\"<PIPELINE-BASE-NAME>\\\", \\\n",
    "    \\\"role\\\":\\\"<SAGEMAKER-EXECUTION-ROLE-ARN>\\\", \\\n",
    "    \\\"tracking_server_arn\\\":\\\"<TRACKING-SERVER-ARN>\\\", \\\n",
    "    \\\"region\\\":\\\"${AWS_REGION}\\\", \\\n",
    "    \\\"sagemaker_project_name\\\":\\\"${SAGEMAKER_PROJECT_NAME}\\\", \\\n",
    "    \\\"sagemaker_project_id\\\":\\\"${SAGEMAKER_PROJECT_ID}\\\", \\\n",
    "    \\\"bucket_name\\\":\\\"${ARTIFACT_BUCKET}\\\" \\\n",
    "        }\"\n",
    "```\n",
    "\n",
    "이전 셀에서 출력된 값으로 `input_s3_url` 또는 `feature_group_name`, `model_package_group_name`, `pipeline_name_prefix`, `role`, `tracking_server_arn` 매개변수의 값을 교체하세요.\n",
    "\n",
    "사용하고자 하는 데이터셋 입력 방식에 따라 `input_s3_url` 또는 `feature_group_name` 중 하나만 교체하면 됩니다 - S3의 원시 입력 데이터셋 또는 피처 스토어의 처리된 피처셋. 이전 노트북에서 생성한 경우에만 피처 스토어를 사용할 수 있습니다.\n",
    "\n",
    "<div class=\"alert alert-info\">사용하지 않는 매개변수의 줄을 셀 코드에서 삭제하세요: <code>input_s3_url</code> 또는 <code>feature_group_name</code></div>\n",
    "\n",
    "![](img/codebuild-buildspec-edit.png)\n",
    "\n",
    "매개변수 값을 교체한 후 셀을 실행하여 빌드 명세 파일을 작성하세요.\n",
    "\n",
    "주요 작업:\n",
    "1. 매개변수 값 교체\n",
    "2. 불필요한 매개변수 라인 삭제\n",
    "3. 빌드 명세 파일 생성\n",
    "4. 구성 확인"
   ]
  },
  {
   "cell_type": "code",
   "execution_count": 204,
   "id": "baa0c8bf-5a4b-40ed-9323-6ae9ad85c842",
   "metadata": {
    "tags": []
   },
   "outputs": [
    {
     "name": "stdout",
     "output_type": "stream",
     "text": [
      "Overwriting codebuild-buildspec.yml\n"
     ]
    }
   ],
   "source": [
    "%%writefile codebuild-buildspec.yml\n",
    "\n",
    "version: 0.2\n",
    "\n",
    "phases:\n",
    "  install:\n",
    "    runtime-versions:\n",
    "      python: 3.10\n",
    "    commands:\n",
    "      - pip install --upgrade --force-reinstall . \"awscli>1.20.30\"\n",
    "      - pip install --upgrade mlflow sagemaker-mlflow s3fs xgboost\n",
    "    \n",
    "  build:\n",
    "    commands:\n",
    "      - export SAGEMAKER_USER_CONFIG_OVERRIDE=\"./config.yaml\"\n",
    "      - export PYTHONUNBUFFERED=TRUE\n",
    "      - export SAGEMAKER_PROJECT_NAME_ID=\"${SAGEMAKER_PROJECT_NAME}-${SAGEMAKER_PROJECT_ID}\"\n",
    "      - |\n",
    "        run-pipeline --module-name pipelines.fromideatoprod.pipeline \\\n",
    "          --role-arn $SAGEMAKER_PIPELINE_ROLE_ARN \\\n",
    "          --tags \"[{\\\"Key\\\":\\\"sagemaker:project-name\\\",\\\"Value\\\":\\\"${SAGEMAKER_PROJECT_NAME}\\\"}, {\\\"Key\\\":\\\"sagemaker:project-id\\\", \\\"Value\\\":\\\"${SAGEMAKER_PROJECT_ID}\\\"}]\" \\\n",
    "          --kwargs \"{ \\\n",
    "                \\\"input_s3_url\\\":\\\"s3://sagemaker-us-east-1-906545278380/from-idea-to-prod/xgboost/input/bank-additional-full.csv\\\", \\\n",
    "                \\\"model_package_group_name\\\":\\\"mlops-02-14-11-03-33-p-ca7phmcraepa\\\",\\\n",
    "                \\\"pipeline_name_prefix\\\":\\\"from-idea-to-prod-pipeline-12-06-30-22\\\",\\\n",
    "                \\\"role\\\":\\\"arn:aws:iam::906545278380:role/mlops-workshop-domain-SageMakerExecutionRole-rIgas55nwmQD\\\",\\\n",
    "                \\\"tracking_server_arn\\\":\\\"arn:aws:sagemaker:us-east-1:906545278380:mlflow-tracking-server/test-mlflow\\\", \\\n",
    "                \\\"region\\\":\\\"${AWS_REGION}\\\", \\\n",
    "                \\\"sagemaker_project_name\\\":\\\"${SAGEMAKER_PROJECT_NAME}\\\",\\\n",
    "                \\\"sagemaker_project_id\\\":\\\"${SAGEMAKER_PROJECT_ID}\\\",\\\n",
    "                \\\"bucket_name\\\":\\\"${ARTIFACT_BUCKET}\\\"\\\n",
    "                    }\"\n",
    "      - echo \"Create/update of the SageMaker Pipeline and a pipeline execution completed.\""
   ]
  },
  {
   "cell_type": "markdown",
   "id": "ffd4a948-8a46-4d75-b15a-c15d3d4873c4",
   "metadata": {},
   "source": [
    "Copy the `codebuild-buildspec.yml` file from the workshop folder to the project's code repository folder:"
   ]
  },
  {
   "cell_type": "code",
   "execution_count": 205,
   "id": "f521809e-b0fe-46a7-b49f-5afea0ab6ad2",
   "metadata": {
    "tags": []
   },
   "outputs": [],
   "source": [
    "!cp ~/{workshop_folder}/codebuild-buildspec.yml ~/{project_path}/codebuild-buildspec.yml"
   ]
  },
  {
   "cell_type": "markdown",
   "id": "00a152ac-2237-45d9-a1a9-1b3d1738e607",
   "metadata": {},
   "source": [
    "To summarize, you have just done three changes in the build spec file:\n",
    "1. Modified the `run-pipeline` `--module-name` parameter value from `pipelines.abalone.pipeline` to the new path `pipelines.fromideatoprod.pipeline`\n",
    "2. Removed some parameters from the `kwargs` list to make use of `get_pipeline()` function default parameter values\n",
    "3. Added additional parameters for the pipeline to the `kwargs` parameter list"
   ]
  },
  {
   "cell_type": "markdown",
   "id": "1a620e0a-bef9-43bc-89dd-8a4c25655742",
   "metadata": {},
   "source": [
    "요약하면, 빌드 명세 파일에서 다음 세 가지 변경을 수행했습니다:\n",
    "1. `run-pipeline` `--module-name` 매개변수 값을 `pipelines.abalone.pipeline`에서 새로운 경로 `pipelines.fromideatoprod.pipeline`로 수정\n",
    "2. `get_pipeline()` 함수의 기본 매개변수 값을 사용하기 위해 `kwargs` 목록에서 일부 매개변수 제거\n",
    "3. 파이프라인을 위한 추가 매개변수를 `kwargs` 매개변수 목록에 추가\n",
    "\n",
    "주요 변경사항:\n",
    "1. 모듈 경로 업데이트\n",
    "   - 기존 경로 변경\n",
    "   - 새로운 파이프라인 모듈 참조\n",
    "\n",
    "2. 매개변수 최적화\n",
    "   - 불필요한 매개변수 제거\n",
    "   - 기본값 활용\n",
    "\n",
    "3. 파이프라인 구성 확장\n",
    "   - 새로운 매개변수 추가\n",
    "   - 기능 확장 지원\n",
    "\n",
    "이러한 변경을 통해 파이프라인이 더 효율적이고 유연하게 구성되었습니다."
   ]
  },
  {
   "cell_type": "markdown",
   "id": "e71c081b-75f2-4c06-a892-8348e9d0cd91",
   "metadata": {},
   "source": [
    "### 4. Create the `setup.py` file\n",
    "Finally, you need to provide the `setup.py` file in the project's code repository folder."
   ]
  },
  {
   "cell_type": "markdown",
   "id": "44ce88fc-2bad-4712-82a7-2a55d7440e27",
   "metadata": {},
   "source": [
    "### 4. `setup.py` 파일 생성\n",
    "마지막으로, 프로젝트의 코드 저장소 폴더에 `setup.py` 파일을 제공해야 합니다.\n",
    "\n",
    "주요 내용:\n",
    "1. Python 패키지 설정\n",
    "   - 프로젝트 메타데이터 정의\n",
    "   - 의존성 관리\n",
    "   - 설치 구성\n",
    "\n",
    "2. 파일의 역할\n",
    "   - 파이프라인 코드 패키징\n",
    "   - 필요한 종속성 정의\n",
    "   - 배포 설정 관리\n",
    "\n",
    "3. 설치 구성\n",
    "   - 필요한 라이브러리 지정\n",
    "   - 버전 관리\n",
    "   - 패키지 구조 정의\n",
    "\n",
    "이 파일은 프로젝트의 Python 패키지 구성과 배포를 관리하는 중요한 역할을 합니다."
   ]
  },
  {
   "cell_type": "code",
   "execution_count": 206,
   "id": "71fcb745-8d2e-4d93-a2bd-52bd6c4226c6",
   "metadata": {},
   "outputs": [
    {
     "name": "stdout",
     "output_type": "stream",
     "text": [
      "Overwriting setup.py\n"
     ]
    }
   ],
   "source": [
    "%%writefile setup.py\n",
    "import os\n",
    "import setuptools\n",
    "\n",
    "\n",
    "about = {}\n",
    "here = os.path.abspath(os.path.dirname(__file__))\n",
    "with open(os.path.join(here, \"pipelines\", \"__version__.py\")) as f:\n",
    "    exec(f.read(), about)\n",
    "\n",
    "\n",
    "with open(\"README.md\", \"r\") as f:\n",
    "    readme = f.read()\n",
    "\n",
    "\n",
    "required_packages = [\"sagemaker\"]\n",
    "extras = {\n",
    "    \"test\": [\n",
    "        \"black\",\n",
    "        \"coverage\",\n",
    "        \"flake8\",\n",
    "        \"mock\",\n",
    "        \"pydocstyle\",\n",
    "        \"pytest\",\n",
    "        \"pytest-cov\",\n",
    "        \"sagemaker\",\n",
    "        \"tox\",\n",
    "    ]\n",
    "}\n",
    "setuptools.setup(\n",
    "    name=about[\"__title__\"],\n",
    "    description=about[\"__description__\"],\n",
    "    version=about[\"__version__\"],\n",
    "    author=about[\"__author__\"],\n",
    "    author_email=[\"__author_email__\"],\n",
    "    long_description=readme,\n",
    "    long_description_content_type=\"text/markdown\",\n",
    "    url=about[\"__url__\"],\n",
    "    license=about[\"__license__\"],\n",
    "    packages=setuptools.find_packages(),\n",
    "    include_package_data=True,\n",
    "    python_requires=\">=3.6\",\n",
    "    install_requires=required_packages,\n",
    "    extras_require=extras,\n",
    "    entry_points={\n",
    "        \"console_scripts\": [\n",
    "            \"get-pipeline-definition=pipelines.get_pipeline_definition:main\",\n",
    "            \"run-pipeline=pipelines.run_pipeline:main\",\n",
    "        ]\n",
    "    },\n",
    "    classifiers=[\n",
    "        \"Development Status :: 3 - Alpha\",\n",
    "        \"Intended Audience :: Developers\",\n",
    "        \"Natural Language :: English\",\n",
    "        \"Programming Language :: Python\",\n",
    "        \"Programming Language :: Python :: 3\",\n",
    "        \"Programming Language :: Python :: 3.6\",\n",
    "        \"Programming Language :: Python :: 3.7\",\n",
    "        \"Programming Language :: Python :: 3.8\",\n",
    "    ],\n",
    ")"
   ]
  },
  {
   "cell_type": "code",
   "execution_count": 207,
   "id": "533690ea-1900-4b76-8333-811d7a362ccf",
   "metadata": {},
   "outputs": [],
   "source": [
    "!cp ~/{workshop_folder}/setup.py ~/{project_path}/setup.py"
   ]
  },
  {
   "cell_type": "markdown",
   "id": "9fcfd6d3-2116-42e9-988b-e377fcd4b912",
   "metadata": {},
   "source": [
    "---"
   ]
  },
  {
   "cell_type": "markdown",
   "id": "d4ee8789-1d8f-4a06-a958-8c244fa9a869",
   "metadata": {},
   "source": [
    "## Run the CI/CD for the model building pipeline\n",
    "To launch the CI/CD for the model building pipeline you need to push the changed code into the project GitHub repository.\n",
    "\n",
    "<div class=\"alert alert-info\">Make sure you are in the folder that contains the repository code in JupyterLab terminal when running git commands. The folder name looks like <code>[project-name]/sagemaker-[project-id]-modelbuild</code>.</div>\n",
    "\n",
    "Open a system terminal window via the JupyterLab menu **File** > **New** > **Terminal** and enter the commands generated by the following code cell.\n",
    "Keep `user.email` and `user.name` or replace with your data."
   ]
  },
  {
   "cell_type": "markdown",
   "id": "00f975bf-b1d3-4e8d-b60e-33df9aa730c8",
   "metadata": {},
   "source": [
    "## 모델 구축 파이프라인의 CI/CD 실행\n",
    "모델 구축 파이프라인의 CI/CD를 시작하려면 변경된 코드를 프로젝트 GitHub 저장소에 푸시해야 합니다.\n",
    "\n",
    "<div class=\"alert alert-info\">git 명령을 실행할 때 JupyterLab 터미널에서 저장소 코드가 있는 폴더에 있는지 확인하세요. 폴더 이름은 <code>[project-name]/sagemaker-[project-id]-modelbuild</code>와 같은 형식입니다.</div>\n",
    "\n",
    "JupyterLab 메뉴 **File** > **New** > **Terminal**을 통해 시스템 터미널 창을 열고 다음 코드 셀에서 생성된 명령을 입력하세요.\n",
    "`user.email`과 `user.name`을 유지하거나 사용자의 데이터로 교체하세요.\n",
    "\n",
    "주요 단계:\n",
    "1. 터미널 접근\n",
    "   - JupyterLab 메뉴 사용\n",
    "   - 올바른 폴더 확인\n",
    "\n",
    "2. Git 설정\n",
    "   - 사용자 이메일 설정\n",
    "   - 사용자 이름 설정\n",
    "\n",
    "3. 코드 푸시\n",
    "   - 변경사항 커밋\n",
    "   - GitHub 저장소에 푸시\n",
    "\n",
    "4. CI/CD 시작\n",
    "   - 자동화된 파이프라인 트리거\n",
    "   - 빌드 프로세스 시작"
   ]
  },
  {
   "cell_type": "code",
   "execution_count": 188,
   "id": "4ea12915-97a3-4158-9f2f-046e3f674850",
   "metadata": {},
   "outputs": [
    {
     "data": {
      "text/html": [
       "\n",
       "        <div style=\"position: relative;\">\n",
       "            <pre>\n",
       "cd ~/mlops-02-14-11-03-33/sagemaker-p-ca7phmcraepa-modelbuild\n",
       "\n",
       "git config --global user.email \"you@example.com\"\n",
       "git config --global user.name \"Your Name\"\n",
       "  \n",
       "git add -A\n",
       "git commit -am \"customize project\"\n",
       "git push\n",
       "</pre>\n",
       "            <button onclick=\"navigator.clipboard.writeText(`\n",
       "cd ~/mlops-02-14-11-03-33/sagemaker-p-ca7phmcraepa-modelbuild\n",
       "\n",
       "git config --global user.email \"you@example.com\"\n",
       "git config --global user.name \"Your Name\"\n",
       "  \n",
       "git add -A\n",
       "git commit -am \"customize project\"\n",
       "git push\n",
       "`)\"\n",
       "                    style=\"position: absolute; top: 5px; right: 5px;\">\n",
       "                Copy\n",
       "            </button>\n",
       "        </div>\n",
       "    "
      ],
      "text/plain": [
       "<IPython.core.display.HTML object>"
      ]
     },
     "execution_count": 188,
     "metadata": {},
     "output_type": "execute_result"
    }
   ],
   "source": [
    "cmd = f'''\n",
    "cd ~/{project_path}\n",
    "\n",
    "git config --global user.email \"you@example.com\"\n",
    "git config --global user.name \"Your Name\"\n",
    "  \n",
    "git add -A\n",
    "git commit -am \"customize project\"\n",
    "git push\n",
    "'''\n",
    "\n",
    "copy_output(cmd)"
   ]
  },
  {
   "cell_type": "markdown",
   "id": "eee28830-a684-4329-a4f3-892a9c465805",
   "metadata": {},
   "source": [
    "After pushing your code changes, the project initiates a run of the CodePipeline pipeline that constructs, upcerts, and executes the SageMaker model building pipeline. This new pipeline execution creates a new model version in the model package group in the SageMaker model registry.\n",
    "\n",
    "You can follow up the execution of the pipeline in the Studio **Pipelines** widget.\n",
    "\n",
    "Wait until the pipeline execution finishes. The execution takes about 10 minutes to complete."
   ]
  },
  {
   "cell_type": "markdown",
   "id": "16691223-13a4-47fd-ad49-c0582e56f47e",
   "metadata": {},
   "source": [
    "코드 변경사항을 푸시한 후, 프로젝트는 SageMaker 모델 구축 파이프라인을 구성, 업서트(upsert)하고 실행하는 CodePipeline 파이프라인 실행을 시작합니다. 이 새로운 파이프라인 실행은 SageMaker 모델 레지스트리의 모델 패키지 그룹에 새로운 모델 버전을 생성합니다.\n",
    "\n",
    "Studio의 **Pipelines** 위젯에서 파이프라인 실행 상황을 추적할 수 있습니다.\n",
    "\n",
    "파이프라인 실행이 완료될 때까지 기다리세요. 실행은 약 10분이 소요됩니다.\n",
    "\n",
    "주요 단계:\n",
    "1. 자동화된 프로세스 시작\n",
    "   - 코드 푸시로 트리거\n",
    "   - CodePipeline 실행 시작\n",
    "\n",
    "2. 파이프라인 작업\n",
    "   - 모델 구축 파이프라인 구성\n",
    "   - 파이프라인 업서트\n",
    "   - 자동 실행\n",
    "\n",
    "3. 모델 버전 관리\n",
    "   - 새 모델 버전 생성\n",
    "   - 모델 레지스트리 업데이트\n",
    "\n",
    "4. 모니터링\n",
    "   - Pipelines 위젯으로 진행상황 추적\n",
    "   - 약 10분 소요 예상"
   ]
  },
  {
   "cell_type": "markdown",
   "id": "e569144d-0ee8-4a53-af4d-6ea4cbedb57a",
   "metadata": {},
   "source": [
    "To see the execution of the pipeline click on the link constructed by the code cell below. Note, that CodeBuild takes about 1 minute to build upsert the pipeline and to start the execution. Refresh the Studio UI page to see the started execution."
   ]
  },
  {
   "cell_type": "markdown",
   "id": "75de30f9-aa5d-4179-a0e2-f20ce6ad27bd",
   "metadata": {},
   "source": [
    "아래 코드 셀에서 생성된 링크를 클릭하여 파이프라인 실행을 확인하세요. CodeBuild가 파이프라인을 업서트하고 실행을 시작하는 데 약 1분이 소요됩니다. 시작된 실행을 보려면 Studio UI 페이지를 새로고침하세요.\n",
    "\n",
    "주요 안내:\n",
    "1. 실행 확인 방법\n",
    "   - 제공된 링크 클릭\n",
    "   - Studio UI에서 확인\n",
    "\n",
    "2. 소요 시간\n",
    "   - CodeBuild 초기 설정: 약 1분\n",
    "   - 파이프라인 업서트\n",
    "   - 실행 시작\n",
    "\n",
    "3. 화면 갱신\n",
    "   - Studio UI 새로고침 필요\n",
    "   - 실행 상태 업데이트 확인\n",
    "\n",
    "4. 모니터링 포인트\n",
    "   - 파이프라인 구성 상태\n",
    "   - 실행 진행 상황\n",
    "   - 각 단계별 상태"
   ]
  },
  {
   "cell_type": "code",
   "execution_count": 190,
   "id": "49315ec3-051f-432c-8039-20b3dfbabb16",
   "metadata": {},
   "outputs": [
    {
     "data": {
      "text/html": [
       "<b>See <a target=\"top\" href=\"https://studio-d-igloxuzrs3z2.studio.us-east-1.sagemaker.aws/pipelines/from-idea-to-prod-pipeline-12-06-30-22-p-ca7phmcraepa/executions/\">the pipeline executions</a> in the Studio UI</b>"
      ],
      "text/plain": [
       "<IPython.core.display.HTML object>"
      ]
     },
     "metadata": {},
     "output_type": "display_data"
    }
   ],
   "source": [
    "# Show the pipeline execution link\n",
    "display(\n",
    "    HTML('<b>See <a target=\"top\" href=\"https://studio-{}.studio.{}.sagemaker.aws/pipelines/{}/executions/\">the pipeline executions</a> in the Studio UI</b>'.format(\n",
    "            domain_id, region, p.describe()['PipelineName']))\n",
    ")"
   ]
  },
  {
   "cell_type": "markdown",
   "id": "dc353ff3-079e-4947-bae6-7ddb7635f670",
   "metadata": {},
   "source": [
    "## View the model package in the model registry\n",
    "\n",
    "This new pipeline creates a new model package group named `<project_name>-<project-id` in the SageMaker model registry.\n",
    "\n",
    "To see the model package version in the Studio UI click on the link constructed by the code cell below. \n",
    "<div class=\"alert alert-info\">You need to wait until the pipeline execution finishes to see a registered version of the model in the model package.</div>\n",
    "\n",
    "On the model version tab that opens, you can browse activity, [model version details](https://docs.aws.amazon.com/sagemaker/latest/dg/model-registry-details.html), and [data lineage](https://docs.aws.amazon.com/sagemaker/latest/dg/lineage-tracking.html). \n",
    "\n",
    "In a real-world project you add various model attributes and additional model version metadata such as [model quality metrics](https://docs.aws.amazon.com/sagemaker/latest/dg/model-monitor-model-quality-metrics.html), [explainability](https://docs.aws.amazon.com/sagemaker/latest/dg/clarify-model-explainability.html) and [bias](https://docs.aws.amazon.com/sagemaker/latest/dg/clarify-measure-post-training-bias.html) reports, load test data, and [inference recommender](https://docs.aws.amazon.com/sagemaker/latest/dg/inference-recommender.html)."
   ]
  },
  {
   "cell_type": "markdown",
   "id": "6dfa0fc8-d09c-48ba-96fa-ae0d4a606b5e",
   "metadata": {},
   "source": [
    "## 모델 레지스트리에서 모델 패키지 보기\n",
    "\n",
    "이 새로운 파이프라인은 SageMaker 모델 레지스트리에 `<project_name>-<project-id>` 이름의 새 모델 패키지 그룹을 생성합니다.\n",
    "\n",
    "Studio UI에서 모델 패키지 버전을 보려면 아래 코드 셀에서 생성된 링크를 클릭하세요.\n",
    "<div class=\"alert alert-info\">모델 패키지에서 등록된 모델 버전을 보려면 파이프라인 실행이 완료될 때까지 기다려야 합니다.</div>\n",
    "\n",
    "열리는 모델 버전 탭에서 활동, [모델 버전 세부 정보](https://docs.aws.amazon.com/sagemaker/latest/dg/model-registry-details.html), [데이터 계보](https://docs.aws.amazon.com/sagemaker/latest/dg/lineage-tracking.html)를 탐색할 수 있습니다.\n",
    "\n",
    "실제 프로젝트에서는 다음과 같은 다양한 모델 속성과 추가 모델 버전 메타데이터를 추가합니다:\n",
    "- [모델 품질 메트릭](https://docs.aws.amazon.com/sagemaker/latest/dg/model-monitor-model-quality-metrics.html)\n",
    "- [설명 가능성](https://docs.aws.amazon.com/sagemaker/latest/dg/clarify-model-explainability.html)\n",
    "- [편향성](https://docs.aws.amazon.com/sagemaker/latest/dg/clarify-measure-post-training-bias.html) 보고서\n",
    "- 부하 테스트 데이터\n",
    "- [추론 추천기](https://docs.aws.amazon.com/sagemaker/latest/dg/inference-recommender.html)\n",
    "\n",
    "주요 내용:\n",
    "1. 모델 패키지 확인\n",
    "   - 새로 생성된 패키지 그룹 확인\n",
    "   - 버전 정보 확인\n",
    "\n",
    "2. 모니터링 요소\n",
    "   - 활동 로그\n",
    "   - 버전 세부 정보\n",
    "   - 데이터 계보\n",
    "\n",
    "3. 추가 가능한 메타데이터\n",
    "   - 품질 메트릭\n",
    "   - 설명 가능성\n",
    "   - 편향성 분석\n",
    "   - 성능 테스트 결과\n",
    "\n",
    "4. 실제 운영 고려사항\n",
    "   - 종합적인 모델 관리\n",
    "   - 다양한 메트릭 추적\n",
    "   - 품질 보증 요소"
   ]
  },
  {
   "cell_type": "code",
   "execution_count": 191,
   "id": "7691c5bb-85f4-4370-b964-ff7c8ccffc6b",
   "metadata": {},
   "outputs": [
    {
     "data": {
      "text/html": [
       "<b>See <a target=\"top\" href=\"https://studio-d-igloxuzrs3z2.studio.us-east-1.sagemaker.aws/models/registered-models/mlops-02-14-11-03-33-p-ca7phmcraepa/versions\">the model package versions</a> in the Studio UI</b>"
      ],
      "text/plain": [
       "<IPython.core.display.HTML object>"
      ]
     },
     "metadata": {},
     "output_type": "display_data"
    }
   ],
   "source": [
    "# Show the model package link\n",
    "display(\n",
    "    HTML('<b>See <a target=\"top\" href=\"https://studio-{}.studio.{}.sagemaker.aws/models/registered-models/{}-{}/versions\">the model package versions</a> in the Studio UI</b>'.format(\n",
    "            domain_id, region, project_name, project_id))\n",
    ")"
   ]
  },
  {
   "cell_type": "markdown",
   "id": "0b462a7b-d27c-401a-919f-0785617d1361",
   "metadata": {},
   "source": [
    "## Summary\n",
    "In this notebook you implement a CI/CD pipeline with the following features:\n",
    "- A model building ML pipeline is under the source control in a GitHub repository\n",
    "- Every push into the code repository launches a new CodePipeline pipiline which constructs, upserts, and executes the ML pipeline\n",
    "- The whole end to end model development process is automated now\n",
    "- SageMaker project is a logical construct in Studio which has the metadata about related ML pipelines, repositories, models, experiments, and inference endpoints\n",
    "\n",
    "---"
   ]
  },
  {
   "cell_type": "markdown",
   "id": "639f047c-34a9-4c7c-868a-73a252fcd087",
   "metadata": {},
   "source": [
    "## 요약\n",
    "이 노트북에서는 다음과 같은 기능을 가진 CI/CD 파이프라인을 구현했습니다:\n",
    "- GitHub 저장소에서 소스 제어 하에 있는 모델 구축 ML 파이프라인\n",
    "- 코드 저장소에 대한 모든 푸시가 ML 파이프라인을 구성, 업서트, 실행하는 새로운 CodePipeline 파이프라인을 시작\n",
    "- 전체 엔드 투 엔드 모델 개발 프로세스가 이제 자동화됨\n",
    "- SageMaker 프로젝트는 관련 ML 파이프라인, 저장소, 모델, 실험, 추론 엔드포인트에 대한 메타데이터를 가진 Studio의 논리적 구성체\n",
    "\n",
    "주요 성과:\n",
    "1. 자동화된 개발 환경\n",
    "   - 소스 코드 버전 관리\n",
    "   - 자동화된 파이프라인 실행\n",
    "   - 지속적 통합/배포\n",
    "\n",
    "2. 통합된 ML 워크플로우\n",
    "   - 코드 변경에 따른 자동 업데이트\n",
    "   - 일관된 모델 개발 프로세스\n",
    "   - 효율적인 리소스 관리\n",
    "\n",
    "3. 중앙화된 프로젝트 관리\n",
    "   - 메타데이터 통합 관리\n",
    "   - 컴포넌트 간 연계성\n",
    "   - 종합적인 모니터링\n",
    "\n",
    "4. MLOps 베스트 프랙티스\n",
    "   - 자동화된 품질 관리\n",
    "   - 추적 가능한 개발 과정\n",
    "   - 확장 가능한 인프라 구조"
   ]
  },
  {
   "cell_type": "markdown",
   "id": "86fcc951-0ea2-43f3-89f0-5b2982334d11",
   "metadata": {},
   "source": [
    "## Continue with the step 5\n",
    "In the next notebook [05-deploy](05-deploy.ipynb) you test the second part of the MLOps project - the model deployment pipeline."
   ]
  },
  {
   "cell_type": "markdown",
   "id": "4afba0bb-5a1d-4399-b3bc-3664be5e40b9",
   "metadata": {},
   "source": [
    "## Further development ideas for your real-world projects\n",
    "- You can use a SageMaker-provided [MLOps template for model building, training, and deployment with third-party Git repositories using Jenkins](https://docs.aws.amazon.com/sagemaker/latest/dg/sagemaker-projects-templates-sm.html#sagemaker-projects-templates-git-jenkins)\n",
    "- Create a [custom SageMaker project template](https://docs.aws.amazon.com/sagemaker/latest/dg/sagemaker-projects-templates-custom.html) to cover your specific project requirements"
   ]
  },
  {
   "cell_type": "markdown",
   "id": "06e55501-6c9c-40a7-89f3-04530e147a26",
   "metadata": {},
   "source": [
    "## Additional resources\n",
    "- [Amazon SageMaker Pipelines lab in SageMaker Immersion Day](https://catalog.us-east-1.prod.workshops.aws/workshops/63069e26-921c-4ce1-9cc7-dd882ff62575/en-US/lab6)\n",
    "- [Enhance your machine learning development by using a modular architecture with Amazon SageMaker projects](https://aws.amazon.com/blogs/machine-learning/enhance-your-machine-learning-development-by-using-a-modular-architecture-with-amazon-sagemaker-projects/)\n",
    "- [Dive deep into automating MLOps](https://www.youtube.com/watch?v=3_cHnk9VSfQ)\n",
    "- [SageMaker MLOps Project Walkthrough](https://docs.aws.amazon.com/sagemaker/latest/dg/sagemaker-projects-walkthrough.html)\n",
    "- [`aws-samples` GitHub repository with custom project templates examples](https://github.com/aws-samples/sagemaker-custom-project-templates)"
   ]
  },
  {
   "cell_type": "markdown",
   "id": "53f175fc-3eea-4777-9047-329c5098eed7",
   "metadata": {},
   "source": [
    "# Shutdown kernel"
   ]
  },
  {
   "cell_type": "code",
   "execution_count": null,
   "id": "feb3ee45-d774-4d7d-8954-6f5479e20090",
   "metadata": {},
   "outputs": [],
   "source": [
    "%%html\n",
    "\n",
    "<p><b>Shutting down your kernel for this notebook to release resources.</b></p>\n",
    "<button class=\"sm-command-button\" data-commandlinker-command=\"kernelmenu:shutdown\" style=\"display:none;\">Shutdown Kernel</button>\n",
    "        \n",
    "<script>\n",
    "try {\n",
    "    els = document.getElementsByClassName(\"sm-command-button\");\n",
    "    els[0].click();\n",
    "}\n",
    "catch(err) {\n",
    "    // NoOp\n",
    "}    \n",
    "</script>"
   ]
  },
  {
   "cell_type": "code",
   "execution_count": null,
   "id": "b10fb645-0789-4fc4-a662-1502d7b30fd2",
   "metadata": {},
   "outputs": [],
   "source": []
  }
 ],
 "metadata": {
  "availableInstances": [
   {
    "_defaultOrder": 0,
    "_isFastLaunch": true,
    "category": "General purpose",
    "gpuNum": 0,
    "hideHardwareSpecs": false,
    "memoryGiB": 4,
    "name": "ml.t3.medium",
    "vcpuNum": 2
   },
   {
    "_defaultOrder": 1,
    "_isFastLaunch": false,
    "category": "General purpose",
    "gpuNum": 0,
    "hideHardwareSpecs": false,
    "memoryGiB": 8,
    "name": "ml.t3.large",
    "vcpuNum": 2
   },
   {
    "_defaultOrder": 2,
    "_isFastLaunch": false,
    "category": "General purpose",
    "gpuNum": 0,
    "hideHardwareSpecs": false,
    "memoryGiB": 16,
    "name": "ml.t3.xlarge",
    "vcpuNum": 4
   },
   {
    "_defaultOrder": 3,
    "_isFastLaunch": false,
    "category": "General purpose",
    "gpuNum": 0,
    "hideHardwareSpecs": false,
    "memoryGiB": 32,
    "name": "ml.t3.2xlarge",
    "vcpuNum": 8
   },
   {
    "_defaultOrder": 4,
    "_isFastLaunch": true,
    "category": "General purpose",
    "gpuNum": 0,
    "hideHardwareSpecs": false,
    "memoryGiB": 8,
    "name": "ml.m5.large",
    "vcpuNum": 2
   },
   {
    "_defaultOrder": 5,
    "_isFastLaunch": false,
    "category": "General purpose",
    "gpuNum": 0,
    "hideHardwareSpecs": false,
    "memoryGiB": 16,
    "name": "ml.m5.xlarge",
    "vcpuNum": 4
   },
   {
    "_defaultOrder": 6,
    "_isFastLaunch": false,
    "category": "General purpose",
    "gpuNum": 0,
    "hideHardwareSpecs": false,
    "memoryGiB": 32,
    "name": "ml.m5.2xlarge",
    "vcpuNum": 8
   },
   {
    "_defaultOrder": 7,
    "_isFastLaunch": false,
    "category": "General purpose",
    "gpuNum": 0,
    "hideHardwareSpecs": false,
    "memoryGiB": 64,
    "name": "ml.m5.4xlarge",
    "vcpuNum": 16
   },
   {
    "_defaultOrder": 8,
    "_isFastLaunch": false,
    "category": "General purpose",
    "gpuNum": 0,
    "hideHardwareSpecs": false,
    "memoryGiB": 128,
    "name": "ml.m5.8xlarge",
    "vcpuNum": 32
   },
   {
    "_defaultOrder": 9,
    "_isFastLaunch": false,
    "category": "General purpose",
    "gpuNum": 0,
    "hideHardwareSpecs": false,
    "memoryGiB": 192,
    "name": "ml.m5.12xlarge",
    "vcpuNum": 48
   },
   {
    "_defaultOrder": 10,
    "_isFastLaunch": false,
    "category": "General purpose",
    "gpuNum": 0,
    "hideHardwareSpecs": false,
    "memoryGiB": 256,
    "name": "ml.m5.16xlarge",
    "vcpuNum": 64
   },
   {
    "_defaultOrder": 11,
    "_isFastLaunch": false,
    "category": "General purpose",
    "gpuNum": 0,
    "hideHardwareSpecs": false,
    "memoryGiB": 384,
    "name": "ml.m5.24xlarge",
    "vcpuNum": 96
   },
   {
    "_defaultOrder": 12,
    "_isFastLaunch": false,
    "category": "General purpose",
    "gpuNum": 0,
    "hideHardwareSpecs": false,
    "memoryGiB": 8,
    "name": "ml.m5d.large",
    "vcpuNum": 2
   },
   {
    "_defaultOrder": 13,
    "_isFastLaunch": false,
    "category": "General purpose",
    "gpuNum": 0,
    "hideHardwareSpecs": false,
    "memoryGiB": 16,
    "name": "ml.m5d.xlarge",
    "vcpuNum": 4
   },
   {
    "_defaultOrder": 14,
    "_isFastLaunch": false,
    "category": "General purpose",
    "gpuNum": 0,
    "hideHardwareSpecs": false,
    "memoryGiB": 32,
    "name": "ml.m5d.2xlarge",
    "vcpuNum": 8
   },
   {
    "_defaultOrder": 15,
    "_isFastLaunch": false,
    "category": "General purpose",
    "gpuNum": 0,
    "hideHardwareSpecs": false,
    "memoryGiB": 64,
    "name": "ml.m5d.4xlarge",
    "vcpuNum": 16
   },
   {
    "_defaultOrder": 16,
    "_isFastLaunch": false,
    "category": "General purpose",
    "gpuNum": 0,
    "hideHardwareSpecs": false,
    "memoryGiB": 128,
    "name": "ml.m5d.8xlarge",
    "vcpuNum": 32
   },
   {
    "_defaultOrder": 17,
    "_isFastLaunch": false,
    "category": "General purpose",
    "gpuNum": 0,
    "hideHardwareSpecs": false,
    "memoryGiB": 192,
    "name": "ml.m5d.12xlarge",
    "vcpuNum": 48
   },
   {
    "_defaultOrder": 18,
    "_isFastLaunch": false,
    "category": "General purpose",
    "gpuNum": 0,
    "hideHardwareSpecs": false,
    "memoryGiB": 256,
    "name": "ml.m5d.16xlarge",
    "vcpuNum": 64
   },
   {
    "_defaultOrder": 19,
    "_isFastLaunch": false,
    "category": "General purpose",
    "gpuNum": 0,
    "hideHardwareSpecs": false,
    "memoryGiB": 384,
    "name": "ml.m5d.24xlarge",
    "vcpuNum": 96
   },
   {
    "_defaultOrder": 20,
    "_isFastLaunch": false,
    "category": "General purpose",
    "gpuNum": 0,
    "hideHardwareSpecs": true,
    "memoryGiB": 0,
    "name": "ml.geospatial.interactive",
    "supportedImageNames": [
     "sagemaker-geospatial-v1-0"
    ],
    "vcpuNum": 0
   },
   {
    "_defaultOrder": 21,
    "_isFastLaunch": true,
    "category": "Compute optimized",
    "gpuNum": 0,
    "hideHardwareSpecs": false,
    "memoryGiB": 4,
    "name": "ml.c5.large",
    "vcpuNum": 2
   },
   {
    "_defaultOrder": 22,
    "_isFastLaunch": false,
    "category": "Compute optimized",
    "gpuNum": 0,
    "hideHardwareSpecs": false,
    "memoryGiB": 8,
    "name": "ml.c5.xlarge",
    "vcpuNum": 4
   },
   {
    "_defaultOrder": 23,
    "_isFastLaunch": false,
    "category": "Compute optimized",
    "gpuNum": 0,
    "hideHardwareSpecs": false,
    "memoryGiB": 16,
    "name": "ml.c5.2xlarge",
    "vcpuNum": 8
   },
   {
    "_defaultOrder": 24,
    "_isFastLaunch": false,
    "category": "Compute optimized",
    "gpuNum": 0,
    "hideHardwareSpecs": false,
    "memoryGiB": 32,
    "name": "ml.c5.4xlarge",
    "vcpuNum": 16
   },
   {
    "_defaultOrder": 25,
    "_isFastLaunch": false,
    "category": "Compute optimized",
    "gpuNum": 0,
    "hideHardwareSpecs": false,
    "memoryGiB": 72,
    "name": "ml.c5.9xlarge",
    "vcpuNum": 36
   },
   {
    "_defaultOrder": 26,
    "_isFastLaunch": false,
    "category": "Compute optimized",
    "gpuNum": 0,
    "hideHardwareSpecs": false,
    "memoryGiB": 96,
    "name": "ml.c5.12xlarge",
    "vcpuNum": 48
   },
   {
    "_defaultOrder": 27,
    "_isFastLaunch": false,
    "category": "Compute optimized",
    "gpuNum": 0,
    "hideHardwareSpecs": false,
    "memoryGiB": 144,
    "name": "ml.c5.18xlarge",
    "vcpuNum": 72
   },
   {
    "_defaultOrder": 28,
    "_isFastLaunch": false,
    "category": "Compute optimized",
    "gpuNum": 0,
    "hideHardwareSpecs": false,
    "memoryGiB": 192,
    "name": "ml.c5.24xlarge",
    "vcpuNum": 96
   },
   {
    "_defaultOrder": 29,
    "_isFastLaunch": true,
    "category": "Accelerated computing",
    "gpuNum": 1,
    "hideHardwareSpecs": false,
    "memoryGiB": 16,
    "name": "ml.g4dn.xlarge",
    "vcpuNum": 4
   },
   {
    "_defaultOrder": 30,
    "_isFastLaunch": false,
    "category": "Accelerated computing",
    "gpuNum": 1,
    "hideHardwareSpecs": false,
    "memoryGiB": 32,
    "name": "ml.g4dn.2xlarge",
    "vcpuNum": 8
   },
   {
    "_defaultOrder": 31,
    "_isFastLaunch": false,
    "category": "Accelerated computing",
    "gpuNum": 1,
    "hideHardwareSpecs": false,
    "memoryGiB": 64,
    "name": "ml.g4dn.4xlarge",
    "vcpuNum": 16
   },
   {
    "_defaultOrder": 32,
    "_isFastLaunch": false,
    "category": "Accelerated computing",
    "gpuNum": 1,
    "hideHardwareSpecs": false,
    "memoryGiB": 128,
    "name": "ml.g4dn.8xlarge",
    "vcpuNum": 32
   },
   {
    "_defaultOrder": 33,
    "_isFastLaunch": false,
    "category": "Accelerated computing",
    "gpuNum": 4,
    "hideHardwareSpecs": false,
    "memoryGiB": 192,
    "name": "ml.g4dn.12xlarge",
    "vcpuNum": 48
   },
   {
    "_defaultOrder": 34,
    "_isFastLaunch": false,
    "category": "Accelerated computing",
    "gpuNum": 1,
    "hideHardwareSpecs": false,
    "memoryGiB": 256,
    "name": "ml.g4dn.16xlarge",
    "vcpuNum": 64
   },
   {
    "_defaultOrder": 35,
    "_isFastLaunch": false,
    "category": "Accelerated computing",
    "gpuNum": 1,
    "hideHardwareSpecs": false,
    "memoryGiB": 61,
    "name": "ml.p3.2xlarge",
    "vcpuNum": 8
   },
   {
    "_defaultOrder": 36,
    "_isFastLaunch": false,
    "category": "Accelerated computing",
    "gpuNum": 4,
    "hideHardwareSpecs": false,
    "memoryGiB": 244,
    "name": "ml.p3.8xlarge",
    "vcpuNum": 32
   },
   {
    "_defaultOrder": 37,
    "_isFastLaunch": false,
    "category": "Accelerated computing",
    "gpuNum": 8,
    "hideHardwareSpecs": false,
    "memoryGiB": 488,
    "name": "ml.p3.16xlarge",
    "vcpuNum": 64
   },
   {
    "_defaultOrder": 38,
    "_isFastLaunch": false,
    "category": "Accelerated computing",
    "gpuNum": 8,
    "hideHardwareSpecs": false,
    "memoryGiB": 768,
    "name": "ml.p3dn.24xlarge",
    "vcpuNum": 96
   },
   {
    "_defaultOrder": 39,
    "_isFastLaunch": false,
    "category": "Memory Optimized",
    "gpuNum": 0,
    "hideHardwareSpecs": false,
    "memoryGiB": 16,
    "name": "ml.r5.large",
    "vcpuNum": 2
   },
   {
    "_defaultOrder": 40,
    "_isFastLaunch": false,
    "category": "Memory Optimized",
    "gpuNum": 0,
    "hideHardwareSpecs": false,
    "memoryGiB": 32,
    "name": "ml.r5.xlarge",
    "vcpuNum": 4
   },
   {
    "_defaultOrder": 41,
    "_isFastLaunch": false,
    "category": "Memory Optimized",
    "gpuNum": 0,
    "hideHardwareSpecs": false,
    "memoryGiB": 64,
    "name": "ml.r5.2xlarge",
    "vcpuNum": 8
   },
   {
    "_defaultOrder": 42,
    "_isFastLaunch": false,
    "category": "Memory Optimized",
    "gpuNum": 0,
    "hideHardwareSpecs": false,
    "memoryGiB": 128,
    "name": "ml.r5.4xlarge",
    "vcpuNum": 16
   },
   {
    "_defaultOrder": 43,
    "_isFastLaunch": false,
    "category": "Memory Optimized",
    "gpuNum": 0,
    "hideHardwareSpecs": false,
    "memoryGiB": 256,
    "name": "ml.r5.8xlarge",
    "vcpuNum": 32
   },
   {
    "_defaultOrder": 44,
    "_isFastLaunch": false,
    "category": "Memory Optimized",
    "gpuNum": 0,
    "hideHardwareSpecs": false,
    "memoryGiB": 384,
    "name": "ml.r5.12xlarge",
    "vcpuNum": 48
   },
   {
    "_defaultOrder": 45,
    "_isFastLaunch": false,
    "category": "Memory Optimized",
    "gpuNum": 0,
    "hideHardwareSpecs": false,
    "memoryGiB": 512,
    "name": "ml.r5.16xlarge",
    "vcpuNum": 64
   },
   {
    "_defaultOrder": 46,
    "_isFastLaunch": false,
    "category": "Memory Optimized",
    "gpuNum": 0,
    "hideHardwareSpecs": false,
    "memoryGiB": 768,
    "name": "ml.r5.24xlarge",
    "vcpuNum": 96
   },
   {
    "_defaultOrder": 47,
    "_isFastLaunch": false,
    "category": "Accelerated computing",
    "gpuNum": 1,
    "hideHardwareSpecs": false,
    "memoryGiB": 16,
    "name": "ml.g5.xlarge",
    "vcpuNum": 4
   },
   {
    "_defaultOrder": 48,
    "_isFastLaunch": false,
    "category": "Accelerated computing",
    "gpuNum": 1,
    "hideHardwareSpecs": false,
    "memoryGiB": 32,
    "name": "ml.g5.2xlarge",
    "vcpuNum": 8
   },
   {
    "_defaultOrder": 49,
    "_isFastLaunch": false,
    "category": "Accelerated computing",
    "gpuNum": 1,
    "hideHardwareSpecs": false,
    "memoryGiB": 64,
    "name": "ml.g5.4xlarge",
    "vcpuNum": 16
   },
   {
    "_defaultOrder": 50,
    "_isFastLaunch": false,
    "category": "Accelerated computing",
    "gpuNum": 1,
    "hideHardwareSpecs": false,
    "memoryGiB": 128,
    "name": "ml.g5.8xlarge",
    "vcpuNum": 32
   },
   {
    "_defaultOrder": 51,
    "_isFastLaunch": false,
    "category": "Accelerated computing",
    "gpuNum": 1,
    "hideHardwareSpecs": false,
    "memoryGiB": 256,
    "name": "ml.g5.16xlarge",
    "vcpuNum": 64
   },
   {
    "_defaultOrder": 52,
    "_isFastLaunch": false,
    "category": "Accelerated computing",
    "gpuNum": 4,
    "hideHardwareSpecs": false,
    "memoryGiB": 192,
    "name": "ml.g5.12xlarge",
    "vcpuNum": 48
   },
   {
    "_defaultOrder": 53,
    "_isFastLaunch": false,
    "category": "Accelerated computing",
    "gpuNum": 4,
    "hideHardwareSpecs": false,
    "memoryGiB": 384,
    "name": "ml.g5.24xlarge",
    "vcpuNum": 96
   },
   {
    "_defaultOrder": 54,
    "_isFastLaunch": false,
    "category": "Accelerated computing",
    "gpuNum": 8,
    "hideHardwareSpecs": false,
    "memoryGiB": 768,
    "name": "ml.g5.48xlarge",
    "vcpuNum": 192
   },
   {
    "_defaultOrder": 55,
    "_isFastLaunch": false,
    "category": "Accelerated computing",
    "gpuNum": 8,
    "hideHardwareSpecs": false,
    "memoryGiB": 1152,
    "name": "ml.p4d.24xlarge",
    "vcpuNum": 96
   },
   {
    "_defaultOrder": 56,
    "_isFastLaunch": false,
    "category": "Accelerated computing",
    "gpuNum": 8,
    "hideHardwareSpecs": false,
    "memoryGiB": 1152,
    "name": "ml.p4de.24xlarge",
    "vcpuNum": 96
   },
   {
    "_defaultOrder": 57,
    "_isFastLaunch": false,
    "category": "Accelerated computing",
    "gpuNum": 0,
    "hideHardwareSpecs": false,
    "memoryGiB": 32,
    "name": "ml.trn1.2xlarge",
    "vcpuNum": 8
   },
   {
    "_defaultOrder": 58,
    "_isFastLaunch": false,
    "category": "Accelerated computing",
    "gpuNum": 0,
    "hideHardwareSpecs": false,
    "memoryGiB": 512,
    "name": "ml.trn1.32xlarge",
    "vcpuNum": 128
   },
   {
    "_defaultOrder": 59,
    "_isFastLaunch": false,
    "category": "Accelerated computing",
    "gpuNum": 0,
    "hideHardwareSpecs": false,
    "memoryGiB": 512,
    "name": "ml.trn1n.32xlarge",
    "vcpuNum": 128
   }
  ],
  "instance_type": "ml.t3.medium",
  "kernelspec": {
   "display_name": "Python 3 (ipykernel)",
   "language": "python",
   "name": "python3"
  },
  "language_info": {
   "codemirror_mode": {
    "name": "ipython",
    "version": 3
   },
   "file_extension": ".py",
   "mimetype": "text/x-python",
   "name": "python",
   "nbconvert_exporter": "python",
   "pygments_lexer": "ipython3",
   "version": "3.12.9"
  }
 },
 "nbformat": 4,
 "nbformat_minor": 5
}
