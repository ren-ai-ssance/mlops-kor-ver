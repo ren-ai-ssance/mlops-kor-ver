{
 "cells": [
  {
   "cell_type": "markdown",
   "id": "d5845c0a-25c6-40e6-a3ba-2b3316bd38c2",
   "metadata": {
    "tags": []
   },
   "source": [
    "# Step 5: Add a deployment pipeline\n",
    "\n",
    "In previous step you implemented an automated data processing and model building pipeline. Each run of the pipeline produces a new version of the model. This notebook implements the automated model deployment step in our ML workflow.\n",
    "\n",
    "You use the second part of the [SageMaker MLOps project template](https://docs.aws.amazon.com/sagemaker/latest/dg/sagemaker-projects-templates-sm.html#sagemaker-projects-templates-git-code-pipeline) to create a ready-to use model deployment CI/CD pipeline.\n",
    "\n",
    "The MLOps project template implements a CodePipeline pipeline for deployment of models in the SageMaker model registry to SageMaker endpoints for real-time inference. When a new model version is registered and approved in the model registry, the pipeline automatically initiates and performs a deployment.\n",
    "\n",
    "||||\n",
    "|---|---|---|\n",
    "|1. |Experiment in a notebook ||\n",
    "|2. |Scale with SageMaker AI processing jobs and SageMaker SDK ||\n",
    "|3. |Operationalize with ML pipeline, model registry, and feature store ||\n",
    "|4. |Add a model building CI/CD pipeline ||\n",
    "|5. |Add a model deployment pipeline |**<<<< YOU ARE HERE**|\n",
    "|6. |Add model and data monitoring ||"
   ]
  },
  {
   "cell_type": "markdown",
   "id": "b5f4987a-9422-4c61-80d9-8d608b267c3e",
   "metadata": {},
   "source": [
    "# Step 5: 배포 파이프라인 추가\n",
    "\n",
    "이전 단계에서 자동화된 데이터 처리 및 모델 구축 파이프라인을 구현했습니다. 파이프라인의 각 실행은 새로운 버전의 모델을 생성합니다. 이 노트북은 ML 워크플로우에서 자동화된 모델 배포 단계를 구현합니다.\n",
    "\n",
    "[SageMaker MLOps 프로젝트 템플릿](https://docs.aws.amazon.com/sagemaker/latest/dg/sagemaker-projects-templates-sm.html#sagemaker-projects-templates-git-code-pipeline)의 두 번째 부분을 사용하여 바로 사용할 수 있는 모델 배포 CI/CD 파이프라인을 생성합니다.\n",
    "\n",
    "MLOps 프로젝트 템플릿은 SageMaker 모델 레지스트리의 모델을 실시간 추론을 위한 SageMaker 엔드포인트에 배포하기 위한 CodePipeline 파이프라인을 구현합니다. 새로운 모델 버전이 모델 레지스트리에 등록되고 승인되면, 파이프라인이 자동으로 시작되어 배포를 수행합니다.\n",
    "\n",
    "||||\n",
    "|---|---|---|\n",
    "|1. |노트북에서 실험 ||\n",
    "|2. |SageMaker AI 처리 작업과 SageMaker SDK로 확장 ||\n",
    "|3. |ML 파이프라인, 모델 레지스트리, 피처 스토어로 운영화 ||\n",
    "|4. |모델 구축 CI/CD 파이프라인 추가 ||\n",
    "|5. |모델 배포 파이프라인 추가 |**<<<< 현재 위치**|\n",
    "|6. |모델 및 데이터 모니터링 추가 ||\n",
    "\n",
    "이 단계에서는:\n",
    "- 자동화된 모델 배포 구현\n",
    "- 실시간 추론 엔드포인트 설정\n",
    "- 모델 버전 관리 자동화\n",
    "- 배포 프로세스 자동화"
   ]
  },
  {
   "cell_type": "markdown",
   "id": "d46ca98f-099f-4f24-8e24-67bdc86d8fc4",
   "metadata": {
    "tags": []
   },
   "source": [
    "<div class=\"alert alert-info\"> Make sure you using <code>Python 3</code> kernel in JupyterLab for this notebook.</div>"
   ]
  },
  {
   "cell_type": "code",
   "execution_count": 1,
   "id": "6cd36377-d862-4d18-a575-860bf0c15b31",
   "metadata": {
    "tags": []
   },
   "outputs": [
    {
     "name": "stderr",
     "output_type": "stream",
     "text": [
      "/opt/conda/lib/python3.11/site-packages/pydantic/_internal/_fields.py:192: UserWarning: Field name \"json\" in \"MonitoringDatasetFormat\" shadows an attribute in parent \"Base\"\n",
      "  warnings.warn(\n"
     ]
    },
    {
     "name": "stdout",
     "output_type": "stream",
     "text": [
      "sagemaker.config INFO - Not applying SDK defaults from location: /etc/xdg/sagemaker/config.yaml\n",
      "sagemaker.config INFO - Fetched defaults config from location: /home/sagemaker-user/.config/sagemaker/config.yaml\n"
     ]
    },
    {
     "data": {
      "text/plain": [
       "'2.239.0'"
      ]
     },
     "execution_count": 1,
     "metadata": {},
     "output_type": "execute_result"
    }
   ],
   "source": [
    "import boto3\n",
    "import sagemaker \n",
    "from time import gmtime, strftime, sleep\n",
    "from IPython.display import HTML\n",
    "\n",
    "sagemaker.__version__"
   ]
  },
  {
   "cell_type": "code",
   "execution_count": 2,
   "id": "aa13831e-7aad-49ac-9ea9-10ebb9fb16c9",
   "metadata": {
    "tags": []
   },
   "outputs": [
    {
     "name": "stdout",
     "output_type": "stream",
     "text": [
      "Stored variables and their in-db values:\n",
      "baseline_s3_url                         -> 's3://sagemaker-us-east-1-906545278380/from-idea-t\n",
      "bucket_name                             -> 'sagemaker-us-east-1-906545278380'\n",
      "bucket_prefix                           -> 'from-idea-to-prod/xgboost'\n",
      "dataset_feature_group_name              -> 'from-idea-to-prod-12-06-30-53'\n",
      "dataset_file_local_path                 -> 'data/bank-additional/bank-additional-full.csv'\n",
      "domain_id                               -> 'd-igloxuzrs3z2'\n",
      "evaluation_s3_url                       -> 's3://sagemaker-us-east-1-906545278380/from-idea-t\n",
      "experiment_name                         -> 'from-idea-to-prod-experiment-11-21-33-07'\n",
      "feature_store_bucket_prefix             -> 'from-idea-to-prod/feature-store'\n",
      "initialized                             -> True\n",
      "input_s3_url                            -> 's3://sagemaker-us-east-1-906545278380/from-idea-t\n",
      "mlflow_arn                              -> 'arn:aws:sagemaker:us-east-1:906545278380:mlflow-t\n",
      "mlflow_name                             -> 'test-mlflow'\n",
      "model_package_group_name                -> 'from-idea-to-prod-pipeline-model-12-06-30-22'\n",
      "output_s3_url                           -> 's3://sagemaker-us-east-1-906545278380/from-idea-t\n",
      "pipeline_name                           -> 'from-idea-to-prod-pipeline-12-06-30-22'\n",
      "prediction_baseline_s3_url              -> 's3://sagemaker-us-east-1-906545278380/from-idea-t\n",
      "project_arn                             -> 'arn:aws:sagemaker:us-east-1:906545278380:project/\n",
      "project_id                              -> 'p-ca7phmcraepa'\n",
      "project_name                            -> 'mlops-02-14-11-03-33'\n",
      "region                                  -> 'us-east-1'\n",
      "sm_image                                -> 'arn:aws:sagemaker:us-east-1:885854791233:image/sa\n",
      "sm_image_version                        -> '2.3.0'\n",
      "sm_role                                 -> 'arn:aws:iam::906545278380:role/mlops-workshop-dom\n",
      "space_name                              -> 'mlops-workshop-update'\n",
      "target_col                              -> 'y'\n",
      "test_s3_url                             -> 's3://sagemaker-us-east-1-906545278380/from-idea-t\n",
      "train_s3_url                            -> 's3://sagemaker-us-east-1-906545278380/from-idea-t\n",
      "training_job_name                       -> 'from-idea-to-prod-training-2025-02-11-14-33-37-00\n",
      "user_profile_name                       -> 'studio-user-fb6d0370'\n",
      "validation_s3_url                       -> 's3://sagemaker-us-east-1-906545278380/from-idea-t\n"
     ]
    }
   ],
   "source": [
    "%store -r \n",
    "\n",
    "%store\n",
    "\n",
    "try:\n",
    "    initialized\n",
    "except NameError:\n",
    "    print(\"+++++++++++++++++++++++++++++++++++++++++++++++++\")\n",
    "    print(\"[ERROR] YOU HAVE TO RUN 00-start-here notebook   \")\n",
    "    print(\"+++++++++++++++++++++++++++++++++++++++++++++++++\")"
   ]
  },
  {
   "cell_type": "code",
   "execution_count": 3,
   "id": "d0bb83a8-521f-4405-bb4f-eee77ab56094",
   "metadata": {
    "tags": []
   },
   "outputs": [],
   "source": [
    "sm = boto3.client(\"sagemaker\")"
   ]
  },
  {
   "cell_type": "code",
   "execution_count": 48,
   "id": "0b8f6cae-b27a-43de-bbc2-7d4730586557",
   "metadata": {},
   "outputs": [
    {
     "name": "stdout",
     "output_type": "stream",
     "text": [
      "mlops-02-14-11-03-33\n",
      "p-ca7phmcraepa\n"
     ]
    }
   ],
   "source": [
    "try:\n",
    "    print(project_name)\n",
    "    print(project_id)\n",
    "except NameError:\n",
    "    print(\"+++++++++++++++++++++++++++++++++++++++++++++++++++\")\n",
    "    print(\"You must complete the notebook 04-sagemaker-project\")\n",
    "    print(\"+++++++++++++++++++++++++++++++++++++++++++++++++++\")"
   ]
  },
  {
   "cell_type": "markdown",
   "id": "f9e91bef-93a8-4265-ad0c-d6f72fde9099",
   "metadata": {},
   "source": [
    "## Explore the project in the Studio UI\n",
    "\n",
    "<div class=\"alert alert-info\">Make sure you run the step 4 notebook and successfully provisioned the MLOps project and run the project pipeline at least once.</div>\n",
    "\n",
    "Click on the links constructed by the next code cell to see the project and the model package in the Studio UI. You must see at least one version of the model registered in the model package group."
   ]
  },
  {
   "cell_type": "markdown",
   "id": "82672777-2692-4b2a-99ae-8dd40b09aa1e",
   "metadata": {},
   "source": [
    "## Studio UI에서 프로젝트 탐색\n",
    "\n",
    "<div class=\"alert alert-info\">4단계 노트북을 실행하고 MLOps 프로젝트를 성공적으로 프로비저닝하고 프로젝트 파이프라인을 최소 한 번 실행했는지 확인하세요.</div>\n",
    "\n",
    "다음 코드 셀에서 생성된 링크를 클릭하여 Studio UI에서 프로젝트와 모델 패키지를 확인하세요. 모델 패키지 그룹에 최소 하나의 모델 버전이 등록되어 있어야 합니다.\n",
    "\n",
    "주요 확인 사항:\n",
    "1. 사전 조건 확인\n",
    "   - 4단계 노트북 실행 완료\n",
    "   - MLOps 프로젝트 설정 완료\n",
    "   - 파이프라인 최소 1회 실행\n",
    "\n",
    "2. UI 확인 항목\n",
    "   - 프로젝트 상태\n",
    "   - 모델 패키지 정보\n",
    "   - 등록된 모델 버전\n",
    "\n",
    "3. 진행 상태 검증\n",
    "   - 모델 등록 확인\n",
    "   - 버전 정보 확인\n",
    "   - 설정 상태 점검\n",
    "\n",
    "4. 다음 단계 준비\n",
    "   - 모델 배포 준비\n",
    "   - 파이프라인 구성 확인"
   ]
  },
  {
   "cell_type": "code",
   "execution_count": 5,
   "id": "a156d582-e616-4c8d-bbac-e37bead156e9",
   "metadata": {},
   "outputs": [
    {
     "data": {
      "text/html": [
       "<b>See <a target=\"top\" href=\"https://studio-d-igloxuzrs3z2.studio.us-east-1.sagemaker.aws/projects/mlops-02-14-11-03-33/\">the project</a> in the Studio UI</b>"
      ],
      "text/plain": [
       "<IPython.core.display.HTML object>"
      ]
     },
     "metadata": {},
     "output_type": "display_data"
    },
    {
     "data": {
      "text/html": [
       "<b>See <a target=\"top\" href=\"https://studio-d-igloxuzrs3z2.studio.us-east-1.sagemaker.aws/models/registered-models/mlops-02-14-11-03-33-p-ca7phmcraepa/versions\">the model package versions</a> in the Studio UI</b>"
      ],
      "text/plain": [
       "<IPython.core.display.HTML object>"
      ]
     },
     "metadata": {},
     "output_type": "display_data"
    }
   ],
   "source": [
    "# Show the project link\n",
    "display(\n",
    "    HTML('<b>See <a target=\"top\" href=\"https://studio-{}.studio.{}.sagemaker.aws/projects/{}/\">the project</a> in the Studio UI</b>'.format(\n",
    "            domain_id, region, project_name))\n",
    ")\n",
    "\n",
    "# Show the model package link\n",
    "display(\n",
    "    HTML('<b>See <a target=\"top\" href=\"https://studio-{}.studio.{}.sagemaker.aws/models/registered-models/{}-{}/versions\">the model package versions</a> in the Studio UI</b>'.format(\n",
    "            domain_id, region, project_name, project_id))\n",
    ")"
   ]
  },
  {
   "cell_type": "code",
   "execution_count": 20,
   "id": "1a7537e2-e377-48d1-a246-0c5f1083d519",
   "metadata": {
    "tags": []
   },
   "outputs": [],
   "source": [
    "# check that the project exists\n",
    "project_data = sm.describe_project(ProjectName=project_name)"
   ]
  },
  {
   "cell_type": "code",
   "execution_count": 21,
   "id": "d91975f1-4d0b-4003-a3c4-6448b913742a",
   "metadata": {},
   "outputs": [],
   "source": [
    "assert project_data['ProjectStatus'] == 'CreateCompleted', 'Project must be created at this point!'"
   ]
  },
  {
   "cell_type": "code",
   "execution_count": 24,
   "id": "ebc43f38-e42c-40e5-88fa-16d47484b6b6",
   "metadata": {},
   "outputs": [],
   "source": [
    "# check that at least one model version is registered in the model registry\n",
    "model_packages = sm.list_model_packages(\n",
    "    ModelPackageGroupName=f'{project_name}-{project_id}',\n",
    "    ModelApprovalStatus='PendingManualApproval')"
   ]
  },
  {
   "cell_type": "code",
   "execution_count": 25,
   "id": "57be16a1-db58-47f0-aacb-923be30ca706",
   "metadata": {},
   "outputs": [],
   "source": [
    "assert len(model_packages['ModelPackageSummaryList']) > 0, 'You must have at least one model version in the status PendingManualApproval'"
   ]
  },
  {
   "cell_type": "markdown",
   "id": "fcc7b9ca-092f-4971-bc81-4e5f06612a71",
   "metadata": {},
   "source": [
    "---"
   ]
  },
  {
   "cell_type": "markdown",
   "id": "fceddf72-4a24-447d-9718-d940a3b54252",
   "metadata": {},
   "source": [
    "## Working with MLOps project for model deployment\n",
    "The template provisions a GitHub repository with configuration files to specify the model deployment steps, AWS CloudFormation templates to define endpoints as infrastructure, and seed code for testing the endpoint.\n",
    "\n",
    "This template provides the following resources:\n",
    "\n",
    "1. A GitHub repository that contains seed code that deploys models to endpoints in staging and production environments\n",
    "2. An AWS CodePipeline pipeline that has `source`, `build`, `deploy-to-staging`, and `deploy-to-production` steps. The `source` step points to the GitHub repository, and the `build` step gets the code from that repository and generates CloudFormation stacks to deploy. The `deploy-to-staging` and `deploy-to-production` steps deploy the CloudFormation stacks to their respective environments. There is a manual approval step between the staging and production build steps, so that a MLOps engineer must approve the model before it is deployed to production.\n",
    "3. An Amazon EventBridge rule to launch a CodePipeline pipeline execution when a model package version is approved or rejected.\n",
    "4. There is also a manual approval step after the placeholder unit tests. You can implement your own tests to replace the placeholders tests.\n",
    "\n",
    "The project template also deploys an Amazon S3 bucket to store artifacts, including CodePipeline and CodeBuild artifacts, and any artifacts generated from the SageMaker pipeline runs.\n",
    "\n",
    "The following diagram shows the architecture.\n",
    "\n",
    "<img src=\"img/mlops-model-deploy.png\" width=\"600\"/>\n",
    "\n",
    "You don't need to implement any configuration changes for the project. The model deployment pipeline works out of the box.\n",
    "To start the model deployment pipeline, you must approve the model version in the model registry."
   ]
  },
  {
   "cell_type": "markdown",
   "id": "b7bf3f5a-4651-46ae-9035-725ed6aa6278",
   "metadata": {},
   "source": [
    "## 모델 배포를 위한 MLOps 프로젝트 작업\n",
    "템플릿은 모델 배포 단계를 지정하는 구성 파일, 인프라로서 엔드포인트를 정의하는 AWS CloudFormation 템플릿, 엔드포인트 테스트를 위한 시드 코드가 포함된 GitHub 저장소를 프로비저닝합니다.\n",
    "\n",
    "이 템플릿은 다음 리소스를 제공합니다:\n",
    "\n",
    "1. 스테이징 및 프로덕션 환경에 모델을 배포하는 시드 코드가 포함된 GitHub 저장소\n",
    "2. `source`, `build`, `deploy-to-staging`, `deploy-to-production` 단계가 있는 AWS CodePipeline 파이프라인\n",
    "   - `source` 단계는 GitHub 저장소를 가리킴\n",
    "   - `build` 단계는 해당 저장소에서 코드를 가져와 배포용 CloudFormation 스택 생성\n",
    "   - `deploy-to-staging`과 `deploy-to-production` 단계는 각 환경에 CloudFormation 스택 배포\n",
    "   - 스테이징과 프로덕션 빌드 단계 사이에 수동 승인 단계가 있어 MLOps 엔지니어가 프로덕션 배포 전 모델을 승인해야 함\n",
    "3. 모델 패키지 버전이 승인되거나 거부될 때 CodePipeline 파이프라인 실행을 시작하는 Amazon EventBridge 규칙\n",
    "4. 플레이스홀더 단위 테스트 후 수동 승인 단계도 있음. 플레이스홀더 테스트를 자체 테스트로 대체 가능\n",
    "\n",
    "프로젝트 템플릿은 또한 다음을 저장하기 위한 Amazon S3 버킷을 배포합니다:\n",
    "- CodePipeline 및 CodeBuild 아티팩트\n",
    "- SageMaker 파이프라인 실행에서 생성된 아티팩트\n",
    "\n",
    "다음 다이어그램은 아키텍처를 보여줍니다:\n",
    "\n",
    "<img src=\"img/mlops-model-deploy.png\" width=\"600\"/>\n",
    "\n",
    "프로젝트에 대한 구성 변경을 구현할 필요가 없습니다. 모델 배포 파이프라인은 즉시 사용 가능합니다.\n",
    "모델 배포 파이프라인을 시작하려면 모델 레지스트리에서 모델 버전을 승인해야 합니다."
   ]
  },
  {
   "cell_type": "markdown",
   "id": "64405ac3-aefa-4ba9-aa8a-f7fca4a78009",
   "metadata": {},
   "source": [
    "### Approve a model version\n",
    "Approving a model version causes the MLOps project to launch the model deployment process. \n",
    "\n",
    "In the first step, the model deployment pipeline deploys the model version to a staging SageMaker real-time inference end-point.\n",
    "\n",
    "You can approve the model version either in Studio in the Model registry or do it programmatically in the notebook. Let's do it programatically."
   ]
  },
  {
   "cell_type": "markdown",
   "id": "7685bafa-6340-4eb3-a1ad-b6b3b09d08e1",
   "metadata": {},
   "source": [
    "### 모델 버전 승인\n",
    "모델 버전을 승인하면 MLOps 프로젝트가 모델 배포 프로세스를 시작합니다.\n",
    "\n",
    "첫 번째 단계에서, 모델 배포 파이프라인은 모델 버전을 스테이징 SageMaker 실시간 추론 엔드포인트에 배포합니다.\n",
    "\n",
    "모델 버전은 Studio의 Model registry에서 승인하거나 노트북에서 프로그래밍 방식으로 승인할 수 있습니다. 프로그래밍 방식으로 진행해 보겠습니다.\n",
    "\n",
    "주요 내용:\n",
    "1. 승인 프로세스\n",
    "   - 자동 배포 트리거\n",
    "   - 모델 버전 관리\n",
    "\n",
    "2. 배포 단계\n",
    "   - 스테이징 환경 우선 배포\n",
    "   - 실시간 추론 엔드포인트 설정\n",
    "\n",
    "3. 승인 방법\n",
    "   - Studio UI 사용\n",
    "   - 프로그래밍 방식 사용\n",
    "\n",
    "4. 자동화된 워크플로우\n",
    "   - 승인 후 자동 배포\n",
    "   - 단계별 검증 진행"
   ]
  },
  {
   "cell_type": "code",
   "execution_count": 32,
   "id": "322af2ef-6f43-43b8-a67f-55526a157ea5",
   "metadata": {},
   "outputs": [],
   "source": [
    "# list all model packages and select the latest one\n",
    "model_packages = [\n",
    "    p[\"ModelPackageSummaryList\"] for p in\n",
    "    sm.get_paginator('list_model_packages').paginate(\n",
    "        ModelPackageGroupName=f'{project_name}-{project_id}',\n",
    "        ModelApprovalStatus='PendingManualApproval',\n",
    "        SortBy=\"CreationTime\",\n",
    "        SortOrder=\"Descending\",\n",
    "    )\n",
    "][0]"
   ]
  },
  {
   "cell_type": "code",
   "execution_count": 33,
   "id": "639e8925-5e0d-4911-a087-a026b3b1a21f",
   "metadata": {
    "tags": []
   },
   "outputs": [
    {
     "name": "stdout",
     "output_type": "stream",
     "text": [
      "There are 2 model versions in the from-idea-to-prod-pipeline-model-12-06-30-22 model package group\n",
      "Approve the most recent model package:\n",
      "arn:aws:sagemaker:us-east-1:906545278380:model-package/mlops-02-14-11-03-33-p-ca7phmcraepa/2\n"
     ]
    }
   ],
   "source": [
    "if len(model_packages) == 0:\n",
    "    raise Exception(f\"No model package is found for {model_package_group_name} model package group. Run a model creation pipeline first.\")\n",
    "\n",
    "print(f\"There are {len(model_packages)} model versions in the {model_package_group_name} model package group\")\n",
    "print(f\"Approve the most recent model package:\")\n",
    "\n",
    "latest_model_package_arn = model_packages[0][\"ModelPackageArn\"]\n",
    "print(latest_model_package_arn)"
   ]
  },
  {
   "cell_type": "markdown",
   "id": "57e69876-c48e-441a-adb1-94f37f3c3cc5",
   "metadata": {},
   "source": [
    "The following statement sets the `ModelApprovalStatus` for the most recent model package in the model registry to `Approved`. The model package state change launches the EventBridge rule and the rule launches the CodePipeline CI/CD pipeline with model deployment."
   ]
  },
  {
   "cell_type": "code",
   "execution_count": 34,
   "id": "3ef387cb-c889-4e58-a52a-8c7def24836d",
   "metadata": {
    "tags": []
   },
   "outputs": [],
   "source": [
    "model_package_update_response = sm.update_model_package(\n",
    "    ModelPackageArn=latest_model_package_arn,\n",
    "    ModelApprovalStatus=\"Approved\",\n",
    ")"
   ]
  },
  {
   "cell_type": "markdown",
   "id": "451a3532-845c-4697-b059-330735da6dfd",
   "metadata": {},
   "source": [
    "Click on the link constructed by the following code cell to see the last model version in the model registry in the Studio UI changed the **Status** to `Approved`:"
   ]
  },
  {
   "cell_type": "code",
   "execution_count": 40,
   "id": "75ea1a53-3b85-4120-ae33-de013732cdb5",
   "metadata": {},
   "outputs": [
    {
     "data": {
      "text/html": [
       "<b>See <a target=\"top\" href=\"https://studio-d-igloxuzrs3z2.studio.us-east-1.sagemaker.aws/models/registered-models/mlops-02-14-11-03-33-p-ca7phmcraepa/versions/version-2/overview\">the model package version</a> in the Studio UI</b>"
      ],
      "text/plain": [
       "<IPython.core.display.HTML object>"
      ]
     },
     "metadata": {},
     "output_type": "display_data"
    }
   ],
   "source": [
    "# Show the model package version link\n",
    "display(\n",
    "    HTML('<b>See <a target=\"top\" href=\"https://studio-{}.studio.{}.sagemaker.aws/models/registered-models/{}-{}/versions/version-{}/overview\">the model package version</a> in the Studio UI</b>'.format(\n",
    "            domain_id, region, project_name, project_id, latest_model_package_arn.split('/')[-1]))\n",
    ")"
   ]
  },
  {
   "cell_type": "markdown",
   "id": "ca217b12-d020-4eb3-820a-de6431f4e82d",
   "metadata": {},
   "source": [
    "### Deployment pipeline execution\n",
    "Upon approval of a model version in the code cell above, the model deployment CI/CD pipeline performs the following actions:\n",
    "1. Create CloudFormation parameter configuration files with the staging and production parameters for CloudFormation templates for SageMaker endpoint\n",
    "1. Create a SageMaker real-time inference endpoint with the name `<PROJECT-NAME>-staging`\n",
    "1. Run the test script on the staging endpoint\n",
    "1. Wait until the test result is manually approved in [AWS CodePipeline console](https://console.aws.amazon.com/codesuite/codepipeline)\n",
    "1. Create a SageMaker endpoint with the name `<PROJECT-NAME>-prod` in the current account"
   ]
  },
  {
   "cell_type": "markdown",
   "id": "dce8b76d-6a46-4182-b5fc-505b4023519c",
   "metadata": {},
   "source": [
    "### 배포 파이프라인 실행\n",
    "위 코드 셀에서 모델 버전이 승인되면, 모델 배포 CI/CD 파이프라인은 다음 작업을 수행합니다:\n",
    "1. SageMaker 엔드포인트용 CloudFormation 템플릿의 스테이징 및 프로덕션 매개변수로 CloudFormation 매개변수 구성 파일 생성\n",
    "1. `<PROJECT-NAME>-staging` 이름으로 SageMaker 실시간 추론 엔드포인트 생성\n",
    "1. 스테이징 엔드포인트에서 테스트 스크립트 실행\n",
    "1. [AWS CodePipeline 콘솔](https://console.aws.amazon.com/codesuite/codepipeline)에서 테스트 결과가 수동으로 승인될 때까지 대기\n",
    "1. 현재 계정에 `<PROJECT-NAME>-prod` 이름으로 SageMaker 엔드포인트 생성\n",
    "\n",
    "주요 단계:\n",
    "1. 구성 파일 준비\n",
    "   - CloudFormation 매개변수 설정\n",
    "   - 환경별 구성 관리\n",
    "\n",
    "2. 스테이징 환경 설정\n",
    "   - 실시간 추론 엔드포인트 생성\n",
    "   - 초기 테스트 환경 구성\n",
    "\n",
    "3. 검증 프로세스\n",
    "   - 테스트 스크립트 실행\n",
    "   - 결과 검증 및 승인\n",
    "\n",
    "4. 프로덕션 배포\n",
    "   - 승인 후 프로덕션 엔드포인트 생성\n",
    "   - 실제 서비스 환경 구성"
   ]
  },
  {
   "cell_type": "markdown",
   "id": "3956a712-c8d6-4093-b9d0-e3a5cce443d8",
   "metadata": {},
   "source": [
    "Wait about 5-10 minutes until the pipeline finishes deployment of the staging endpoint. You can see the status of the endpoint in the Studio UI in **Deployments** > **Endpoints**:"
   ]
  },
  {
   "cell_type": "markdown",
   "id": "abe360d1-ec29-4541-9389-528d40a162ca",
   "metadata": {},
   "source": [
    "파이프라인이 스테이징 엔드포인트 배포를 완료할 때까지 약 5-10분 기다리세요. Studio UI의 **Deployments** > **Endpoints**에서 엔드포인트의 상태를 확인할 수 있습니다:\n",
    "\n",
    "주요 모니터링 포인트:\n",
    "1. 배포 진행 상황\n",
    "   - Studio UI에서 실시간 확인\n",
    "   - 엔드포인트 상태 모니터링\n",
    "\n",
    "2. 확인 위치\n",
    "   - Deployments 메뉴\n",
    "   - Endpoints 섹션\n",
    "   - 상태 표시기\n",
    "\n",
    "3. 소요 시간\n",
    "   - 약 5-10분 예상\n",
    "   - 완료될 때까지 대기 필요\n",
    "\n",
    "4. 상태 확인\n",
    "   - 엔드포인트 생성 상태\n",
    "   - 서비스 가용성\n",
    "   - 배포 완료 여부"
   ]
  },
  {
   "cell_type": "code",
   "execution_count": 41,
   "id": "7e9e5063-4c3d-491a-a5ac-233fa1cc8be8",
   "metadata": {},
   "outputs": [
    {
     "data": {
      "text/html": [
       "<b>See <a target=\"top\" href=\"https://studio-d-igloxuzrs3z2.studio.us-east-1.sagemaker.aws/inference-experience/endpoints\">inference endpoints</a> in the Studio UI</b>"
      ],
      "text/plain": [
       "<IPython.core.display.HTML object>"
      ]
     },
     "metadata": {},
     "output_type": "display_data"
    }
   ],
   "source": [
    "# Show the inference endpoints link\n",
    "display(\n",
    "    HTML('<b>See <a target=\"top\" href=\"https://studio-{}.studio.{}.sagemaker.aws/inference-experience/endpoints\">inference endpoints</a> in the Studio UI</b>'.format(\n",
    "            domain_id, region))\n",
    ")"
   ]
  },
  {
   "cell_type": "markdown",
   "id": "be744de8-0352-4e12-8be9-241b1355bdf3",
   "metadata": {},
   "source": [
    "After the endpoint status changed from `Creating` to `InService`, the staging endpoint is fully operational. You can launch the model deployment process to the production stage by manually approving the **DeployStaging** stage of the CodePipeline pipeline. In the next section you approve the model deployment and launch the second stage of the deployment into a production endpoint."
   ]
  },
  {
   "cell_type": "markdown",
   "id": "7973f09a-b890-475b-8b94-03380494311b",
   "metadata": {},
   "source": [
    "엔드포인트 상태가 `Creating`에서 `InService`로 변경된 후, 스테이징 엔드포인트가 완전히 작동 가능한 상태가 됩니다. CodePipeline 파이프라인의 **DeployStaging** 단계를 수동으로 승인하여 프로덕션 단계로의 모델 배포 프로세스를 시작할 수 있습니다. 다음 섹션에서는 모델 배포를 승인하고 프로덕션 엔드포인트로의 두 번째 배포 단계를 시작합니다.\n",
    "\n",
    "주요 단계:\n",
    "1. 스테이징 배포 완료 확인\n",
    "   - 상태 변경 확인 (Creating → InService)\n",
    "   - 엔드포인트 작동 상태 검증\n",
    "\n",
    "2. 프로덕션 배포 준비\n",
    "   - DeployStaging 단계 승인 필요\n",
    "   - 수동 승인 프로세스\n",
    "\n",
    "3. 다음 단계\n",
    "   - 프로덕션 배포 시작\n",
    "   - 두 번째 배포 단계 실행\n",
    "\n",
    "4. 전환 과정\n",
    "   - 스테이징에서 프로덕션으로\n",
    "   - 단계적 배포 관리"
   ]
  },
  {
   "cell_type": "markdown",
   "id": "579140af-5441-47d9-bf54-da9a01b851e6",
   "metadata": {},
   "source": [
    "### Deploy the model version to production\n",
    "\n",
    "<div style=\"border: 4px solid coral; text-align: center; margin: auto;\">\n",
    "    <p style=\" text-align: center; margin: auto;\">Wait until staging endpoint status changes to InService, then continue with the following code cells.\n",
    "    </p>\n",
    "</div>"
   ]
  },
  {
   "cell_type": "markdown",
   "id": "7006ccd8-c3e3-46b4-8441-8e0d9451af65",
   "metadata": {},
   "source": [
    "### 모델 버전을 프로덕션에 배포\n",
    "\n",
    "<div style=\"border: 4px solid coral; text-align: center; margin: auto;\">\n",
    "    <p style=\" text-align: center; margin: auto;\">스테이징 엔드포인트 상태가 InService로 변경될 때까지 기다린 후, 다음 코드 셀을 계속 진행하세요.\n",
    "    </p>\n",
    "</div>\n",
    "\n",
    "주요 안내:\n",
    "1. 배포 전 필수 확인사항\n",
    "   - 스테이징 엔드포인트 상태 확인\n",
    "   - InService 상태 대기\n",
    "\n",
    "2. 진행 순서\n",
    "   - 상태 확인\n",
    "   - 코드 셀 실행\n",
    "   - 프로덕션 배포 시작\n",
    "\n",
    "3. 주의사항\n",
    "   - 상태 확인 필수\n",
    "   - 순서 준수 중요\n",
    "   - 적절한 대기 시간 필요\n",
    "\n",
    "4. 다음 단계 준비\n",
    "   - 프로덕션 배포 준비\n",
    "   - 코드 실행 대기"
   ]
  },
  {
   "cell_type": "code",
   "execution_count": 49,
   "id": "20fe6c15-c384-491b-a877-3b2e93b53ee1",
   "metadata": {},
   "outputs": [
    {
     "name": "stdout",
     "output_type": "stream",
     "text": [
      "Endpoint mlops-02-14-11-03-33-staging is InService\n"
     ]
    }
   ],
   "source": [
    "while sm.describe_endpoint(EndpointName=f'{project_name}-staging')['EndpointStatus'] != 'InService':\n",
    "    sleep(10)\n",
    "    print(f'Waiting untile the endpoint {project_name}-staging is operational')\n",
    "\n",
    "print(f'Endpoint {project_name}-staging is InService')"
   ]
  },
  {
   "cell_type": "markdown",
   "id": "67bb0911-46f9-4883-9619-9bcdd4c03a3f",
   "metadata": {},
   "source": [
    "The next code cell construct a CodePipeline approval link - click on the link to to open the CodePipeline console with the pipeline execution workflow."
   ]
  },
  {
   "cell_type": "markdown",
   "id": "ee496336-f461-43e6-83f4-4ffbf796355d",
   "metadata": {},
   "source": [
    "다음 코드 셀은 CodePipeline 승인 링크를 생성합니다 - 링크를 클릭하여 파이프라인 실행 워크플로우가 있는 CodePipeline 콘솔을 엽니다.\n",
    "\n",
    "주요 내용:\n",
    "1. 링크 생성\n",
    "   - CodePipeline 승인 링크 생성\n",
    "   - 콘솔 직접 접근 가능\n",
    "\n",
    "2. 워크플로우 확인\n",
    "   - 파이프라인 실행 상태 확인\n",
    "   - 단계별 진행 상황 모니터링\n",
    "\n",
    "3. 승인 절차\n",
    "   - 콘솔에서 직접 승인 가능\n",
    "   - 워크플로우 제어 가능\n",
    "\n",
    "4. 접근 방법\n",
    "   - 생성된 링크 클릭\n",
    "   - 파이프라인 콘솔로 이동\n",
    "   - 승인 프로세스 진행"
   ]
  },
  {
   "cell_type": "markdown",
   "id": "a87e002e-e776-4c73-adcc-5ea79d937579",
   "metadata": {},
   "source": [
    "In the **DeployStaging stage**, choose **Review** on the **ApproveDeployment** step. You might wait until `TestStaging` step completes with `Succeeded` status. \n",
    "\n",
    "<img src=\"img/deploy-staging-review.png\" alt=\"approve deployment\" width=\"800px\">\n",
    "\n",
    "In the **Review** dialog box, select **Approve** and choose **Submit**."
   ]
  },
  {
   "cell_type": "markdown",
   "id": "e83c4e25-bff5-4194-8261-b5ae97ea593b",
   "metadata": {},
   "source": [
    "**DeployStaging 단계**에서 **ApproveDeployment** 단계의 **Review**를 선택하세요. `TestStaging` 단계가 `Succeeded` 상태로 완료될 때까지 기다려야 할 수 있습니다.\n",
    "\n",
    "<img src=\"img/deploy-staging-review.png\" alt=\"배포 승인\" width=\"800px\">\n",
    "\n",
    "**Review** 대화 상자에서 **Approve**를 선택하고 **Submit**을 클릭하세요.\n",
    "\n",
    "주요 단계:\n",
    "1. 승인 절차 시작\n",
    "   - DeployStaging 단계 확인\n",
    "   - ApproveDeployment 검토\n",
    "\n",
    "2. 상태 확인\n",
    "   - TestStaging 완료 대기\n",
    "   - Succeeded 상태 확인\n",
    "\n",
    "3. 승인 실행\n",
    "   - Review 대화 상자 열기\n",
    "   - Approve 선택\n",
    "   - Submit으로 확정\n",
    "\n",
    "4. 다음 단계\n",
    "   - 승인 후 자동 진행\n",
    "   - 프로덕션 배포 시작"
   ]
  },
  {
   "cell_type": "code",
   "execution_count": 57,
   "id": "a0d199ea-5ec0-441a-b58f-be85b9a4788b",
   "metadata": {
    "tags": []
   },
   "outputs": [
    {
     "data": {
      "text/html": [
       "<b>Please approve the manual step in <a target=\"top\" href=\"https://console.aws.amazon.com/codesuite/codepipeline/pipelines/sagemaker-mlops-02-14-11-03-33-p-ca7phmcraepa-modeldeploy/view?region=us-east-1\">AWS CodePipeline</a></b>"
      ],
      "text/plain": [
       "<IPython.core.display.HTML object>"
      ]
     },
     "metadata": {},
     "output_type": "display_data"
    }
   ],
   "source": [
    "# Show the approval link\n",
    "display(\n",
    "    HTML(\n",
    "        '<b>Please approve the manual step in <a target=\"top\" href=\"https://console.aws.amazon.com/codesuite/codepipeline/pipelines/sagemaker-{}-{}-modeldeploy/view?region={}\">AWS CodePipeline</a></b>'.format(\n",
    "            project_name, project_id, region)\n",
    "    )\n",
    ")"
   ]
  },
  {
   "cell_type": "markdown",
   "id": "c8d1d564-ee56-44cb-8616-47ed6d4525a4",
   "metadata": {},
   "source": [
    "Approving the **DeployStaging** stage causes the deployment pipeline to continue and to deploy the model to the production endpoint. To view the endpoints, choose the **Deployments** > **Endpoints** in Studio UI or click on the link below."
   ]
  },
  {
   "cell_type": "markdown",
   "id": "c598e2c6-745b-47dc-9ceb-a3973848f07d",
   "metadata": {},
   "source": [
    "**DeployStaging** 단계를 승인하면 배포 파이프라인이 계속 진행되어 모델을 프로덕션 엔드포인트에 배포합니다. 엔드포인트를 보려면 Studio UI에서 **Deployments** > **Endpoints**를 선택하거나 아래 링크를 클릭하세요.\n",
    "\n",
    "주요 내용:\n",
    "1. 배포 진행\n",
    "   - DeployStaging 승인 후 자동 진행\n",
    "   - 프로덕션 엔드포인트 배포 시작\n",
    "\n",
    "2. 엔드포인트 확인 방법\n",
    "   - Studio UI 네비게이션\n",
    "   - Deployments 메뉴\n",
    "   - Endpoints 섹션 선택\n",
    "\n",
    "3. 모니터링 가능 항목\n",
    "   - 스테이징 엔드포인트 상태\n",
    "   - 프로덕션 엔드포인트 생성\n",
    "   - 배포 진행 상황\n",
    "\n",
    "4. 접근 옵션\n",
    "   - UI를 통한 확인\n",
    "   - 제공된 링크 사용\n",
    "   - 실시간 상태 모니터링"
   ]
  },
  {
   "cell_type": "code",
   "execution_count": 58,
   "id": "93d1bf81-5b82-4f11-9aa3-dc4b3adc6e3d",
   "metadata": {},
   "outputs": [
    {
     "data": {
      "text/html": [
       "<b>See <a target=\"top\" href=\"https://studio-d-igloxuzrs3z2.studio.us-east-1.sagemaker.aws/inference-experience/endpoints\">inference endpoints</a> in the Studio UI</b>"
      ],
      "text/plain": [
       "<IPython.core.display.HTML object>"
      ]
     },
     "metadata": {},
     "output_type": "display_data"
    }
   ],
   "source": [
    "# Show the inference endpoints link\n",
    "display(\n",
    "    HTML('<b>See <a target=\"top\" href=\"https://studio-{}.studio.{}.sagemaker.aws/inference-experience/endpoints\">inference endpoints</a> in the Studio UI</b>'.format(\n",
    "            domain_id, region))\n",
    ")"
   ]
  },
  {
   "cell_type": "markdown",
   "id": "39494560-27a0-49af-92b9-1caafb7c34ae",
   "metadata": {},
   "source": [
    "As your CI/CD deployment pipeline continues, you see the production endpoint in status `Creating` along with the previously deployed staging endpoint in status `InService`.\n",
    "\n",
    "After 5-10 min the deployment is completed and both endpoints are in status `InService`.\n",
    "\n",
    "Click on the link constructed by the following cell to see the endpoints that belongs to the project.\n",
    "You see that both endpoints, `staging` and `prod`, are visible in the deployment project because the project and the endpoints are connected via the metadata and resource tags."
   ]
  },
  {
   "cell_type": "markdown",
   "id": "9deaef8e-2845-4bde-a3a5-916f11d83757",
   "metadata": {},
   "source": [
    "CI/CD 배포 파이프라인이 계속 진행됨에 따라, 이전에 배포된 스테이징 엔드포인트가 `InService` 상태인 동시에 프로덕션 엔드포인트가 `Creating` 상태인 것을 확인할 수 있습니다.\n",
    "\n",
    "5-10분 후 배포가 완료되면 두 엔드포인트 모두 `InService` 상태가 됩니다.\n",
    "\n",
    "다음 셀에서 생성된 링크를 클릭하여 프로젝트에 속한 엔드포인트들을 확인하세요.\n",
    "`staging`과 `prod` 두 엔드포인트 모두 메타데이터와 리소스 태그를 통해 프로젝트와 연결되어 있기 때문에 배포 프로젝트에서 확인할 수 있습니다.\n",
    "\n",
    "주요 내용:\n",
    "1. 배포 상태\n",
    "   - 스테이징: InService\n",
    "   - 프로덕션: Creating → InService\n",
    "\n",
    "2. 소요 시간\n",
    "   - 완료까지 5-10분 소요\n",
    "   - 두 엔드포인트 모두 활성화\n",
    "\n",
    "3. 프로젝트 연계\n",
    "   - 메타데이터 연결\n",
    "   - 리소스 태그 활용\n",
    "   - 통합된 뷰 제공\n",
    "\n",
    "4. 확인 방법\n",
    "   - 생성된 링크로 접근\n",
    "   - 두 환경 모두 확인\n",
    "   - 상태 모니터링 가능"
   ]
  },
  {
   "cell_type": "code",
   "execution_count": 59,
   "id": "0f129ca6-bb14-4544-9547-7c524d8d16ab",
   "metadata": {},
   "outputs": [
    {
     "data": {
      "text/html": [
       "<b>See <a target=\"top\" href=\"https://studio-d-igloxuzrs3z2.studio.us-east-1.sagemaker.aws/projects/mlops-02-14-11-03-33/endpoints\">endpoints of the project mlops-02-14-11-03-33</a> in the Studio UI</b>"
      ],
      "text/plain": [
       "<IPython.core.display.HTML object>"
      ]
     },
     "metadata": {},
     "output_type": "display_data"
    }
   ],
   "source": [
    "# Show the project link\n",
    "display(\n",
    "    HTML('<b>See <a target=\"top\" href=\"https://studio-{}.studio.{}.sagemaker.aws/projects/{}/endpoints\">endpoints of the project {}</a> in the Studio UI</b>'.format(\n",
    "            domain_id, region, project_name, project_name))\n",
    ")"
   ]
  },
  {
   "cell_type": "markdown",
   "id": "477ace97-ba05-44bc-bc36-38df670fafb9",
   "metadata": {},
   "source": [
    "## Summary\n",
    "In this notebook you implemented an automated CI/CD deployment pipeline with the following features:\n",
    "- use CloudFormation templates for SageMaker real-time inference endpoint deployment\n",
    "- model approval in the model registry launches the model deployment pipeline\n",
    "- model deployment pipeline contains two stages, staging and production with automated tests for the staging endpoint and manual approval for the production deployment, and final deployment of the production endpoint."
   ]
  },
  {
   "cell_type": "markdown",
   "id": "1115c9b5-0783-4d45-83b3-269a9b157e37",
   "metadata": {},
   "source": [
    "## 요약\n",
    "이 노트북에서는 다음과 같은 기능을 갖춘 자동화된 CI/CD 배포 파이프라인을 구현했습니다:\n",
    "- SageMaker 실시간 추론 엔드포인트 배포를 위한 CloudFormation 템플릿 사용\n",
    "- 모델 레지스트리의 모델 승인이 모델 배포 파이프라인을 시작\n",
    "- 모델 배포 파이프라인은 다음 두 단계를 포함:\n",
    "  - 스테이징 단계: 자동화된 테스트 포함\n",
    "  - 프로덕션 단계: 수동 승인 및 최종 프로덕션 엔드포인트 배포\n",
    "\n",
    "주요 구현 사항:\n",
    "1. 인프라 자동화\n",
    "   - CloudFormation 템플릿 활용\n",
    "   - 엔드포인트 자동 구성\n",
    "\n",
    "2. 자동화된 워크플로우\n",
    "   - 모델 승인 기반 트리거\n",
    "   - 단계별 배포 자동화\n",
    "\n",
    "3. 이중 환경 구성\n",
    "   - 스테이징 환경 테스트\n",
    "   - 프로덕션 환경 보호\n",
    "\n",
    "4. 품질 관리\n",
    "   - 자동화된 테스트\n",
    "   - 수동 승인 프로세스\n",
    "   - 안전한 프로덕션 배포"
   ]
  },
  {
   "cell_type": "markdown",
   "id": "39667c44-9e76-4799-8f65-8fe92fbab67c",
   "metadata": {},
   "source": [
    "---"
   ]
  },
  {
   "cell_type": "markdown",
   "id": "76a45818-0bb7-48b1-bfc6-3c701f6eaa63",
   "metadata": {},
   "source": [
    "## Clean-up\n",
    "<div style=\"border: 4px solid coral; text-align: center; margin: auto;\">\n",
    "    <p style=\" text-align: center; margin: auto;\">\n",
    "    If you're going to run the step 6 notebook (Data and Model Quality Monitoring), you need to keep at least one of the endpoints. If you finish the workshop here and don't run the step 6 notebook, navigate to the <b>clean-up notebook (99-clean-up.ipynb)</b> and follow the clean-up instructions to avoid charges in your AWS account.\n",
    "    <br>\n",
    "    <br>\n",
    "    You don't need to run the clean-up if you're using an AWS-provided AWS account.\n",
    "    </p>\n",
    "</div>"
   ]
  },
  {
   "cell_type": "markdown",
   "id": "51023094-905a-4dc3-ae36-f8fb20ec3330",
   "metadata": {},
   "source": [
    "## Continue with the step 6\n",
    "open the step 6 [notebook](06-monitoring.ipynb)."
   ]
  },
  {
   "cell_type": "markdown",
   "id": "c9b9d484-5022-4816-8a1b-89e27ffadc66",
   "metadata": {},
   "source": [
    "## Further development ideas for your real-world projects\n",
    "- Add end-to-end data encryption using AWS KMS keys\n",
    "- Create a [custom SageMaker project template](https://docs.aws.amazon.com/sagemaker/latest/dg/sagemaker-projects-templates-custom.html) for model deployment to cover your specific project requirements\n",
    "- Add [multi-account model deployment](https://aws.amazon.com/blogs/machine-learning/multi-account-model-deployment-with-amazon-sagemaker-pipelines/) to your ML workflow\n",
    "- Add automated model tests to the placeholder in the CodePipeline pipeline\n",
    "- Use [Amazon SageMaker Inference Recommender](https://docs.aws.amazon.com/sagemaker/latest/dg/inference-recommender.html) to run automated load tests for your inference endpoints and to select the best instance type and configuration"
   ]
  },
  {
   "cell_type": "markdown",
   "id": "cbed7d41-921d-4174-a177-33c3acc95049",
   "metadata": {},
   "source": [
    "## Additional resources\n",
    "- [Deploy a Machine Learning Model to a Real-Time Inference Endpoint](https://aws.amazon.com/getting-started/hands-on/machine-learning-tutorial-deploy-model-to-real-time-inference-endpoint/)\n",
    "- [SageMaker MLOps Project Walkthrough](https://docs.aws.amazon.com/sagemaker/latest/dg/sagemaker-projects-walkthrough.html)\n",
    "- [Amazon SageMaker Pipelines lab in SageMaker Immersion Day](https://catalog.us-east-1.prod.workshops.aws/workshops/63069e26-921c-4ce1-9cc7-dd882ff62575/en-US/lab6)\n",
    "- [Amazon SageMaker secure MLOps](https://github.com/aws-samples/amazon-sagemaker-secure-mlops)\n",
    "- [Testing approaches for Amazon SageMaker ML models](https://aws.amazon.com/blogs/machine-learning/testing-approaches-for-amazon-sagemaker-ml-models/)\n",
    "- [Model hosting patterns in Amazon SageMaker blog series](https://aws.amazon.com/blogs/machine-learning/model-hosting-patterns-in-amazon-sagemaker-part-1-common-design-patterns-for-building-ml-applications-on-amazon-sagemaker/)\n",
    "- [Take advantage of advanced deployment strategies using Amazon SageMaker deployment guardrails](https://aws.amazon.com/blogs/machine-learning/take-advantage-of-advanced-deployment-strategies-using-amazon-sagemaker-deployment-guardrails/)\n",
    "- [MLOps deployment best practices for real-time inference model serving endpoints with Amazon SageMaker](https://aws.amazon.com/blogs/machine-learning/mlops-deployment-best-practices-for-real-time-inference-model-serving-endpoints-with-amazon-sagemaker/)"
   ]
  },
  {
   "cell_type": "markdown",
   "id": "ca846f6c-3645-493a-a923-7457b2e32a5f",
   "metadata": {},
   "source": [
    "# Shutdown kernel"
   ]
  },
  {
   "cell_type": "code",
   "execution_count": null,
   "id": "f60e56c7-b568-4208-818c-42634870f690",
   "metadata": {},
   "outputs": [],
   "source": [
    "%%html\n",
    "\n",
    "<p><b>Shutting down your kernel for this notebook to release resources.</b></p>\n",
    "<button class=\"sm-command-button\" data-commandlinker-command=\"kernelmenu:shutdown\" style=\"display:none;\">Shutdown Kernel</button>\n",
    "        \n",
    "<script>\n",
    "try {\n",
    "    els = document.getElementsByClassName(\"sm-command-button\");\n",
    "    els[0].click();\n",
    "}\n",
    "catch(err) {\n",
    "    // NoOp\n",
    "}    \n",
    "</script>"
   ]
  }
 ],
 "metadata": {
  "availableInstances": [
   {
    "_defaultOrder": 0,
    "_isFastLaunch": true,
    "category": "General purpose",
    "gpuNum": 0,
    "hideHardwareSpecs": false,
    "memoryGiB": 4,
    "name": "ml.t3.medium",
    "vcpuNum": 2
   },
   {
    "_defaultOrder": 1,
    "_isFastLaunch": false,
    "category": "General purpose",
    "gpuNum": 0,
    "hideHardwareSpecs": false,
    "memoryGiB": 8,
    "name": "ml.t3.large",
    "vcpuNum": 2
   },
   {
    "_defaultOrder": 2,
    "_isFastLaunch": false,
    "category": "General purpose",
    "gpuNum": 0,
    "hideHardwareSpecs": false,
    "memoryGiB": 16,
    "name": "ml.t3.xlarge",
    "vcpuNum": 4
   },
   {
    "_defaultOrder": 3,
    "_isFastLaunch": false,
    "category": "General purpose",
    "gpuNum": 0,
    "hideHardwareSpecs": false,
    "memoryGiB": 32,
    "name": "ml.t3.2xlarge",
    "vcpuNum": 8
   },
   {
    "_defaultOrder": 4,
    "_isFastLaunch": true,
    "category": "General purpose",
    "gpuNum": 0,
    "hideHardwareSpecs": false,
    "memoryGiB": 8,
    "name": "ml.m5.large",
    "vcpuNum": 2
   },
   {
    "_defaultOrder": 5,
    "_isFastLaunch": false,
    "category": "General purpose",
    "gpuNum": 0,
    "hideHardwareSpecs": false,
    "memoryGiB": 16,
    "name": "ml.m5.xlarge",
    "vcpuNum": 4
   },
   {
    "_defaultOrder": 6,
    "_isFastLaunch": false,
    "category": "General purpose",
    "gpuNum": 0,
    "hideHardwareSpecs": false,
    "memoryGiB": 32,
    "name": "ml.m5.2xlarge",
    "vcpuNum": 8
   },
   {
    "_defaultOrder": 7,
    "_isFastLaunch": false,
    "category": "General purpose",
    "gpuNum": 0,
    "hideHardwareSpecs": false,
    "memoryGiB": 64,
    "name": "ml.m5.4xlarge",
    "vcpuNum": 16
   },
   {
    "_defaultOrder": 8,
    "_isFastLaunch": false,
    "category": "General purpose",
    "gpuNum": 0,
    "hideHardwareSpecs": false,
    "memoryGiB": 128,
    "name": "ml.m5.8xlarge",
    "vcpuNum": 32
   },
   {
    "_defaultOrder": 9,
    "_isFastLaunch": false,
    "category": "General purpose",
    "gpuNum": 0,
    "hideHardwareSpecs": false,
    "memoryGiB": 192,
    "name": "ml.m5.12xlarge",
    "vcpuNum": 48
   },
   {
    "_defaultOrder": 10,
    "_isFastLaunch": false,
    "category": "General purpose",
    "gpuNum": 0,
    "hideHardwareSpecs": false,
    "memoryGiB": 256,
    "name": "ml.m5.16xlarge",
    "vcpuNum": 64
   },
   {
    "_defaultOrder": 11,
    "_isFastLaunch": false,
    "category": "General purpose",
    "gpuNum": 0,
    "hideHardwareSpecs": false,
    "memoryGiB": 384,
    "name": "ml.m5.24xlarge",
    "vcpuNum": 96
   },
   {
    "_defaultOrder": 12,
    "_isFastLaunch": false,
    "category": "General purpose",
    "gpuNum": 0,
    "hideHardwareSpecs": false,
    "memoryGiB": 8,
    "name": "ml.m5d.large",
    "vcpuNum": 2
   },
   {
    "_defaultOrder": 13,
    "_isFastLaunch": false,
    "category": "General purpose",
    "gpuNum": 0,
    "hideHardwareSpecs": false,
    "memoryGiB": 16,
    "name": "ml.m5d.xlarge",
    "vcpuNum": 4
   },
   {
    "_defaultOrder": 14,
    "_isFastLaunch": false,
    "category": "General purpose",
    "gpuNum": 0,
    "hideHardwareSpecs": false,
    "memoryGiB": 32,
    "name": "ml.m5d.2xlarge",
    "vcpuNum": 8
   },
   {
    "_defaultOrder": 15,
    "_isFastLaunch": false,
    "category": "General purpose",
    "gpuNum": 0,
    "hideHardwareSpecs": false,
    "memoryGiB": 64,
    "name": "ml.m5d.4xlarge",
    "vcpuNum": 16
   },
   {
    "_defaultOrder": 16,
    "_isFastLaunch": false,
    "category": "General purpose",
    "gpuNum": 0,
    "hideHardwareSpecs": false,
    "memoryGiB": 128,
    "name": "ml.m5d.8xlarge",
    "vcpuNum": 32
   },
   {
    "_defaultOrder": 17,
    "_isFastLaunch": false,
    "category": "General purpose",
    "gpuNum": 0,
    "hideHardwareSpecs": false,
    "memoryGiB": 192,
    "name": "ml.m5d.12xlarge",
    "vcpuNum": 48
   },
   {
    "_defaultOrder": 18,
    "_isFastLaunch": false,
    "category": "General purpose",
    "gpuNum": 0,
    "hideHardwareSpecs": false,
    "memoryGiB": 256,
    "name": "ml.m5d.16xlarge",
    "vcpuNum": 64
   },
   {
    "_defaultOrder": 19,
    "_isFastLaunch": false,
    "category": "General purpose",
    "gpuNum": 0,
    "hideHardwareSpecs": false,
    "memoryGiB": 384,
    "name": "ml.m5d.24xlarge",
    "vcpuNum": 96
   },
   {
    "_defaultOrder": 20,
    "_isFastLaunch": false,
    "category": "General purpose",
    "gpuNum": 0,
    "hideHardwareSpecs": true,
    "memoryGiB": 0,
    "name": "ml.geospatial.interactive",
    "supportedImageNames": [
     "sagemaker-geospatial-v1-0"
    ],
    "vcpuNum": 0
   },
   {
    "_defaultOrder": 21,
    "_isFastLaunch": true,
    "category": "Compute optimized",
    "gpuNum": 0,
    "hideHardwareSpecs": false,
    "memoryGiB": 4,
    "name": "ml.c5.large",
    "vcpuNum": 2
   },
   {
    "_defaultOrder": 22,
    "_isFastLaunch": false,
    "category": "Compute optimized",
    "gpuNum": 0,
    "hideHardwareSpecs": false,
    "memoryGiB": 8,
    "name": "ml.c5.xlarge",
    "vcpuNum": 4
   },
   {
    "_defaultOrder": 23,
    "_isFastLaunch": false,
    "category": "Compute optimized",
    "gpuNum": 0,
    "hideHardwareSpecs": false,
    "memoryGiB": 16,
    "name": "ml.c5.2xlarge",
    "vcpuNum": 8
   },
   {
    "_defaultOrder": 24,
    "_isFastLaunch": false,
    "category": "Compute optimized",
    "gpuNum": 0,
    "hideHardwareSpecs": false,
    "memoryGiB": 32,
    "name": "ml.c5.4xlarge",
    "vcpuNum": 16
   },
   {
    "_defaultOrder": 25,
    "_isFastLaunch": false,
    "category": "Compute optimized",
    "gpuNum": 0,
    "hideHardwareSpecs": false,
    "memoryGiB": 72,
    "name": "ml.c5.9xlarge",
    "vcpuNum": 36
   },
   {
    "_defaultOrder": 26,
    "_isFastLaunch": false,
    "category": "Compute optimized",
    "gpuNum": 0,
    "hideHardwareSpecs": false,
    "memoryGiB": 96,
    "name": "ml.c5.12xlarge",
    "vcpuNum": 48
   },
   {
    "_defaultOrder": 27,
    "_isFastLaunch": false,
    "category": "Compute optimized",
    "gpuNum": 0,
    "hideHardwareSpecs": false,
    "memoryGiB": 144,
    "name": "ml.c5.18xlarge",
    "vcpuNum": 72
   },
   {
    "_defaultOrder": 28,
    "_isFastLaunch": false,
    "category": "Compute optimized",
    "gpuNum": 0,
    "hideHardwareSpecs": false,
    "memoryGiB": 192,
    "name": "ml.c5.24xlarge",
    "vcpuNum": 96
   },
   {
    "_defaultOrder": 29,
    "_isFastLaunch": true,
    "category": "Accelerated computing",
    "gpuNum": 1,
    "hideHardwareSpecs": false,
    "memoryGiB": 16,
    "name": "ml.g4dn.xlarge",
    "vcpuNum": 4
   },
   {
    "_defaultOrder": 30,
    "_isFastLaunch": false,
    "category": "Accelerated computing",
    "gpuNum": 1,
    "hideHardwareSpecs": false,
    "memoryGiB": 32,
    "name": "ml.g4dn.2xlarge",
    "vcpuNum": 8
   },
   {
    "_defaultOrder": 31,
    "_isFastLaunch": false,
    "category": "Accelerated computing",
    "gpuNum": 1,
    "hideHardwareSpecs": false,
    "memoryGiB": 64,
    "name": "ml.g4dn.4xlarge",
    "vcpuNum": 16
   },
   {
    "_defaultOrder": 32,
    "_isFastLaunch": false,
    "category": "Accelerated computing",
    "gpuNum": 1,
    "hideHardwareSpecs": false,
    "memoryGiB": 128,
    "name": "ml.g4dn.8xlarge",
    "vcpuNum": 32
   },
   {
    "_defaultOrder": 33,
    "_isFastLaunch": false,
    "category": "Accelerated computing",
    "gpuNum": 4,
    "hideHardwareSpecs": false,
    "memoryGiB": 192,
    "name": "ml.g4dn.12xlarge",
    "vcpuNum": 48
   },
   {
    "_defaultOrder": 34,
    "_isFastLaunch": false,
    "category": "Accelerated computing",
    "gpuNum": 1,
    "hideHardwareSpecs": false,
    "memoryGiB": 256,
    "name": "ml.g4dn.16xlarge",
    "vcpuNum": 64
   },
   {
    "_defaultOrder": 35,
    "_isFastLaunch": false,
    "category": "Accelerated computing",
    "gpuNum": 1,
    "hideHardwareSpecs": false,
    "memoryGiB": 61,
    "name": "ml.p3.2xlarge",
    "vcpuNum": 8
   },
   {
    "_defaultOrder": 36,
    "_isFastLaunch": false,
    "category": "Accelerated computing",
    "gpuNum": 4,
    "hideHardwareSpecs": false,
    "memoryGiB": 244,
    "name": "ml.p3.8xlarge",
    "vcpuNum": 32
   },
   {
    "_defaultOrder": 37,
    "_isFastLaunch": false,
    "category": "Accelerated computing",
    "gpuNum": 8,
    "hideHardwareSpecs": false,
    "memoryGiB": 488,
    "name": "ml.p3.16xlarge",
    "vcpuNum": 64
   },
   {
    "_defaultOrder": 38,
    "_isFastLaunch": false,
    "category": "Accelerated computing",
    "gpuNum": 8,
    "hideHardwareSpecs": false,
    "memoryGiB": 768,
    "name": "ml.p3dn.24xlarge",
    "vcpuNum": 96
   },
   {
    "_defaultOrder": 39,
    "_isFastLaunch": false,
    "category": "Memory Optimized",
    "gpuNum": 0,
    "hideHardwareSpecs": false,
    "memoryGiB": 16,
    "name": "ml.r5.large",
    "vcpuNum": 2
   },
   {
    "_defaultOrder": 40,
    "_isFastLaunch": false,
    "category": "Memory Optimized",
    "gpuNum": 0,
    "hideHardwareSpecs": false,
    "memoryGiB": 32,
    "name": "ml.r5.xlarge",
    "vcpuNum": 4
   },
   {
    "_defaultOrder": 41,
    "_isFastLaunch": false,
    "category": "Memory Optimized",
    "gpuNum": 0,
    "hideHardwareSpecs": false,
    "memoryGiB": 64,
    "name": "ml.r5.2xlarge",
    "vcpuNum": 8
   },
   {
    "_defaultOrder": 42,
    "_isFastLaunch": false,
    "category": "Memory Optimized",
    "gpuNum": 0,
    "hideHardwareSpecs": false,
    "memoryGiB": 128,
    "name": "ml.r5.4xlarge",
    "vcpuNum": 16
   },
   {
    "_defaultOrder": 43,
    "_isFastLaunch": false,
    "category": "Memory Optimized",
    "gpuNum": 0,
    "hideHardwareSpecs": false,
    "memoryGiB": 256,
    "name": "ml.r5.8xlarge",
    "vcpuNum": 32
   },
   {
    "_defaultOrder": 44,
    "_isFastLaunch": false,
    "category": "Memory Optimized",
    "gpuNum": 0,
    "hideHardwareSpecs": false,
    "memoryGiB": 384,
    "name": "ml.r5.12xlarge",
    "vcpuNum": 48
   },
   {
    "_defaultOrder": 45,
    "_isFastLaunch": false,
    "category": "Memory Optimized",
    "gpuNum": 0,
    "hideHardwareSpecs": false,
    "memoryGiB": 512,
    "name": "ml.r5.16xlarge",
    "vcpuNum": 64
   },
   {
    "_defaultOrder": 46,
    "_isFastLaunch": false,
    "category": "Memory Optimized",
    "gpuNum": 0,
    "hideHardwareSpecs": false,
    "memoryGiB": 768,
    "name": "ml.r5.24xlarge",
    "vcpuNum": 96
   },
   {
    "_defaultOrder": 47,
    "_isFastLaunch": false,
    "category": "Accelerated computing",
    "gpuNum": 1,
    "hideHardwareSpecs": false,
    "memoryGiB": 16,
    "name": "ml.g5.xlarge",
    "vcpuNum": 4
   },
   {
    "_defaultOrder": 48,
    "_isFastLaunch": false,
    "category": "Accelerated computing",
    "gpuNum": 1,
    "hideHardwareSpecs": false,
    "memoryGiB": 32,
    "name": "ml.g5.2xlarge",
    "vcpuNum": 8
   },
   {
    "_defaultOrder": 49,
    "_isFastLaunch": false,
    "category": "Accelerated computing",
    "gpuNum": 1,
    "hideHardwareSpecs": false,
    "memoryGiB": 64,
    "name": "ml.g5.4xlarge",
    "vcpuNum": 16
   },
   {
    "_defaultOrder": 50,
    "_isFastLaunch": false,
    "category": "Accelerated computing",
    "gpuNum": 1,
    "hideHardwareSpecs": false,
    "memoryGiB": 128,
    "name": "ml.g5.8xlarge",
    "vcpuNum": 32
   },
   {
    "_defaultOrder": 51,
    "_isFastLaunch": false,
    "category": "Accelerated computing",
    "gpuNum": 1,
    "hideHardwareSpecs": false,
    "memoryGiB": 256,
    "name": "ml.g5.16xlarge",
    "vcpuNum": 64
   },
   {
    "_defaultOrder": 52,
    "_isFastLaunch": false,
    "category": "Accelerated computing",
    "gpuNum": 4,
    "hideHardwareSpecs": false,
    "memoryGiB": 192,
    "name": "ml.g5.12xlarge",
    "vcpuNum": 48
   },
   {
    "_defaultOrder": 53,
    "_isFastLaunch": false,
    "category": "Accelerated computing",
    "gpuNum": 4,
    "hideHardwareSpecs": false,
    "memoryGiB": 384,
    "name": "ml.g5.24xlarge",
    "vcpuNum": 96
   },
   {
    "_defaultOrder": 54,
    "_isFastLaunch": false,
    "category": "Accelerated computing",
    "gpuNum": 8,
    "hideHardwareSpecs": false,
    "memoryGiB": 768,
    "name": "ml.g5.48xlarge",
    "vcpuNum": 192
   },
   {
    "_defaultOrder": 55,
    "_isFastLaunch": false,
    "category": "Accelerated computing",
    "gpuNum": 8,
    "hideHardwareSpecs": false,
    "memoryGiB": 1152,
    "name": "ml.p4d.24xlarge",
    "vcpuNum": 96
   },
   {
    "_defaultOrder": 56,
    "_isFastLaunch": false,
    "category": "Accelerated computing",
    "gpuNum": 8,
    "hideHardwareSpecs": false,
    "memoryGiB": 1152,
    "name": "ml.p4de.24xlarge",
    "vcpuNum": 96
   },
   {
    "_defaultOrder": 57,
    "_isFastLaunch": false,
    "category": "Accelerated computing",
    "gpuNum": 0,
    "hideHardwareSpecs": false,
    "memoryGiB": 32,
    "name": "ml.trn1.2xlarge",
    "vcpuNum": 8
   },
   {
    "_defaultOrder": 58,
    "_isFastLaunch": false,
    "category": "Accelerated computing",
    "gpuNum": 0,
    "hideHardwareSpecs": false,
    "memoryGiB": 512,
    "name": "ml.trn1.32xlarge",
    "vcpuNum": 128
   },
   {
    "_defaultOrder": 59,
    "_isFastLaunch": false,
    "category": "Accelerated computing",
    "gpuNum": 0,
    "hideHardwareSpecs": false,
    "memoryGiB": 512,
    "name": "ml.trn1n.32xlarge",
    "vcpuNum": 128
   }
  ],
  "instance_type": "ml.t3.medium",
  "kernelspec": {
   "display_name": "Python 3 (ipykernel)",
   "language": "python",
   "name": "python3"
  },
  "language_info": {
   "codemirror_mode": {
    "name": "ipython",
    "version": 3
   },
   "file_extension": ".py",
   "mimetype": "text/x-python",
   "name": "python",
   "nbconvert_exporter": "python",
   "pygments_lexer": "ipython3",
   "version": "3.12.9"
  }
 },
 "nbformat": 4,
 "nbformat_minor": 5
}
