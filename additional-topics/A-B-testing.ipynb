{
 "cells": [
  {
   "cell_type": "markdown",
   "id": "d713160e-39df-4d13-98ac-2c4f779b7d7b",
   "metadata": {},
   "source": [
    "# Add A/B testing of the models"
   ]
  },
  {
   "cell_type": "code",
   "execution_count": null,
   "id": "6f1eb3c8-0911-491d-a7d3-db5dffcc32a1",
   "metadata": {},
   "outputs": [],
   "source": []
  },
  {
   "cell_type": "markdown",
   "id": "c8fadcae-5bfe-47b3-91ee-6374eaa09512",
   "metadata": {},
   "source": [
    "## Prerequisites\n",
    "To run this notebook you must have:\n",
    "1. Complete the **Hyperparameter optimization** section from the [`02-sagemaker-containers`](../02-sagemaker-containers.ipynb) notebook\n",
    "\n",
    "Alternatively you can create a new model that you would like to A/B test against the model trained by the [`step 3`](../03-sagemaker-pipeline.ipynb) pipeline."
   ]
  },
  {
   "cell_type": "code",
   "execution_count": null,
   "id": "0b5906db-2b5b-4980-9f6b-fdb8dcc552d1",
   "metadata": {},
   "outputs": [],
   "source": []
  },
  {
   "cell_type": "code",
   "execution_count": null,
   "id": "dfbc3aae-964c-42d1-bf88-990bd7e87bd4",
   "metadata": {},
   "outputs": [],
   "source": []
  },
  {
   "cell_type": "code",
   "execution_count": null,
   "id": "ccb91061-03f1-4d98-9609-95224f12de71",
   "metadata": {},
   "outputs": [],
   "source": []
  },
  {
   "cell_type": "code",
   "execution_count": 3,
   "id": "2a29a30a-f515-432a-852d-1978b7a8513c",
   "metadata": {
    "tags": []
   },
   "outputs": [
    {
     "name": "stdout",
     "output_type": "stream",
     "text": [
      "Stored variables and their in-db values:\n",
      "baseline_s3_url                        -> 's3://sagemaker-us-east-1-906545278380/from-idea-t\n",
      "bucket_name                            -> 'sagemaker-us-east-1-906545278380'\n",
      "bucket_prefix                          -> 'from-idea-to-prod/xgboost'\n",
      "domain_id                              -> 'd-hrcfizeddzyj'\n",
      "evaluation_s3_url                      -> 's3://sagemaker-us-east-1-906545278380/from-idea-t\n",
      "experiment_name                        -> 'from-idea-to-prod-experiment-18-22-41-27'\n",
      "initialized                            -> True\n",
      "input_s3_url                           -> 's3://sagemaker-us-east-1-906545278380/from-idea-t\n",
      "model_package_group_name               -> 'from-idea-to-prod-model-group'\n",
      "output_s3_url                          -> 's3://sagemaker-us-east-1-906545278380/from-idea-t\n",
      "prediction_baseline_s3_url             -> 's3://sagemaker-us-east-1-906545278380/from-idea-t\n",
      "region                                 -> 'us-east-1'\n",
      "sm_role                                -> 'arn:aws:iam::906545278380:role/service-role/Amazo\n",
      "target_col                             -> 'y'\n",
      "test_s3_url                            -> 's3://sagemaker-us-east-1-906545278380/from-idea-t\n",
      "train_s3_url                           -> 's3://sagemaker-us-east-1-906545278380/from-idea-t\n",
      "training_job_name                      -> 'from-idea-to-prod-training-2022-12-16-21-36-33-53\n",
      "validation_s3_url                      -> 's3://sagemaker-us-east-1-906545278380/from-idea-t\n"
     ]
    }
   ],
   "source": [
    "%store -r \n",
    "\n",
    "%store\n",
    "\n",
    "try:\n",
    "    initialized\n",
    "except NameError:\n",
    "    print(\"+++++++++++++++++++++++++++++++++++++++++++++++++\")\n",
    "    print(\"[ERROR] YOU HAVE TO RUN 00-start-here notebook   \")\n",
    "    print(\"+++++++++++++++++++++++++++++++++++++++++++++++++\")"
   ]
  },
  {
   "cell_type": "code",
   "execution_count": null,
   "id": "4e684e72-21ba-4ded-b6c6-2eccedb8d008",
   "metadata": {},
   "outputs": [],
   "source": []
  },
  {
   "cell_type": "markdown",
   "id": "a54dbde5-15a2-4cf1-b2a8-6874fe36d6da",
   "metadata": {},
   "source": [
    "## Further development ideas for your real-world projects"
   ]
  },
  {
   "cell_type": "markdown",
   "id": "4b5b8d21-26cc-49a8-a4f3-51d911c734d3",
   "metadata": {},
   "source": [
    "## Additional resources\n",
    "- [Safely validate models in production](https://docs.aws.amazon.com/sagemaker/latest/dg/model-validation.html)\n",
    "- [A/B Testing with Amazon SageMaker](https://sagemaker-examples.readthedocs.io/en/latest/sagemaker_endpoints/a_b_testing/a_b_testing.html)\n",
    "- [A/B Testing ML models in production using Amazon SageMaker](https://aws.amazon.com/blogs/machine-learning/a-b-testing-ml-models-in-production-using-amazon-sagemaker/)"
   ]
  },
  {
   "cell_type": "markdown",
   "id": "07855d7c-b8c5-4dcb-92dd-827826598bd4",
   "metadata": {
    "tags": []
   },
   "source": [
    "# Shutdown kernel"
   ]
  },
  {
   "cell_type": "code",
   "execution_count": null,
   "id": "839acc36-64ce-4a05-b15b-2c203e6184c1",
   "metadata": {},
   "outputs": [],
   "source": [
    "%%html\n",
    "\n",
    "<p><b>Shutting down your kernel for this notebook to release resources.</b></p>\n",
    "<button class=\"sm-command-button\" data-commandlinker-command=\"kernelmenu:shutdown\" style=\"display:none;\">Shutdown Kernel</button>\n",
    "        \n",
    "<script>\n",
    "try {\n",
    "    els = document.getElementsByClassName(\"sm-command-button\");\n",
    "    els[0].click();\n",
    "}\n",
    "catch(err) {\n",
    "    // NoOp\n",
    "}    \n",
    "</script>"
   ]
  }
 ],
 "metadata": {
  "instance_type": "ml.t3.medium",
  "kernelspec": {
   "display_name": "Python 3 (Data Science)",
   "language": "python",
   "name": "python3__SAGEMAKER_INTERNAL__arn:aws:sagemaker:us-east-1:081325390199:image/datascience-1.0"
  },
  "language_info": {
   "codemirror_mode": {
    "name": "ipython",
    "version": 3
   },
   "file_extension": ".py",
   "mimetype": "text/x-python",
   "name": "python",
   "nbconvert_exporter": "python",
   "pygments_lexer": "ipython3",
   "version": "3.7.10"
  }
 },
 "nbformat": 4,
 "nbformat_minor": 5
}
